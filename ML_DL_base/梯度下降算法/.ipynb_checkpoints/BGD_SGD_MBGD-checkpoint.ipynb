{
 "cells": [
  {
   "cell_type": "markdown",
   "metadata": {},
   "source": [
    "批量梯度下降算法：<br/>\n",
    "优点：<br/>\n",
    "1)可以使用固定的学习率，不必担心学习率衰减问题的出现<br/>\n",
    "2)由于每次更新是利用所有样本，因此下降方向更准确<br/>\n",
    "3)利用向量化实现了并行<br/>\n",
    "4)学习曲线较平稳<br/>\n",
    "缺点：<br/>\n",
    "计算速度较慢"
   ]
  },
  {
   "cell_type": "markdown",
   "metadata": {},
   "source": [
    "随机梯度下降：<br/>\n",
    "优点：<br/>\n",
    "1)训练过程加入了噪声，因此泛化性能更好<br/>\n",
    "2)计算速度较快<br/>\n",
    "缺点：<br/>\n",
    "1)可能不收敛，在极小值附近震荡<br/>\n",
    "2)不能采用向量化，学习过程较慢"
   ]
  },
  {
   "cell_type": "markdown",
   "metadata": {},
   "source": [
    "小批量梯度下降：<br/>\n",
    "优点：<br/>\n",
    "1)可以利用向量化提升学习速度<br/>\n",
    "2)训练过程较平稳（居中）<br/>\n",
    "缺点：<br/>\n",
    "一般需要配合学习率衰减进行训练"
   ]
  },
  {
   "cell_type": "code",
   "execution_count": null,
   "metadata": {},
   "outputs": [],
   "source": []
  }
 ],
 "metadata": {
  "kernelspec": {
   "display_name": "Python 3",
   "language": "python",
   "name": "python3"
  },
  "language_info": {
   "codemirror_mode": {
    "name": "ipython",
    "version": 3
   },
   "file_extension": ".py",
   "mimetype": "text/x-python",
   "name": "python",
   "nbconvert_exporter": "python",
   "pygments_lexer": "ipython3",
   "version": "3.7.6"
  }
 },
 "nbformat": 4,
 "nbformat_minor": 4
}
