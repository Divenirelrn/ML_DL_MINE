{
 "cells": [
  {
   "cell_type": "markdown",
   "metadata": {},
   "source": [
    "gcc(GNU Compiler Collection)，是一个能编译多种语言的编译器，包括c,c++,java,pascal等"
   ]
  },
  {
   "cell_type": "markdown",
   "metadata": {},
   "source": [
    "gcc支持多种硬件平台，如ARM,X86;能够跨平台，支持交叉编译"
   ]
  },
  {
   "cell_type": "markdown",
   "metadata": {},
   "source": [
    "gcc实际上是一个工具链，支持预编译（预处理）、编译、汇编、链接。编译的过程：<br/>\n",
    "预处理(.i)：将头文件、宏定义展开<br/>\n",
    "编译（.s）：根据不同语言调用不同工具，如c语言调用ccl<br/>\n",
    "汇编（.o）:生成可重定位的目标文件，重定位能够将源代码的代码、变量重定位为内存具体地址<br/>\n",
    "链接（.exe, .elf）：链接依赖与动态库，生成可执行文件"
   ]
  },
  {
   "cell_type": "markdown",
   "metadata": {},
   "source": [
    "gcc选项：<br/>\n",
    "-E:只进行预处理，gcc -E hello.c -o hello.i<br/>\n",
    "-S:对预处理文件进行编译，生成汇编文件，gcc -S hello.i -o hello.s<br/>\n",
    "-c:对汇编文件进行编译，生成目标文件，gcc -c hello.s -o hello.o<br/>\n",
    "-o:产生目标，gcc hello.o -o hello"
   ]
  },
  {
   "cell_type": "markdown",
   "metadata": {},
   "source": [
    "-Wall:对源文件有问题的地方发出警告<br/>\n",
    "-Idir:指定头文件搜索路径<br/>\n",
    "-Ldir:显式指定库路径<br/>\n",
    "-llib:指定库名"
   ]
  },
  {
   "cell_type": "markdown",
   "metadata": {},
   "source": [
    "-lpthread:编译多线程代码时一般需要加上这个参数"
   ]
  },
  {
   "cell_type": "markdown",
   "metadata": {},
   "source": [
    "生成静态库：<br/>\n",
    "1)首先生成.o文件<br/>\n",
    "2)将.o文件打包成静态库：ar rcs libhello.a hello.o<br/>\n",
    "3)使用：gcc -Wall main.c libhello.a -o main<br/>\n",
    "或：gcc -Wall -L. main.c -o main -lhello"
   ]
  },
  {
   "cell_type": "markdown",
   "metadata": {},
   "source": [
    "生成共享库：<br/>\n",
    "1)首先生成.o文件<br/>\n",
    "2)生成共享库：gcc -shared -fPIC hello.o -o libhelo.so<br/>\n",
    "3)使用：gcc -Wall main.o -o main -L. -lhello<br/>\n",
    "注意：<br/>\n",
    "有时候库文件路径找不到，有以下方法：<br/>\n",
    "1)拷贝.so文件到系统库路径/usr/lib<br/>\n",
    "2)在~/.bashrc或/etc/ld.so.conf中配置动态库路径LD_LIBRARY_PATH"
   ]
  },
  {
   "cell_type": "markdown",
   "metadata": {},
   "source": [
    "库文件搜索路径：.L参数->环境变量（头文件C_INCLUDE_PATH，库文件LIBARARY_PATH或LD_LIBRARY_PATH）->系统库路径/usr/lib"
   ]
  },
  {
   "cell_type": "markdown",
   "metadata": {},
   "source": [
    "gcc也可以编译c++代码，但不如g++好。g++专门用于c++源文件编译，其选项与gcc大致相同，不同点：预处理后gcc是.i，g++是.ii"
   ]
  },
  {
   "cell_type": "code",
   "execution_count": null,
   "metadata": {},
   "outputs": [],
   "source": []
  }
 ],
 "metadata": {
  "kernelspec": {
   "display_name": "Python 3",
   "language": "python",
   "name": "python3"
  },
  "language_info": {
   "codemirror_mode": {
    "name": "ipython",
    "version": 3
   },
   "file_extension": ".py",
   "mimetype": "text/x-python",
   "name": "python",
   "nbconvert_exporter": "python",
   "pygments_lexer": "ipython3",
   "version": "3.7.6"
  }
 },
 "nbformat": 4,
 "nbformat_minor": 4
}
