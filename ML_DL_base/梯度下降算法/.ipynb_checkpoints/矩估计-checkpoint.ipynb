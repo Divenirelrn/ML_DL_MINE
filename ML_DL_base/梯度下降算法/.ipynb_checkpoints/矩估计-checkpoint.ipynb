{
 "cells": [
  {
   "cell_type": "markdown",
   "metadata": {},
   "source": [
    "k阶原点矩：$E(X^k)$<br/>\n",
    "k阶中心距：$E(X-E(X))^k$"
   ]
  },
  {
   "cell_type": "markdown",
   "metadata": {},
   "source": [
    "矩估计：用样本的一阶矩或二阶矩来代替总体的一阶矩或二阶矩：<br/>\n",
    "$一阶原点矩：\\bar{X} = \\frac{1}{n} \\sum_{i=1}^{n}{x_i}$<br/>\n",
    "$二阶原点矩：A_2 = \\frac{1}{n}\\sum_{i=1}^{n}{x_i^2}$<br/>\n",
    "$一阶中心距：\\bar{X} = \\frac{1}{n} \\sum_{i=1}^{n}{x_i - E(X)}$\n",
    "$二阶中心矩：B_2 = \\frac{1}{n}\\sum_{i=1}^{n}{(x_i - E(X))^2}$<br/>"
   ]
  },
  {
   "cell_type": "markdown",
   "metadata": {},
   "source": [
    "矩估计用于正态分布：正态分布的$\\mu$为其均值（一阶原点矩），$\\delta^2$为其二阶中心距<br/>\n",
    "矩估计用于泊松分布：泊松分布的$E(X) = D(X) = \\lambda$，因此可以用一阶原点矩来进行估计"
   ]
  },
  {
   "cell_type": "code",
   "execution_count": null,
   "metadata": {},
   "outputs": [],
   "source": []
  }
 ],
 "metadata": {
  "kernelspec": {
   "display_name": "Python 3",
   "language": "python",
   "name": "python3"
  },
  "language_info": {
   "codemirror_mode": {
    "name": "ipython",
    "version": 3
   },
   "file_extension": ".py",
   "mimetype": "text/x-python",
   "name": "python",
   "nbconvert_exporter": "python",
   "pygments_lexer": "ipython3",
   "version": "3.7.6"
  }
 },
 "nbformat": 4,
 "nbformat_minor": 4
}
