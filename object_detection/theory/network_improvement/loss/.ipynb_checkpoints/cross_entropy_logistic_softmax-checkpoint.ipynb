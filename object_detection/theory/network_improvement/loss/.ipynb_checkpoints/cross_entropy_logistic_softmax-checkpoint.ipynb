{
 "cells": [
  {
   "cell_type": "markdown",
   "metadata": {},
   "source": [
    "cross entropy loss的推导(二分类,logistic回归)：<br/>\n",
    "似然函数的构造（假设样本之间服从独立同分布）：<br/>\n",
    "$p(x_1=1, x_2=0, ..., x_n = 1|\\theta) = p(x_1=1|\\theta)p(x_2=0|\\theta)...p(x_n=1|\\theta)$<br/>\n",
    "假设样本个体服从二项分布：<br/>\n",
    "$p(x_i=q|\\theta)可以表示为p(x_i=1|\\theta)^q(1-p(x_i=1|\\theta))^{1-q}$<br/>\n",
    "则$p(x_1=1, x_2=0, ..., x_n = 1|\\theta) = p(x_1=1|\\theta)p(x_2=0|\\theta)...p(x_n=1|\\theta) = \\prod_{i=1}^{n}{p(x_i=1|\\theta)^q(1-p(x_i=1|\\theta))^{1-q}}$<br/>\n",
    "为方便计算：<br/>\n",
    "$ln(p(x_1=1, x_2=0, ..., x_n = 1|\\theta)) = \\sum_{i=0}^{n}{(qln(p(x_i=1|\\theta)) + (1-q)ln(1-p(x_i=1|\\theta)))}$<br/>\n",
    "计算似然函数的最大值，可以转化为计算loss函数的最小值（加负号），则：<br/>\n",
    "$crossEntropyLoss =-\\sum_{i=0}^{n}{(qln(p(x_i=1|\\theta)) + (1-q)ln(1-p(x_i=1|\\theta)))}$ "
   ]
  },
  {
   "cell_type": "markdown",
   "metadata": {},
   "source": [
    "cross entropy loss的推导(多分类,softmax回归)：<br/>\n",
    "似然函数的构造（假设样本之间服从独立同分布）：<br/>\n",
    "$p(x_1=3, x_2=5, ..., x_n = 2|\\theta) = p(x_1=3|\\theta)p(x_2=5|\\theta)...p(x_n=2|\\theta)$<br/>\n",
    "假设样本个体服从多项分布：<br/>\n",
    "设标签采用one-hot编码,则$x_i = 3, 等价于x_i=[0,0,1,0,0,0,0,0,0,0]= \\pmb{q} $<br/>\n",
    "$p(x_i=3|\\theta)可以表示为p(x_i=1|\\theta)^0p(x_i=2|\\theta)^0p(x_i=3|\\theta)^1...p(x_i=10|\\theta)^0$<br/>\n",
    "则$p(x_1=3, x_2=5, ..., x_n = 2|\\theta) = p(x_1=3|\\theta)p(x_2=5|\\theta)...p(x_n=2|\\theta) = \\prod_{i=1}^{n}{ \\pmb{p} \\pmb{q} }$<br/>\n",
    "其中， $\\pmb{p} = [p(x_i=1|\\theta),p(x_i=2|\\theta),...,p(x_i=10|\\theta)]$<br/>\n",
    "为方便计算：<br/>\n",
    "$ln(p(x_1=3, x_2=5, ..., x_n = 2|\\theta)) = \\sum_{i=0}^{n}{\\pmb{q}ln\\pmb{p}}$<br/>\n",
    "计算似然函数的最大值，可以转化为计算loss函数的最小值（加负号），则：<br/>\n",
    "$crossEntropyLoss =-\\sum_{i=0}^{n}{\\pmb{q}ln\\pmb{p}}$ "
   ]
  },
  {
   "cell_type": "code",
   "execution_count": null,
   "metadata": {},
   "outputs": [],
   "source": []
  }
 ],
 "metadata": {
  "kernelspec": {
   "display_name": "Python 3",
   "language": "python",
   "name": "python3"
  },
  "language_info": {
   "codemirror_mode": {
    "name": "ipython",
    "version": 3
   },
   "file_extension": ".py",
   "mimetype": "text/x-python",
   "name": "python",
   "nbconvert_exporter": "python",
   "pygments_lexer": "ipython3",
   "version": "3.7.6"
  }
 },
 "nbformat": 4,
 "nbformat_minor": 4
}
