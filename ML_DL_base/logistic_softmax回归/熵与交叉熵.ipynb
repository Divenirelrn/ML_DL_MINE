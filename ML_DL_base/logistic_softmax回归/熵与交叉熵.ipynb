{
 "cells": [
  {
   "cell_type": "markdown",
   "metadata": {},
   "source": [
    "熵用于表示一个概率分布的随机程度，若一个随机变量发生的概率很小，但又发生了，则信息量很大"
   ]
  },
  {
   "cell_type": "markdown",
   "metadata": {},
   "source": [
    "$某个随机变量的概率分布为p(x),则x取某个值时，信息量定义为：$\n",
    "$$ h(x) = -lnp(x) $$"
   ]
  },
  {
   "cell_type": "markdown",
   "metadata": {},
   "source": [
    "$当离散变量x有n个取值时，其熵定义为：$\n",
    "$$ H(p) = -\\sum_{i=1}^{n}{x_ilnp(x_i)} $$"
   ]
  },
  {
   "cell_type": "markdown",
   "metadata": {},
   "source": [
    "$交叉熵用于衡量两个分布的相似程度，p(x)与q(x)为两个分布的概率密度函数，交叉熵定义为：$\n",
    "$$ H(p,q) = -\\sum_{i=1}^{n}{p(x_i)lnq(x_i)} $$\n",
    "$其中，n为取值个数$"
   ]
  },
  {
   "cell_type": "code",
   "execution_count": null,
   "metadata": {},
   "outputs": [],
   "source": []
  }
 ],
 "metadata": {
  "kernelspec": {
   "display_name": "Python 3",
   "language": "python",
   "name": "python3"
  },
  "language_info": {
   "codemirror_mode": {
    "name": "ipython",
    "version": 3
   },
   "file_extension": ".py",
   "mimetype": "text/x-python",
   "name": "python",
   "nbconvert_exporter": "python",
   "pygments_lexer": "ipython3",
   "version": "3.7.6"
  }
 },
 "nbformat": 4,
 "nbformat_minor": 4
}
