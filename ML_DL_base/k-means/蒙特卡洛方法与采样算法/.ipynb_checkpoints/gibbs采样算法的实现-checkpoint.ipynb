{
 "cells": [
  {
   "cell_type": "code",
   "execution_count": null,
   "metadata": {},
   "outputs": [],
   "source": [
    "from mpl_toolkits.mplot3d import Axes3D\n",
    "from scipy.stats import multivariate_normal\n",
    "\n",
    "samplesource = multivariate_normal(mean=[5,-1], cov=[[1,0.5],[0.5,2]])\n",
    "\n",
    "def p_ygivenx(x, m1, m2, s1, s2):\n",
    "    return (random.normalvariate(m2 + rho * s2 / s1 * (x - m1), math.sqrt(1 - rho ** 2) * s2))\n",
    "\n",
    "def p_xgiveny(y, m1, m2, s1, s2):\n",
    "    return (random.normalvariate(m1 + rho * s1 / s2 * (y - m2), math.sqrt(1 - rho ** 2) * s1))\n",
    "\n",
    "N = 5000\n",
    "K = 20\n",
    "x_res = []\n",
    "y_res = []\n",
    "z_res = []\n",
    "m1 = 5\n",
    "m2 = -1\n",
    "s1 = 1\n",
    "s2 = 2\n",
    "\n",
    "rho = 0.5\n",
    "y = m2\n",
    "\n",
    "for i in range(N):\n",
    "    for j in range(K):\n",
    "        x = p_xgiveny(y, m1, m2, s1, s2)   #y给定得到x的采样\n",
    "        y = p_ygivenx(x, m1, m2, s1, s2)   #x给定得到y的采样\n",
    "        z = samplesource.pdf([x,y])\n",
    "        x_res.append(x)\n",
    "        y_res.append(y)\n",
    "        z_res.append(z)\n",
    "\n",
    "num_bins = 50\n",
    "plt.hist(x_res, num_bins, normed=1, facecolor='green', alpha=0.5,label='x')\n",
    "plt.hist(y_res, num_bins, normed=1, facecolor='red', alpha=0.5,label='y')\n",
    "plt.title('Histogram')\n",
    "plt.legend()\n",
    "plt.show()"
   ]
  },
  {
   "cell_type": "code",
   "execution_count": null,
   "metadata": {},
   "outputs": [],
   "source": []
  }
 ],
 "metadata": {
  "kernelspec": {
   "display_name": "Python 3",
   "language": "python",
   "name": "python3"
  },
  "language_info": {
   "codemirror_mode": {
    "name": "ipython",
    "version": 3
   },
   "file_extension": ".py",
   "mimetype": "text/x-python",
   "name": "python",
   "nbconvert_exporter": "python",
   "pygments_lexer": "ipython3",
   "version": "3.7.6"
  }
 },
 "nbformat": 4,
 "nbformat_minor": 4
}
