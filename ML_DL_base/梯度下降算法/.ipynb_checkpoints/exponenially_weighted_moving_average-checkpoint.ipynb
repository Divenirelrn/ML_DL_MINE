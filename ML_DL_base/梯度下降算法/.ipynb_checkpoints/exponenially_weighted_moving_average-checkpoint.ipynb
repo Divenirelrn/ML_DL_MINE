{
 "cells": [
  {
   "cell_type": "markdown",
   "metadata": {},
   "source": [
    "指数加权平均：<br/>\n",
    "$\\theta_1, \\theta_2, ...$<br/>\n",
    "$v_0 = 0$<br/>\n",
    "$v_1 = \\beta v_0 + (1-\\beta) \\theta_1$<br/>\n",
    "$v_2 = \\beta v_1 + (1-\\beta) \\theta_2$<br/>\n",
    "......"
   ]
  },
  {
   "cell_type": "markdown",
   "metadata": {},
   "source": [
    "$\\beta 决定了对历史 \\frac{1}{1-\\beta} 个数据进行平均$<br/>\n",
    "$如\\beta = 0.9, 则是对历史 \\frac{1}{1-0.9} = 10个数据进行平均$<br/>\n",
    "$如\\beta = 0.98, 则是对历史 \\frac{1}{1-0.98} = 50个数据进行平均$<br/>"
   ]
  },
  {
   "cell_type": "markdown",
   "metadata": {},
   "source": [
    "指数加权平均的偏差修正：<br/>\n",
    "由于初始值设为$v_0 = 0，致使前n个数值很小，接近于0$<br/>\n",
    "如果对前几次的值有较高要求，可对指数加权滑动平均进行偏差校正：<br/>\n",
    "$v_t = \\frac{v_t}{1-\\beta^t}（注意v_0不是第一个数据，v_1才是）$"
   ]
  },
  {
   "cell_type": "code",
   "execution_count": null,
   "metadata": {},
   "outputs": [],
   "source": []
  }
 ],
 "metadata": {
  "kernelspec": {
   "display_name": "Python 3",
   "language": "python",
   "name": "python3"
  },
  "language_info": {
   "codemirror_mode": {
    "name": "ipython",
    "version": 3
   },
   "file_extension": ".py",
   "mimetype": "text/x-python",
   "name": "python",
   "nbconvert_exporter": "python",
   "pygments_lexer": "ipython3",
   "version": "3.7.6"
  }
 },
 "nbformat": 4,
 "nbformat_minor": 4
}
