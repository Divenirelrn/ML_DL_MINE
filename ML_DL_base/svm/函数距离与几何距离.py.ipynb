{
 "cells": [
  {
   "cell_type": "markdown",
   "metadata": {},
   "source": [
    "对于超平面$y = w^Tx + b$,其函数距离：<br/>\n",
    "$$\n",
    "d1 = |w^Tx + b|\n",
    "$$\n",
    "几何距离：\n",
    "$$\n",
    "d2 = \\frac{|w^Tx + b|}{||w||}\n",
    "$$"
   ]
  },
  {
   "cell_type": "markdown",
   "metadata": {},
   "source": [
    "几何距离可以同比例缩放w与b,而不影响loss，而函数距离通过同比例缩放w与b，可以达到减小loss的效果，但超平面不会有任何变化($w^Tx+b=0 \\rightarrow 2w^Tx + 2b = 0$)，因此一般用几何距离"
   ]
  },
  {
   "cell_type": "markdown",
   "metadata": {},
   "source": [
    "对于函数距离，可以同比例缩放w与b, 使得函数距离的值为1（可以使得函数距离为任意常数）<br/>\n",
    "如：w = 1, b = 1, x = 1, 则$|w^Tx + b|=2$,若同比例缩放w,b,令w=0.5,b=0.5,则$|w^Tx + b|=1$ "
   ]
  },
  {
   "cell_type": "code",
   "execution_count": null,
   "metadata": {},
   "outputs": [],
   "source": []
  }
 ],
 "metadata": {
  "kernelspec": {
   "display_name": "Python 3",
   "language": "python",
   "name": "python3"
  },
  "language_info": {
   "codemirror_mode": {
    "name": "ipython",
    "version": 3
   },
   "file_extension": ".py",
   "mimetype": "text/x-python",
   "name": "python",
   "nbconvert_exporter": "python",
   "pygments_lexer": "ipython3",
   "version": "3.7.6"
  }
 },
 "nbformat": 4,
 "nbformat_minor": 4
}
