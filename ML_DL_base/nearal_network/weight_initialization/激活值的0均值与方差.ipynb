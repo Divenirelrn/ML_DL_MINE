{
 "cells": [
  {
   "cell_type": "markdown",
   "metadata": {},
   "source": [
    "激活值的0均值问题是为了避免出现zigzag现象（梯度更新方向一致，迫使优化路线走z字形路径，降低优化效率）"
   ]
  },
  {
   "cell_type": "markdown",
   "metadata": {},
   "source": [
    "激活值的方差：方差就是数据的分布范围。以0均值为例，若方差太大，如10，那么激活值分布在(-100, 100)范围内，容易进入激活函数的饱和区，造成梯度消失；若方差太小，造成梯度太小，也容易造成梯度消失。保证各层激活值的方差基本一致，使信息流平稳流通，有利于优化；保证各层梯度的方差一致，使梯度流平稳流通，有利于优化。"
   ]
  },
  {
   "cell_type": "code",
   "execution_count": null,
   "metadata": {},
   "outputs": [],
   "source": []
  }
 ],
 "metadata": {
  "kernelspec": {
   "display_name": "Python 3",
   "language": "python",
   "name": "python3"
  },
  "language_info": {
   "codemirror_mode": {
    "name": "ipython",
    "version": 3
   },
   "file_extension": ".py",
   "mimetype": "text/x-python",
   "name": "python",
   "nbconvert_exporter": "python",
   "pygments_lexer": "ipython3",
   "version": "3.7.6"
  }
 },
 "nbformat": 4,
 "nbformat_minor": 4
}
