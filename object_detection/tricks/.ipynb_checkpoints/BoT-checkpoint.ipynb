{
 "cells": [
  {
   "cell_type": "markdown",
   "metadata": {},
   "source": [
    "论文\"Bag of Tricks for Image Classification with Convolutional Neural Networks\"提出了一系列提升分类效果的tricks，同样可以迁移到object detection"
   ]
  },
  {
   "cell_type": "markdown",
   "metadata": {},
   "source": [
    "Large batch training<br/>\n",
    "用大的batchsize可能需要更多的epoch，解决方法：<br/>\n",
    "1)linear scaling learing rate<br/>\n",
    "batchsize选256时，对应lr为0.1,对于其它的batchsize，选择0.1 * b/256<br/>\n",
    "2)lr warmup<br/>\n",
    "3)$zero \\gamma: resnet中，每一个block产生一个输出block(x)，并且与x相加，一个block的最\\\\后一层一般是一个BN层，公式为\\gamma \\hat x + \\beta，一般将\\gamma初始化为1，\\beta初始\\\\化为0,而将\\gamma初始化为0，在初始阶段就没有shorcut层，比较容易训练$<br/>\n",
    "4)No bias decay: weight decay只针对weight，而不应用于bias，以防止过拟合"
   ]
  },
  {
   "cell_type": "markdown",
   "metadata": {},
   "source": [
    "低精度训练：详见model_compression_speedup/混合精度训练"
   ]
  },
  {
   "cell_type": "markdown",
   "metadata": {},
   "source": [
    "作者对resnet结构进行了改进，提出一个新的block"
   ]
  },
  {
   "cell_type": "markdown",
   "metadata": {},
   "source": [
    "其他trick:<br/>\n",
    "1)cosine decay<br/>\n",
    "2)label smoothing<br/>\n",
    "3)知识蒸馏（暂时略过）<br/>\n",
    "4)mixup"
   ]
  },
  {
   "cell_type": "code",
   "execution_count": null,
   "metadata": {},
   "outputs": [],
   "source": []
  }
 ],
 "metadata": {
  "kernelspec": {
   "display_name": "Python 3",
   "language": "python",
   "name": "python3"
  },
  "language_info": {
   "codemirror_mode": {
    "name": "ipython",
    "version": 3
   },
   "file_extension": ".py",
   "mimetype": "text/x-python",
   "name": "python",
   "nbconvert_exporter": "python",
   "pygments_lexer": "ipython3",
   "version": "3.7.6"
  }
 },
 "nbformat": 4,
 "nbformat_minor": 4
}
