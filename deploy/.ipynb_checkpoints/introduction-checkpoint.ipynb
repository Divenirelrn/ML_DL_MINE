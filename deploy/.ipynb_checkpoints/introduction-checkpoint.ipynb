{
 "cells": [
  {
   "cell_type": "markdown",
   "metadata": {},
   "source": [
    "终端设备：<br/>\n",
    "移动端：<br/>\n",
    "华为海思/华为麒麟<br/>\n",
    "高通骁龙<br/>\n",
    "联发科<br/>\n",
    "arm端：<br/>\n",
    "瑞芯微系列：rk3399,rk3288,rk3328,rv1109,rv1108<br/>\n",
    "学习板：<br/>\n",
    "树莓派"
   ]
  },
  {
   "cell_type": "markdown",
   "metadata": {},
   "source": [
    "推理框架：<br/>\n",
    "intel——openvino<br/>\n",
    "nvidia——tensorrt<br/>\n",
    "tencent——NCNN<br/>\n",
    "ailbaba——MNN<br/>\n",
    "Baidu——openvino"
   ]
  },
  {
   "cell_type": "code",
   "execution_count": null,
   "metadata": {},
   "outputs": [],
   "source": []
  }
 ],
 "metadata": {
  "kernelspec": {
   "display_name": "Python 3",
   "language": "python",
   "name": "python3"
  },
  "language_info": {
   "codemirror_mode": {
    "name": "ipython",
    "version": 3
   },
   "file_extension": ".py",
   "mimetype": "text/x-python",
   "name": "python",
   "nbconvert_exporter": "python",
   "pygments_lexer": "ipython3",
   "version": "3.7.6"
  }
 },
 "nbformat": 4,
 "nbformat_minor": 4
}
