{
 "cells": [
  {
   "cell_type": "markdown",
   "metadata": {},
   "source": [
    "对于一般的约束优化问题：<br/>\n",
    "$$\n",
    "minmax f(x) \\\\\n",
    "s.t. g(x_i) = 0 \\\\\n",
    "h(x_i) <= 0\n",
    "$$"
   ]
  },
  {
   "cell_type": "markdown",
   "metadata": {},
   "source": [
    "kkt条件给出了最优解满足的条件，即最优解的必要条件，对于原问题是凸优化问题（目标函数是二次函数，约束为线性函数）的问题，kkt条件变为充要条件"
   ]
  },
  {
   "cell_type": "markdown",
   "metadata": {},
   "source": [
    "$拉格朗日函数为：L(x, \\lambda, \\mu) = f(x) + \\sum_{i=1}^{m}{\\lambda_i g(x_i)} + \\sum_{i=1}^{m}{\\mu_i h(x_i)}$"
   ]
  },
  {
   "cell_type": "markdown",
   "metadata": {},
   "source": [
    "kkt条件描述如下：\n",
    "$$\n",
    "\\begin{cases}\n",
    "\\frac{\\partial{L}}{\\partial{x}}=0, \\frac{\\partial{L}}{\\partial{\\lambda}}=0, \\frac{\\partial{L}}{\\partial{\\mu}}=0 \\\\\n",
    "\\lambda_ig(x_i) = 0, \\mu_ih(x_i) = 0 （松弛互补条件）\\\\\n",
    "g(x_i) = 0 \\\\\n",
    "h(x_i) <= 0 \\\\\n",
    "\\lambda >= 0, \\mu >= 0\n",
    "\\end{cases}\n",
    "$$"
   ]
  },
  {
   "cell_type": "code",
   "execution_count": null,
   "metadata": {},
   "outputs": [],
   "source": []
  }
 ],
 "metadata": {
  "kernelspec": {
   "display_name": "Python 3",
   "language": "python",
   "name": "python3"
  },
  "language_info": {
   "codemirror_mode": {
    "name": "ipython",
    "version": 3
   },
   "file_extension": ".py",
   "mimetype": "text/x-python",
   "name": "python",
   "nbconvert_exporter": "python",
   "pygments_lexer": "ipython3",
   "version": "3.7.6"
  }
 },
 "nbformat": 4,
 "nbformat_minor": 4
}
