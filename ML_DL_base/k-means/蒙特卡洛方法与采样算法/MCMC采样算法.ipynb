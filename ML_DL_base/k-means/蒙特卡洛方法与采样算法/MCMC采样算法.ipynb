{
 "cells": [
  {
   "cell_type": "markdown",
   "metadata": {},
   "source": [
    "MCMC算法（马尔科夫蒙特卡洛方法）解决基本马尔科夫链采样算法依赖于转移矩阵的问题，通过构造细致平衡条件来构造转移矩阵（转移概率）。<br/>\n",
    "MCMC算法形式上与接受拒绝采样类似，同样需要提议分布，同样需要接受概率"
   ]
  },
  {
   "cell_type": "markdown",
   "metadata": {},
   "source": [
    "$对于任意给定的转移概率矩阵A，通常情况下不满足细致平衡条件：$\n",
    "$$\n",
    "\\pi_i a_{ij} \\ne \\pi_ja_{ji}\n",
    "$$"
   ]
  },
  {
   "cell_type": "markdown",
   "metadata": {},
   "source": [
    "$我们引入一个新的矩阵Q，使得：$<br/>\n",
    "$$\\pi_ia_{ij}q_{ij} = \\pi_ja_{ji}q_{ji}$$\n",
    "$其中q_{ij} = \\pi_ja_{ji},q_{ji} = \\pi_ia_{ij}$<br/>\n",
    "$这样就满足了细致平衡条件，新的转移概率即为p_{ij} = a_{ij}q_{ij}，q_{ij}为接受概率$"
   ]
  },
  {
   "cell_type": "markdown",
   "metadata": {},
   "source": [
    "$对于连续分布同样适用，假设要采样的目标分布为p(x)，构造细致平衡条件如下：$<br/>\n",
    "$$\\pi(x)g(x'|x)q(x,x') = \\pi(x')g(x|x')q(x',x)$$\n",
    "$其中q(x,x')为接受概率，g(x'|x)为建议分布（proposal），\\\\p(x'|x) = g(x'|x)q(x,x')为新的转移概率$"
   ]
  },
  {
   "cell_type": "markdown",
   "metadata": {},
   "source": [
    "MCMC采样算法如下：<br/>\n",
    "$input:目标分布\\pi(x)，提议分布g(x'|x)，状态转移次数阈值n_1，样本数n_2$<br/>\n",
    "$1)从任意简单概率分布采样出初始状态x_0$<br/>\n",
    "$2)for \\quad t=0 \\quad to \\quad n_1+n_2-1 \\quad do:$<br/>\n",
    "$使用提议分布g(x|x_t)采样出x^*$<br/>\n",
    "$q(x_t, x^*) = \\pi(x^*)g(x_t|x^*)$<br/>\n",
    "$从均匀分布U(0,1)采样出u$<br/>\n",
    "$if u < q(x_t, x^*), then$<br/>\n",
    "$x_{t+1} = x^*$<br/>\n",
    "$else:$<br/>\n",
    "$x_{t+1} = x_t$<br/>\n",
    "$end if$<br/>\n",
    "$end for$<br/>\n",
    "$output:\\{x_{n_1+1},x_{n_1+2},...,x_{n_1+n_2}\\}$"
   ]
  },
  {
   "cell_type": "markdown",
   "metadata": {},
   "source": [
    "提议分布一般选择正态分布"
   ]
  },
  {
   "cell_type": "markdown",
   "metadata": {},
   "source": [
    "MCMC算法的接受率一般比较低，因此采样效率较低，在实际中一般不采用，后续还有较实用的改进版本"
   ]
  },
  {
   "cell_type": "code",
   "execution_count": null,
   "metadata": {},
   "outputs": [],
   "source": []
  }
 ],
 "metadata": {
  "kernelspec": {
   "display_name": "Python 3",
   "language": "python",
   "name": "python3"
  },
  "language_info": {
   "codemirror_mode": {
    "name": "ipython",
    "version": 3
   },
   "file_extension": ".py",
   "mimetype": "text/x-python",
   "name": "python",
   "nbconvert_exporter": "python",
   "pygments_lexer": "ipython3",
   "version": "3.7.6"
  }
 },
 "nbformat": 4,
 "nbformat_minor": 4
}
