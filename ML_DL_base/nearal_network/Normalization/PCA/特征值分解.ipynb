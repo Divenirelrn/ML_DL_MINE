{
 "cells": [
  {
   "cell_type": "markdown",
   "metadata": {},
   "source": [
    "特征值分解也被称为谱分解，是相似矩阵对角化的另一种表述"
   ]
  },
  {
   "cell_type": "markdown",
   "metadata": {},
   "source": [
    "$若一个n阶矩阵A具有n个线性无关的特征向量，则其可分解为如下形式：$<br/>\n",
    "$$\n",
    "A = Q\\Lambda Q^{-1}\n",
    "$$\n",
    "$其中\\Lambda 为对角矩阵，对角线元素为A的特征值：$<br/>\n",
    "$$\n",
    "\\Lambda = \\left[ \\begin{matrix} \\lambda_1 & 0 & ... & 0\\\\ 0 & \\lambda_2 & ... & 0 \\\\ ... \\\\ 0 & 0 & ... & \\lambda_n \\end{matrix} \\right]\n",
    "$$\n",
    "$Q为A的特征向量组成的矩阵（通常这些特征向量是单位化后的向量）：$\n",
    "$$\n",
    "Q = (x_1, x_2, ..., x_n)\n",
    "$$"
   ]
  },
  {
   "cell_type": "markdown",
   "metadata": {},
   "source": [
    "特别地，若A为实对称矩阵，则A可分解为：<br/>\n",
    "$$\n",
    "A = Q\\Lambda Q^T\n",
    "$$"
   ]
  },
  {
   "cell_type": "markdown",
   "metadata": {},
   "source": [
    "numpy实现特征值分解：<br/>\n",
    "e, v = np.linalg.eig(A)"
   ]
  },
  {
   "cell_type": "code",
   "execution_count": null,
   "metadata": {},
   "outputs": [],
   "source": []
  }
 ],
 "metadata": {
  "kernelspec": {
   "display_name": "Python 3",
   "language": "python",
   "name": "python3"
  },
  "language_info": {
   "codemirror_mode": {
    "name": "ipython",
    "version": 3
   },
   "file_extension": ".py",
   "mimetype": "text/x-python",
   "name": "python",
   "nbconvert_exporter": "python",
   "pygments_lexer": "ipython3",
   "version": "3.7.6"
  }
 },
 "nbformat": 4,
 "nbformat_minor": 4
}
