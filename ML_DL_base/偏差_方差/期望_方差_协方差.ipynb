{
 "cells": [
  {
   "cell_type": "markdown",
   "metadata": {},
   "source": [
    "方差定义：\n",
    "$$\n",
    "var(X) = \\frac{1}{n}\\sum_{i=1}^{n}{[x_i - E(X)]^2}\n",
    "$$"
   ]
  },
  {
   "cell_type": "markdown",
   "metadata": {},
   "source": [
    "方差与期望关系：\n",
    "$$\n",
    "var(X) = E(X^2) - E(X)^2\n",
    "$$"
   ]
  },
  {
   "cell_type": "markdown",
   "metadata": {},
   "source": [
    "协方差定义：\n",
    "$$\n",
    "conv(X,Y) = E[(X-EX)(Y-EY)] = E(XY) - EXEY\n",
    "$$"
   ]
  },
  {
   "cell_type": "markdown",
   "metadata": {},
   "source": [
    "协方差衡量两个变量之间的相关性，大于0则正相关，小于0则负相关，等于0则无关"
   ]
  },
  {
   "cell_type": "markdown",
   "metadata": {},
   "source": [
    "协方差与方差的关系：\n",
    "$$\n",
    "D(X \\pm Y) = D(X) + D(Y) \\pm 2conv(X,Y)\n",
    "$$"
   ]
  },
  {
   "cell_type": "markdown",
   "metadata": {},
   "source": [
    "相关系数：\n",
    "$$\n",
    "\\rho(X,Y) = \\frac{conv(X,Y)}{\\sqrt{DX}\\sqrt{DY}}\n",
    "$$"
   ]
  },
  {
   "cell_type": "code",
   "execution_count": null,
   "metadata": {},
   "outputs": [],
   "source": []
  }
 ],
 "metadata": {
  "kernelspec": {
   "display_name": "Python 3",
   "language": "python",
   "name": "python3"
  },
  "language_info": {
   "codemirror_mode": {
    "name": "ipython",
    "version": 3
   },
   "file_extension": ".py",
   "mimetype": "text/x-python",
   "name": "python",
   "nbconvert_exporter": "python",
   "pygments_lexer": "ipython3",
   "version": "3.7.0"
  }
 },
 "nbformat": 4,
 "nbformat_minor": 4
}
