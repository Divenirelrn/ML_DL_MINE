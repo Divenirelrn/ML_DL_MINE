{
 "cells": [
  {
   "cell_type": "markdown",
   "metadata": {},
   "source": [
    "gelu(gaussian error linear unit)的数学形式如下：\n",
    "$$\n",
    "gelu(x) = xP(X <= x), X \\sim N(0,1)\n",
    "$$"
   ]
  },
  {
   "cell_type": "markdown",
   "metadata": {},
   "source": [
    "gelu可以通过高斯误差进行计算：\n",
    "$$\n",
    "gelu(x) = \\frac{1}{2}x(1 + erf(\\frac{x}{\\sqrt{2}}))\n",
    "$$\n",
    "$其中，erf(x)为高斯误差函数$"
   ]
  },
  {
   "attachments": {},
   "cell_type": "markdown",
   "metadata": {},
   "source": [
    "思想（公式的来源）：<br/>\n",
    "$GELU是想实现在激活函数中加入类似dropout的随机正则化效果，使得较大的输入值能够保留$<br/>\n",
    "RELU中采用了一个zero-or-identity mapping来实现正则化，而GELU的正则化可以通过高斯分布来实现，高斯分布的probability density function(PDF)与cumulative distribution function(CDF)如下：<br/>\n",
    "<img src=\"9.jpg\" alt=\"\" width=\"30%\" height=\"30%\" align=\"center\" />\n",
    "<img src=\"10.jpg\" alt=\"\" width=\"30%\" height=\"30%\" align=\"center\" />"
   ]
  },
  {
   "cell_type": "markdown",
   "metadata": {},
   "source": [
    "$$\n",
    "\\Phi(x_{ij}) = P(X_{ij} <= x_{ij}) = \\int_{-\\infty}^{x_{ij}}\\frac{1}{\\sqrt{2 \\pi}}exp(-\\frac{1}{2}t^2) dt\n",
    "$$"
   ]
  },
  {
   "cell_type": "markdown",
   "metadata": {},
   "source": [
    "$从图像来看，\\Phi(X_{ij})的值就是下图中的阴影面积：$\n",
    "<img src=\"11.jpg\" alt=\"\" width=\"30%\" height=\"30%\" align=\"center\" />"
   ]
  },
  {
   "cell_type": "markdown",
   "metadata": {},
   "source": [
    "Gaussian error的定义如下：\n",
    "$$\n",
    "erf(y) = \\frac{1}{\\sqrt{2 \\pi}}\\int_{0}^{y}e^{-t^2} dt\n",
    "$$"
   ]
  },
  {
   "cell_type": "markdown",
   "metadata": {},
   "source": [
    "$令t=z/\\sqrt{2}，可推出：erf(y) = 2\\Phi(y\\sqrt{2})-1,进而可推出：$\n",
    "$$\n",
    "\\Phi(x) = \\frac{1 + erf(\\frac{x}{\\sqrt{2}})}{2}\n",
    "$$"
   ]
  },
  {
   "cell_type": "markdown",
   "metadata": {},
   "source": [
    "$计算出\\Phi(x)，进而可得到激活函数：$\n",
    "$$\n",
    "Ix\\Phi(x) + 0x(1 - \\Phi(x)) = x\\Phi(x)\n",
    "$$"
   ]
  },
  {
   "cell_type": "code",
   "execution_count": null,
   "metadata": {},
   "outputs": [],
   "source": []
  }
 ],
 "metadata": {
  "kernelspec": {
   "display_name": "Python 3",
   "language": "python",
   "name": "python3"
  },
  "language_info": {
   "codemirror_mode": {
    "name": "ipython",
    "version": 3
   },
   "file_extension": ".py",
   "mimetype": "text/x-python",
   "name": "python",
   "nbconvert_exporter": "python",
   "pygments_lexer": "ipython3",
   "version": "3.7.6"
  }
 },
 "nbformat": 4,
 "nbformat_minor": 4
}
