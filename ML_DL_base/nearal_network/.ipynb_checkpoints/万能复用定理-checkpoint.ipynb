{
 "cells": [
  {
   "cell_type": "markdown",
   "metadata": {},
   "source": [
    "在理论上可以证明，用一层神经网络就可以拟合出任意复杂的函数，这叫做万能复用定理"
   ]
  },
  {
   "cell_type": "markdown",
   "metadata": {},
   "source": [
    "虽然用一层神经网络就可以拟合任意复杂函数，但往往该层的神经元数量呈指数级增加，不利于计算；相比而言，用多层神经网络配合激活函数，每层的神经元数量调整是o(n)级别，因此实际应用中往往采用多层神经网络"
   ]
  },
  {
   "cell_type": "code",
   "execution_count": null,
   "metadata": {},
   "outputs": [],
   "source": []
  }
 ],
 "metadata": {
  "kernelspec": {
   "display_name": "Python 3",
   "language": "python",
   "name": "python3"
  },
  "language_info": {
   "codemirror_mode": {
    "name": "ipython",
    "version": 3
   },
   "file_extension": ".py",
   "mimetype": "text/x-python",
   "name": "python",
   "nbconvert_exporter": "python",
   "pygments_lexer": "ipython3",
   "version": "3.7.6"
  }
 },
 "nbformat": 4,
 "nbformat_minor": 4
}
