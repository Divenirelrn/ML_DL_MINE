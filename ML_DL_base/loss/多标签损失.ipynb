{
 "cells": [
  {
   "cell_type": "markdown",
   "metadata": {},
   "source": [
    "多标签问题通常转化为二分类问题，训练多个二分类器，loss函数通常用BCELoss"
   ]
  },
  {
   "cell_type": "markdown",
   "metadata": {},
   "source": [
    "Pytorch中的实现是将sigmoid与BCE进行了结合：\n",
    "$$\n",
    "L = -\\frac{1}{m}\\sum_{i=1}^{m}{[y_iln(\\frac{1}{1+e^{-x_i}}) + (1-y_i)ln(\\frac{e^{-x_i}}{1+e^{-x_i}})]}\n",
    "$$"
   ]
  },
  {
   "cell_type": "code",
   "execution_count": null,
   "metadata": {},
   "outputs": [],
   "source": []
  }
 ],
 "metadata": {
  "kernelspec": {
   "display_name": "Python 3",
   "language": "python",
   "name": "python3"
  },
  "language_info": {
   "codemirror_mode": {
    "name": "ipython",
    "version": 3
   },
   "file_extension": ".py",
   "mimetype": "text/x-python",
   "name": "python",
   "nbconvert_exporter": "python",
   "pygments_lexer": "ipython3",
   "version": "3.7.6"
  }
 },
 "nbformat": 4,
 "nbformat_minor": 4
}
