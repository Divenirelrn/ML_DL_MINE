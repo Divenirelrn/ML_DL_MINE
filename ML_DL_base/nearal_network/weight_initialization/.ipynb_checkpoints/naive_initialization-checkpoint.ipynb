{
 "cells": [
  {
   "cell_type": "markdown",
   "metadata": {},
   "source": [
    "在xivier初始化前，用的最多的两个初始化方法是高斯分布与均匀分布"
   ]
  },
  {
   "cell_type": "markdown",
   "metadata": {},
   "source": [
    "高斯分布一般将参数初始化为N(0,1)"
   ]
  },
  {
   "cell_type": "markdown",
   "metadata": {},
   "source": [
    "均匀分布一般将参数初始化为$U(-\\frac{1}{\\sqrt{n}}, \\frac{1}{\\sqrt{n}})，其中n为前一层神经元数量$"
   ]
  },
  {
   "cell_type": "markdown",
   "metadata": {},
   "source": [
    "但naive的初始化方法一般会出现方差逐渐减小的问题，以均匀分布为例，推导如下："
   ]
  },
  {
   "cell_type": "markdown",
   "metadata": {},
   "source": [
    "$假设在0值附近激活函数近似线性函数，则：$<br/>\n",
    "$$\n",
    "h = \\sum_{i=1}^{n}{(w_ix_i + b_i)}\n",
    "$$\n",
    "$则：$\n",
    "$$\n",
    "D(h) = \\sum_{i=1}^{n}{[D(w_i)D(x_i) + D(w_i)E(x_i)^2 + D(x_i)E(w_i)^2]}\n",
    "$$\n",
    "$假设输入为0均值、单位方差，权值为均匀分布，其均值为0，方差为\\frac{1}{3n}(均匀分布的方差为\\frac{(a-b)^2}{12})，则：$\n",
    "$$\n",
    "D(h) = \\sum_{i=1}^{n}{[D(w_i)D(x_i)]} = n*\\frac{1}{3n}*1 = \\frac{1}{3}\n",
    "$$\n",
    "$即每一层的方差会减小为上一层的1/3$"
   ]
  },
  {
   "cell_type": "markdown",
   "metadata": {},
   "source": []
  }
 ],
 "metadata": {
  "kernelspec": {
   "display_name": "Python 3",
   "language": "python",
   "name": "python3"
  },
  "language_info": {
   "codemirror_mode": {
    "name": "ipython",
    "version": 3
   },
   "file_extension": ".py",
   "mimetype": "text/x-python",
   "name": "python",
   "nbconvert_exporter": "python",
   "pygments_lexer": "ipython3",
   "version": "3.7.6"
  }
 },
 "nbformat": 4,
 "nbformat_minor": 4
}
