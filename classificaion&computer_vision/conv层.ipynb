{
 "cells": [
  {
   "cell_type": "markdown",
   "metadata": {},
   "source": [
    "卷积的三大特性：<br/>\n",
    "1)局部连接（局部感受野）：卷积采用了局部连接的技术，使得特征图与输入之间局部连接，既大幅度减少了参数量，又符合视觉处理的特征，即关注局部特征<br/>\n",
    "2)参数共享：同一个卷积核的参数是相同的，这同样符合视觉处理的特征，即卷积核有特殊的作用，如一个垂直边缘提取器，可以提取图像任意位置的边缘特征<br/>\n",
    "3)下采样：下采样降低了特征图的尺寸，减少了计算量；同时去除了冗余特征，降低了过拟合的风险。但下采样可能损失信息，因此下采样是可选的，并不是必须的。"
   ]
  },
  {
   "cell_type": "markdown",
   "metadata": {},
   "source": [
    "卷积与下采样的尺寸变化：\n",
    "$$\n",
    "out = \\frac{input - filter size + 2 * padding}{stride} + 1\n",
    "$$"
   ]
  },
  {
   "cell_type": "code",
   "execution_count": null,
   "metadata": {},
   "outputs": [],
   "source": []
  }
 ],
 "metadata": {
  "kernelspec": {
   "display_name": "Python 3",
   "language": "python",
   "name": "python3"
  },
  "language_info": {
   "codemirror_mode": {
    "name": "ipython",
    "version": 3
   },
   "file_extension": ".py",
   "mimetype": "text/x-python",
   "name": "python",
   "nbconvert_exporter": "python",
   "pygments_lexer": "ipython3",
   "version": "3.7.6"
  }
 },
 "nbformat": 4,
 "nbformat_minor": 4
}
