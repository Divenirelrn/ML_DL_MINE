{
 "cells": [
  {
   "cell_type": "markdown",
   "metadata": {},
   "source": [
    "交叉熵定义在两个概率分布之上，衡量两个概率分布之间的差异性，交叉熵越大，则差异性越大"
   ]
  },
  {
   "cell_type": "markdown",
   "metadata": {},
   "source": [
    "$交叉熵的定义如下：$<br/>\n",
    "$$\n",
    "H(p, q) = E_p(-ln(q(x))) = \\sum_{x}{p(x)(-ln(q(x)))}\n",
    "$$"
   ]
  },
  {
   "cell_type": "markdown",
   "metadata": {},
   "source": [
    "$如对于如下离散变量的概率分布：$<br/>\n",
    "<img src=\"3.jpg\" alt=\"\" width=\"80%\" height=\"80%\" align=\"center\" />"
   ]
  },
  {
   "cell_type": "markdown",
   "metadata": {},
   "source": [
    "$其交叉熵计算方式为：H(p,q) = -0.4 * ln0.4 - 0.4ln0.4 - 0.1*ln0.1 - 0.1*ln0.1 = 1.2$"
   ]
  },
  {
   "cell_type": "code",
   "execution_count": null,
   "metadata": {},
   "outputs": [],
   "source": []
  }
 ],
 "metadata": {
  "kernelspec": {
   "display_name": "Python 3",
   "language": "python",
   "name": "python3"
  },
  "language_info": {
   "codemirror_mode": {
    "name": "ipython",
    "version": 3
   },
   "file_extension": ".py",
   "mimetype": "text/x-python",
   "name": "python",
   "nbconvert_exporter": "python",
   "pygments_lexer": "ipython3",
   "version": "3.7.6"
  }
 },
 "nbformat": 4,
 "nbformat_minor": 4
}
