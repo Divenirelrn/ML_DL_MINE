{
 "cells": [
  {
   "cell_type": "markdown",
   "metadata": {},
   "source": [
    "Nesterov是根据发明者的名字命名，又叫做NAG算法，其迭代公式如下：\n",
    "$$v_k = \\beta v_{k-1} + \\nabla f(x_{k-1}-\\alpha \\beta v_{k-1})$$\n",
    "其中，$\\beta$为动量项系数<br/>\n",
    "迭代公式为：<br/>\n",
    "$$\n",
    "x_k = x_{k-1} - \\alpha v_k\n",
    "$$"
   ]
  },
  {
   "cell_type": "markdown",
   "metadata": {},
   "source": [
    "本次迭代的梯度不是根据当前权值计算，而是先将当前权值减去$\\alpha \\beta d_{k-1}$，然后在该位置计算梯度"
   ]
  },
  {
   "cell_type": "markdown",
   "metadata": {},
   "source": [
    "Nesterov算法的收敛速度快于momentum"
   ]
  },
  {
   "cell_type": "code",
   "execution_count": null,
   "metadata": {},
   "outputs": [],
   "source": []
  }
 ],
 "metadata": {
  "kernelspec": {
   "display_name": "Python 3",
   "language": "python",
   "name": "python3"
  },
  "language_info": {
   "codemirror_mode": {
    "name": "ipython",
    "version": 3
   },
   "file_extension": ".py",
   "mimetype": "text/x-python",
   "name": "python",
   "nbconvert_exporter": "python",
   "pygments_lexer": "ipython3",
   "version": "3.7.6"
  }
 },
 "nbformat": 4,
 "nbformat_minor": 4
}
