{
 "cells": [
  {
   "cell_type": "code",
   "execution_count": 1,
   "metadata": {},
   "outputs": [],
   "source": [
    "import torch\n",
    "\n",
    "x1 = torch.randn(100, 128)\n",
    "x2 = torch.randn(100, 128)"
   ]
  },
  {
   "cell_type": "code",
   "execution_count": 3,
   "metadata": {},
   "outputs": [
    {
     "name": "stdout",
     "output_type": "stream",
     "text": [
      "tensor([-0.0215,  0.0882,  0.0299,  0.0169,  0.0644, -0.0354, -0.1325, -0.1296,\n",
      "        -0.0051,  0.0127,  0.0733, -0.0189, -0.1347, -0.0692, -0.0453,  0.1203,\n",
      "        -0.1347, -0.0902, -0.0606,  0.0184, -0.0023,  0.1379,  0.1247,  0.1120,\n",
      "        -0.1114, -0.0355,  0.2397, -0.0559,  0.0076, -0.1759,  0.1350, -0.0563,\n",
      "        -0.0452,  0.0503, -0.0080, -0.1242,  0.0552,  0.0662, -0.0335,  0.0627,\n",
      "        -0.0049, -0.0575, -0.0746, -0.0840, -0.2283, -0.0533,  0.0137, -0.0110,\n",
      "         0.0042,  0.1230, -0.0611, -0.0527, -0.0624,  0.0325,  0.0469, -0.0770,\n",
      "        -0.0491, -0.1107, -0.0726, -0.0698,  0.0168, -0.1555, -0.0831,  0.2025,\n",
      "         0.1604, -0.0879,  0.1664,  0.0077, -0.0164,  0.0447,  0.0757, -0.0745,\n",
      "         0.0343,  0.0154,  0.0175,  0.0261,  0.0811, -0.2470,  0.0268, -0.0095,\n",
      "        -0.0795, -0.0120,  0.0406,  0.0888,  0.0445,  0.0422,  0.1278, -0.0567,\n",
      "         0.0975,  0.0794, -0.0542, -0.0511,  0.0096, -0.0443,  0.0399, -0.0004,\n",
      "         0.1128, -0.0105,  0.0593, -0.0202])\n"
     ]
    }
   ],
   "source": [
    "cos = torch.nn.CosineSimilarity(dim=1, eps=1e-8)\n",
    "print(cos(x1, x2))"
   ]
  },
  {
   "cell_type": "code",
   "execution_count": null,
   "metadata": {},
   "outputs": [],
   "source": []
  }
 ],
 "metadata": {
  "kernelspec": {
   "display_name": "Python 3",
   "language": "python",
   "name": "python3"
  },
  "language_info": {
   "codemirror_mode": {
    "name": "ipython",
    "version": 3
   },
   "file_extension": ".py",
   "mimetype": "text/x-python",
   "name": "python",
   "nbconvert_exporter": "python",
   "pygments_lexer": "ipython3",
   "version": "3.7.6"
  }
 },
 "nbformat": 4,
 "nbformat_minor": 4
}
