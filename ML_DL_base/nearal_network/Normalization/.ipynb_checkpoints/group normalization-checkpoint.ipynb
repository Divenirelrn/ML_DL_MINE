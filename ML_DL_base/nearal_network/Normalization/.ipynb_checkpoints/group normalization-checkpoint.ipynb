{
 "cells": [
  {
   "cell_type": "markdown",
   "metadata": {},
   "source": [
    "group normalization是介于instance normalization与layer normalization之间的一种标准化方法，也是在channel维度上进行，是对单个样本在group_size个channel进行标准化"
   ]
  },
  {
   "cell_type": "markdown",
   "metadata": {},
   "source": [
    "group normalization解决了BN对于mini-batch size的依赖，在mini-batch很小的时候（如batch_size=2），表现远超于batch norm"
   ]
  },
  {
   "cell_type": "markdown",
   "metadata": {},
   "source": [
    "group norm之所以有效，是因为channel之间的特征不是独立的，可以将特征相似（分布相似）的channel一起进行normalization，GN的提出依据：<br/>\n",
    "1)传统的HOG、SHIFT等特征提取方法，是以组为单位的（？）<br/>\n",
    "2)对于底层的卷积层，相似的filter（如一个filter与它的horizontal flip）提取到的特征分布相同<br/>\n",
    "3)除了底层的边缘特征，高层的卷积层，channel之间在纹理、颜色等特征方面也存在相似性"
   ]
  },
  {
   "cell_type": "markdown",
   "metadata": {},
   "source": [
    "group norm的推导公式与BN、LN类似，都是减去均值、除以方差然后做仿射变换"
   ]
  },
  {
   "cell_type": "code",
   "execution_count": null,
   "metadata": {},
   "outputs": [],
   "source": []
  }
 ],
 "metadata": {
  "kernelspec": {
   "display_name": "Python 3",
   "language": "python",
   "name": "python3"
  },
  "language_info": {
   "codemirror_mode": {
    "name": "ipython",
    "version": 3
   },
   "file_extension": ".py",
   "mimetype": "text/x-python",
   "name": "python",
   "nbconvert_exporter": "python",
   "pygments_lexer": "ipython3",
   "version": "3.7.6"
  }
 },
 "nbformat": 4,
 "nbformat_minor": 4
}
