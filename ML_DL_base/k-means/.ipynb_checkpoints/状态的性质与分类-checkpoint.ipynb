{
 "cells": [
  {
   "cell_type": "markdown",
   "metadata": {},
   "source": [
    "$如果从状态i能够转移到状态j，则称从状态i到状态j是可达的，记作i \\rightarrow j$<br/>\n",
    "$如果从状态i能够转移到状态j，同时能够从状态j转移到状态i,则称从状态i到状态j是互通的，\\\\记作i \\iff j$<br/>"
   ]
  },
  {
   "cell_type": "markdown",
   "metadata": {},
   "source": [
    "$如果一个马尔科夫链的任意两个状态是互通的，称该马尔科夫链是不可约的，否则是可约的$"
   ]
  },
  {
   "cell_type": "markdown",
   "metadata": {},
   "source": [
    "$状态i的周期d(i)定义为从该状态出发，经过n步之后回到该状态，这些n的最大公约数，即：$<br/>\n",
    "$d(i) = gcd\\{n>0:p_{ii}^{(n)}>0\\}，其中gcd为最大公约数$<br/>\n",
    "$周期为1则该马尔科夫链是非周期的，周期>1则称是周期的$"
   ]
  },
  {
   "cell_type": "markdown",
   "metadata": {},
   "source": [
    "$对于任意状态i,j，定义f_{ij}^{(n)}为从状态i出发在时刻n首次进入状态j的概率，即： $<br/>\n",
    "$f_{ij}^{(0)} = 0, f_{ij}^{(n)} = p(X_n = j, X_k \\ne j, k=1,...,n-1|X_0 = i)$<br/>\n",
    "$令f_{ij} = \\sum_{n=1}^{+\\infty}{f_{ij}^{(n)}},表示从状态i出发迟早转移到状态j的概率。$<br/>\n",
    "$如果f_{ii} = 1,则称状态i是常返（recurrent）的，否则是非常返(transient)的，\\\\常返意味着从一个状态出发会以概率1再次进入该状态，迟早会返回该状态$"
   ]
  },
  {
   "cell_type": "markdown",
   "metadata": {},
   "source": []
  }
 ],
 "metadata": {
  "kernelspec": {
   "display_name": "Python 3",
   "language": "python",
   "name": "python3"
  },
  "language_info": {
   "codemirror_mode": {
    "name": "ipython",
    "version": 3
   },
   "file_extension": ".py",
   "mimetype": "text/x-python",
   "name": "python",
   "nbconvert_exporter": "python",
   "pygments_lexer": "ipython3",
   "version": "3.7.6"
  }
 },
 "nbformat": 4,
 "nbformat_minor": 4
}
