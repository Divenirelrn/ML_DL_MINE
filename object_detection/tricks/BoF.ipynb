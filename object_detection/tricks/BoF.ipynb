{
 "cells": [
  {
   "cell_type": "markdown",
   "metadata": {},
   "source": [
    "论文\"Bag of Freebies for Training Object Detection Neural Networks\"给出了一系列不增加推理时间，而提升精度的目标检测tricks."
   ]
  },
  {
   "cell_type": "markdown",
   "metadata": {},
   "source": [
    "mixup<br/>\n",
    "首先是mixup（详见tricks/mixup），在分类中用到的\\alpha值为(0.2,0.2)，而检测中用(1.5, 1.5)。mixup能够有效提升不常见场景（厨房与大象）及拥挤场景下的目标检测。"
   ]
  },
  {
   "cell_type": "markdown",
   "metadata": {},
   "source": [
    "label smoothing<br/>\n",
    "分类头标签平滑"
   ]
  },
  {
   "cell_type": "markdown",
   "metadata": {},
   "source": [
    "数据集扩增<br/>\n",
    "1)随机几何形变：随机裁剪，随机扩张，随机水平翻转，随机resize<br/>\n",
    "2)随机color jittering: brightness, hue, saturation, contrast<br/>\n",
    "faster rcnn由于结构设计，本身带有crop效果，因此没有用randomcrop"
   ]
  },
  {
   "cell_type": "markdown",
   "metadata": {},
   "source": [
    "lr_scheduller<br/>\n",
    "cosine decay"
   ]
  },
  {
   "cell_type": "markdown",
   "metadata": {},
   "source": [
    "warmup"
   ]
  },
  {
   "cell_type": "markdown",
   "metadata": {},
   "source": [
    "synchronized batch normalization<br/>"
   ]
  },
  {
   "cell_type": "markdown",
   "metadata": {},
   "source": [
    "multi-scale training(one-stage models)"
   ]
  },
  {
   "cell_type": "code",
   "execution_count": null,
   "metadata": {},
   "outputs": [],
   "source": []
  }
 ],
 "metadata": {
  "kernelspec": {
   "display_name": "Python 3",
   "language": "python",
   "name": "python3"
  },
  "language_info": {
   "codemirror_mode": {
    "name": "ipython",
    "version": 3
   },
   "file_extension": ".py",
   "mimetype": "text/x-python",
   "name": "python",
   "nbconvert_exporter": "python",
   "pygments_lexer": "ipython3",
   "version": "3.7.6"
  }
 },
 "nbformat": 4,
 "nbformat_minor": 4
}
