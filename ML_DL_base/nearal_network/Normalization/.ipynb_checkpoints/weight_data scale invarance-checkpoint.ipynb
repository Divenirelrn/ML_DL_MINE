{
 "cells": [
  {
   "cell_type": "markdown",
   "metadata": {},
   "source": [
    "权重伸缩不变性：<br/>\n",
    "$w' = \\lambda w$<br/>\n",
    "$Norm(w'x) = Norm(g\\frac{w'x-\\mu'}{\\delta'} + b) = Norm(g\\frac{\\lambda wx-\\lambda \\mu}{\\lambda \\delta} + b) = Norm(g\\frac{wx- \\mu}{ \\delta} + b) = Norm(wx)$"
   ]
  },
  {
   "cell_type": "markdown",
   "metadata": {},
   "source": [
    "$由于\\frac{\\partial Norm(w'x)}{\\partial{x}} = \\frac{\\partial Norm(wx)}{\\partial{x}}，因此权重变化不会对反向传播造成影响，\\\\避免梯度消失或梯度爆炸问题，从而加速了网络训练$"
   ]
  },
  {
   "cell_type": "markdown",
   "metadata": {},
   "source": [
    "$由于\\frac{\\partial Norm(w'x)}{\\partial w'} = \\frac{\\partial Norm(w'x)}{\\partial \\lambda w} = \\frac{1}{\\lambda}\\frac{\\partial Norm(wx)}{\\partial w}，因此权重值越大，梯度值反而越小，\\\\起到了正则化的效果，提高网络的泛化能力$"
   ]
  },
  {
   "cell_type": "markdown",
   "metadata": {},
   "source": [
    "数据伸缩不变性：<br/>\n",
    "$x' = \\lambda x$<br/>\n",
    "$Norm(wx') = Norm(g\\frac{wx'-\\mu'}{\\delta'} + b) = Norm(g\\frac{\\lambda wx-\\lambda \\mu}{\\lambda \\delta} + b) = Norm(g\\frac{wx- \\mu}{ \\delta} + b) = Norm(wx)$"
   ]
  },
  {
   "cell_type": "markdown",
   "metadata": {},
   "source": [
    "由于\\frac{\\partial Norm(wx')}{\\partial{w}} = \\frac{\\partial Norm(wx)}{\\partial{w}}，因此数据的变化不会影响到权重更新，使得学习过程更鲁棒，简化了对学习率的选择"
   ]
  },
  {
   "cell_type": "code",
   "execution_count": null,
   "metadata": {},
   "outputs": [],
   "source": []
  }
 ],
 "metadata": {
  "kernelspec": {
   "display_name": "Python 3",
   "language": "python",
   "name": "python3"
  },
  "language_info": {
   "codemirror_mode": {
    "name": "ipython",
    "version": 3
   },
   "file_extension": ".py",
   "mimetype": "text/x-python",
   "name": "python",
   "nbconvert_exporter": "python",
   "pygments_lexer": "ipython3",
   "version": "3.7.6"
  }
 },
 "nbformat": 4,
 "nbformat_minor": 4
}
