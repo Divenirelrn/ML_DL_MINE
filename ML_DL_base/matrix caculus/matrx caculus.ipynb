{
 "cells": [
  {
   "cell_type": "markdown",
   "metadata": {},
   "source": [
    "分母布局（Denominator Layout）与分子布局（Numerator Layout）互为转置"
   ]
  },
  {
   "cell_type": "markdown",
   "metadata": {},
   "source": [
    "scalar-by-vector:<br/>\n",
    "$\\frac{\\partial{\\pmb{a}}}{\\partial{\\pmb{x}}}=\\pmb{0}$<br/>\n",
    "$\\frac{\\partial{\\pmb{au}}}{\\partial{\\pmb{x}}}=\\pmb{a}\\frac{\\partial{\\pmb{u}}}{\\partial{\\pmb{x}}},\\pmb{u}=\\pmb{u}(\\pmb{x})$<br/>\n",
    "$\\frac{\\partial{\\pmb{(u+v)}}}{\\partial{\\pmb{x}}}=\\frac{\\partial{\\pmb{u}}}{\\partial{\\pmb{x}}} + \\frac{\\partial{\\pmb{v}}}{\\partial{\\pmb{x}}},\\pmb{u}=\\pmb{u}(\\pmb{x}),\\pmb{v}=\\pmb{v}(\\pmb{x})$<br/>\n",
    "$\\frac{\\partial{\\pmb{(uv)}}}{\\partial{\\pmb{x}}}=\\pmb{u}\\frac{\\partial{\\pmb{v}}}{\\partial{\\pmb{x}}} + \\pmb{v}\\frac{\\partial{\\pmb{u}}}{\\partial{\\pmb{x}}}$<br/>\n",
    "$\\frac{\\partial{\\pmb{g(u)}}}{\\partial{\\pmb{x}}}=\\frac{\\partial{\\pmb{g(u)}}}{\\partial{\\pmb{u}}}\\frac{\\partial{\\pmb{u}}}{\\partial{\\pmb{x}}}$<br/>\n",
    "$\\frac{\\partial{\\pmb{f(g(u))}}}{\\partial{\\pmb{x}}}=\\frac{\\partial{\\pmb{f(g)}}}{\\partial{\\pmb{g}}}\\frac{\\partial{\\pmb{g(u)}}}{\\partial{\\pmb{u}}}\\frac{\\partial{\\pmb{u}}}{\\partial{\\pmb{x}}}$<br/>"
   ]
  },
  {
   "cell_type": "markdown",
   "metadata": {},
   "source": []
  }
 ],
 "metadata": {
  "kernelspec": {
   "display_name": "Python 3",
   "language": "python",
   "name": "python3"
  },
  "language_info": {
   "codemirror_mode": {
    "name": "ipython",
    "version": 3
   },
   "file_extension": ".py",
   "mimetype": "text/x-python",
   "name": "python",
   "nbconvert_exporter": "python",
   "pygments_lexer": "ipython3",
   "version": "3.7.6"
  }
 },
 "nbformat": 4,
 "nbformat_minor": 4
}
