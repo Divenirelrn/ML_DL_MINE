{
 "cells": [
  {
   "cell_type": "markdown",
   "metadata": {},
   "source": [
    "lecun_initialization是lecun于1998年提出的一种权值初始化方法，一般配合tanh使用"
   ]
  },
  {
   "cell_type": "markdown",
   "metadata": {},
   "source": [
    "lecun_initialization在SELU激活函数的文章里有涉及，在使用SELU激活函数的时候，要配合使用lecun_initialization，才能达到标准化输出的目的（在公式推导中需要参数满足N(0, 1/k),其中k为前一层神经元的个数）"
   ]
  },
  {
   "cell_type": "markdown",
   "metadata": {},
   "source": [
    "lecun_initialization的初始化方法（以正态分布为例）：\n",
    "$$w \\sim N(0, \\frac{1}{fan_{in}}) $$"
   ]
  },
  {
   "cell_type": "code",
   "execution_count": null,
   "metadata": {},
   "outputs": [],
   "source": []
  }
 ],
 "metadata": {
  "kernelspec": {
   "display_name": "Python 3",
   "language": "python",
   "name": "python3"
  },
  "language_info": {
   "codemirror_mode": {
    "name": "ipython",
    "version": 3
   },
   "file_extension": ".py",
   "mimetype": "text/x-python",
   "name": "python",
   "nbconvert_exporter": "python",
   "pygments_lexer": "ipython3",
   "version": "3.7.6"
  }
 },
 "nbformat": 4,
 "nbformat_minor": 4
}
