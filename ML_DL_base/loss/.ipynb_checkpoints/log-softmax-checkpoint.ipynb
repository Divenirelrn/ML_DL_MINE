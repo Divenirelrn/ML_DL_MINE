{
 "cells": [
  {
   "cell_type": "markdown",
   "metadata": {},
   "source": [
    "softmax由于涉及指数运算，可能出现上溢出或下溢出的问题，因此一般用log-softmax来保证运算的精确性"
   ]
  },
  {
   "cell_type": "markdown",
   "metadata": {},
   "source": [
    "log-softmax的数学表达式如下：<br/>\n",
    "$$\n",
    "L_i = log(\\frac{e^{z_j}}{\\sum_{i=1}^{n}{e^{z_i}}})\n",
    "$$\n",
    "$即softmax之后取对数（一般是ln）$<br/>"
   ]
  },
  {
   "cell_type": "markdown",
   "metadata": {},
   "source": [
    "而在实际运算时，往往采用如下公式：<br/>\n",
    "$$\n",
    "L_i = log(\\frac{e^{z_j}}{\\sum_{i=1}^{n}{e^{z_i}}}) = log(\\frac{e^{z_j}/e^M}{\\sum_{i=1}^{n}{e^{z_i}/e^M}}) = (z_j - M) - log(\\sum_{i=1}^{n}{e^{(z_i-M)}})\n",
    "$$\n",
    "$其中，M=max(z_i), i=1,2,...,n$"
   ]
  },
  {
   "cell_type": "code",
   "execution_count": null,
   "metadata": {},
   "outputs": [],
   "source": []
  }
 ],
 "metadata": {
  "kernelspec": {
   "display_name": "Python 3",
   "language": "python",
   "name": "python3"
  },
  "language_info": {
   "codemirror_mode": {
    "name": "ipython",
    "version": 3
   },
   "file_extension": ".py",
   "mimetype": "text/x-python",
   "name": "python",
   "nbconvert_exporter": "python",
   "pygments_lexer": "ipython3",
   "version": "3.7.6"
  }
 },
 "nbformat": 4,
 "nbformat_minor": 4
}
