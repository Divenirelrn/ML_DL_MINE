{
 "cells": [
  {
   "cell_type": "markdown",
   "metadata": {},
   "source": [
    "随机过程是一组时间序列的随机变量，可以看成是一组随机变量的集合，在每个时间点的随机变量的概率分布不同。<br/>\n",
    "与随机变量不同，随机变量的概率分布是不变的，如离散型随机变量的概率分布为[0.2, 0.6, 0.2]，则一直是[0.2,0.6,0.2]；而随机过程在每个时间点的概率分布均不同，如当前时刻概率分布为[0.2,0.6,0.2]，下一个时刻可能变为[0.3,0.5,0.2]。"
   ]
  },
  {
   "cell_type": "markdown",
   "metadata": {},
   "source": [
    "马尔科夫过程是典型的随机过程，是一种特殊的随机过程，是假设当前时刻的状态只与前一个时刻的状态有关，与其它时刻的状态无关，即：\n",
    "$p(x_t | x_0, ...,x_{t-1}) = p(x_t | x_{t-1})$，满足此条件的随机过程也称为具有马尔科夫性。"
   ]
  },
  {
   "cell_type": "markdown",
   "metadata": {},
   "source": [
    "马尔科夫性为计算联合概率提供了一种更简洁的方式：<br/>\n",
    "$p(X_0, ..., X_T) = p(X_T|X_{T-1})p(X_{T-1}|x_{T-2})...p(X_1|X_0)p(X_0)$"
   ]
  },
  {
   "cell_type": "markdown",
   "metadata": {},
   "source": [
    "根据状态是否连续、时间是否连续，可将马尔科夫过程分为：连续时间的马尔科夫过程（连续时间、离散状态）、具有马尔科夫性的连续型随机过程（连续时间、连续状态）、有限或可数状态空间的马尔科夫链（离散时间、离散状态）、可测状态空间的马尔科夫链（离散时间、连续状态）。"
   ]
  },
  {
   "cell_type": "markdown",
   "metadata": {},
   "source": [
    "时间或状态离散的马尔科夫过程称为马尔科夫链，一般的研究对象为时间离散的马尔科夫链（以下统称马尔科夫链）"
   ]
  },
  {
   "cell_type": "markdown",
   "metadata": {},
   "source": [
    "马尔科夫链可用状态转移矩阵表示条件概率，如天气有三种状态：{晴天、阴天、雨天}，其状态转移矩阵为：<br/>\n",
    "$P = \\left[ \\begin{matrix} 0.7 & 0.2 & 0.1\\\\ 0.4 & 0.5 & 0.1 \\\\ 0.3 & 0.4 & 0.3 \\end{matrix} \\right]$<br/>\n",
    "$其中每一行的和均为1。状态是指某一个时刻的概率分布，一般用\\pi 表示，\\\\如初始状态为\\pi_0 = (0.5,0.4,0.1)$"
   ]
  },
  {
   "cell_type": "markdown",
   "metadata": {},
   "source": [
    "n步转移矩阵：<br/>\n",
    "$P^{(n)} = \\left[ \\begin{matrix} p_{11}^{(n)} & ... & p_{1m}^{(n)}\\\\ ... \\\\ p_{m1}^{(n)} & ... & p_{mm}^{(n)} \\end{matrix} \\right]$<br/>\n",
    "表示状态经过n步转移到一个新的状态"
   ]
  },
  {
   "cell_type": "markdown",
   "metadata": {},
   "source": [
    "n步转移概率满足Chapman-Kolmogorov方程（简称C-K方程）：<br/>\n",
    "$p_{ij}^{(n)} = \\sum_{k=1}^{m}{p_{ik}^{(l)}}p_{kj}^{(n-l)}$<br/>\n",
    "$即从状态i经过n次转移进入状态j的概率，等于先从i经过l次转移进入k的概率乘以从状态k经过n-l次转移进入j的概率$"
   ]
  },
  {
   "cell_type": "code",
   "execution_count": null,
   "metadata": {},
   "outputs": [],
   "source": []
  }
 ],
 "metadata": {
  "kernelspec": {
   "display_name": "Python 3",
   "language": "python",
   "name": "python3"
  },
  "language_info": {
   "codemirror_mode": {
    "name": "ipython",
    "version": 3
   },
   "file_extension": ".py",
   "mimetype": "text/x-python",
   "name": "python",
   "nbconvert_exporter": "python",
   "pygments_lexer": "ipython3",
   "version": "3.7.6"
  }
 },
 "nbformat": 4,
 "nbformat_minor": 4
}
