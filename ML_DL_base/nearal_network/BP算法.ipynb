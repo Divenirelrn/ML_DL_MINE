{
 "cells": [
  {
   "cell_type": "markdown",
   "metadata": {},
   "source": [
    "$对于一个两层的神经网络（不包含输入层），输入层节点数为l_1, 隐层节点数为l_2,输出层节点数为l_3, 输入x_i 为l_1 \\times 1, w_1为l_2 \\times l_1, w_2为l_3 \\times l_2，\\\\样本数为m$"
   ]
  },
  {
   "cell_type": "markdown",
   "metadata": {},
   "source": [
    "$loss函数定义为loss = -\\sum_{i=1}^{m}{y_i^Tln(h(x_i))},其中h(x)为决策函数$"
   ]
  },
  {
   "cell_type": "markdown",
   "metadata": {},
   "source": [
    "$令w = [w, b](增广矩阵)，对于单个样本，前向传导过程：$<br/>\n",
    "$h_{1,i} = w_1x_i$<br/>\n",
    "$a_{1,i} = \\delta(h_{1,i})$<br/>\n",
    "$h_{2,i} = w_2a_{1,i}$<br/>\n",
    "$out_i = s(h_{2,i}), 其中s(h_{2,i}) = \\frac{exp(h_{2,i})}{1^Texp(h_{2,i})}$"
   ]
  },
  {
   "cell_type": "markdown",
   "metadata": {},
   "source": [
    "$反向传导过程：$\n",
    "$dloss = -\\sum_{i=1}^{m}{y_i^Tdln(s(h_{2,i}))} = -\\sum_{i=1}^{m}{(y_i^T - s^T(h_{2,i}))dh_2}$<br/>\n",
    "$\\frac{\\partial{loss}}{\\partial{h_{2}}} = -\\sum_{i=1}^{m}{(s(h_{2,i}) - y_i)}$"
   ]
  },
  {
   "cell_type": "markdown",
   "metadata": {},
   "source": [
    "$ 使用复合法则：dloss = \\frac{\\partial{loss}}{\\partial{h_{2}}}^T dh_2 = \\frac{\\partial{loss}}{\\partial{h_{2}}}^T (dw_2)a_1 + \\frac{\\partial{loss}}{\\partial{h_{2}}}^T w_2da_1$<br/>\n",
    "$对第一项与第二项分别使用迹技巧，得到\\frac{\\partial{loss}}{\\partial{w_2}} = \\frac{\\partial{loss}}{\\partial{h_{2}}}a_1^T, \\frac{\\partial{loss}}{\\partial{a_1}} = w_2^T \\frac{\\partial{loss}}{\\partial{h_2}}$"
   ]
  },
  {
   "cell_type": "markdown",
   "metadata": {},
   "source": [
    "$继续对上式第二项采用复合法则：dl2 = \\frac{\\partial{loss}}{\\partial{a_1}}^Tda_1 = \\frac{\\partial{loss}}{\\partial{a_1}}^Td(\\delta(w_1x_i))$<br/>\n",
    "$得到\\frac{\\partial{loss}}{\\partial{w_1}} = \\frac{\\partial{loss}}{\\partial{a_1}} \\cdot \\delta'(w_1x_i)x_i^T$"
   ]
  },
  {
   "attachments": {},
   "cell_type": "markdown",
   "metadata": {},
   "source": []
  },
  {
   "cell_type": "code",
   "execution_count": null,
   "metadata": {},
   "outputs": [],
   "source": []
  }
 ],
 "metadata": {
  "kernelspec": {
   "display_name": "Python 3",
   "language": "python",
   "name": "python3"
  },
  "language_info": {
   "codemirror_mode": {
    "name": "ipython",
    "version": 3
   },
   "file_extension": ".py",
   "mimetype": "text/x-python",
   "name": "python",
   "nbconvert_exporter": "python",
   "pygments_lexer": "ipython3",
   "version": "3.7.6"
  }
 },
 "nbformat": 4,
 "nbformat_minor": 4
}
