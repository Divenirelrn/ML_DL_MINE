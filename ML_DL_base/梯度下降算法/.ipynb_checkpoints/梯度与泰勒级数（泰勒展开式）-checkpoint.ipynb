{
 "cells": [
  {
   "cell_type": "markdown",
   "metadata": {},
   "source": [
    "一元函数的导数与Taylor展开式：<br/>\n",
    "$$f(x)=f(x_0)+\\frac{f'(x_0)}{1!}(x-x_0)+\\frac{f''(x_0)}{2!}(x-x_0)^2+\\cdots +\\frac{f^{(n)}(x_0)}{n!}(x-x_0)^n+R_n(x)$$\n",
    "其中，$R_n(x)=o((x-x_0)^n)$<br/>\n",
    "余项：$x \\rightarrow x_0时，o((x-x_0)^n) \\rightarrow 0$"
   ]
  },
  {
   "cell_type": "markdown",
   "metadata": {},
   "source": [
    "多元函数$f( \\pmb{x} )=f(x_1,...,x_n)$的梯度与Taylor展开式：<br/>\n",
    "$$\n",
    "f(x) = f(x_0) + \\nabla f(x_0)(x-x_0) + \\frac{1}{2}(x-x_0)^T H (x-x_0) + o(|x-x_0|^2)\n",
    "$$\n",
    "其中，\n",
    "$$\n",
    "\\nabla f(\\pmb{x}) = (\\frac{\\partial f}{\\partial x_1}(\\pmb{x}),...,\\frac{\\partial f}{\\partial x_n}(\\pmb{x}))\n",
    "$$\n",
    "H为黑塞矩阵：<br/>\n",
    "$$\n",
    "H = \\left[ \\begin{matrix} \n",
    "\\frac{\\partial^2f}{\\partial x_1^2} & \\frac{\\partial^2f}{\\partial x_1 \\partial x_2} & ... & \\frac{\\partial^2f}{\\partial x_1 \\partial x_n}\n",
    "\\\\ \\frac{\\partial^2f}{\\partial x_2 \\partial x_1} & \\frac{\\partial^2f}{\\partial x_2 \\partial x_2} & ... & \\frac{\\partial^2f}{\\partial x_2 \\partial x_n}\n",
    "\\\\ ...\n",
    "\\\\ \\frac{\\partial^2f}{\\partial x_n \\partial x_1} & \\frac{\\partial^2f}{\\partial x_n \\partial x_2} & ... & \\frac{\\partial^2f}{\\partial x_n \\partial x_n}\n",
    "\\end{matrix}\\right]\n",
    "$$"
   ]
  },
  {
   "cell_type": "code",
   "execution_count": null,
   "metadata": {},
   "outputs": [],
   "source": []
  }
 ],
 "metadata": {
  "kernelspec": {
   "display_name": "Python 3",
   "language": "python",
   "name": "python3"
  },
  "language_info": {
   "codemirror_mode": {
    "name": "ipython",
    "version": 3
   },
   "file_extension": ".py",
   "mimetype": "text/x-python",
   "name": "python",
   "nbconvert_exporter": "python",
   "pygments_lexer": "ipython3",
   "version": "3.7.6"
  }
 },
 "nbformat": 4,
 "nbformat_minor": 4
}
