{
 "cells": [
  {
   "cell_type": "markdown",
   "metadata": {},
   "source": [
    "在假设模型输出与真实值之间的误差服从拉普拉斯分布的前提下，最小化绝对值误差与极大似然估计本质上是一致的"
   ]
  },
  {
   "cell_type": "markdown",
   "metadata": {},
   "source": [
    "$假设模型输出与真实值之间的误差服从拉普拉斯分布(\\mu=0, b=1)，\\\\则给定一个x_i,模型输出y_i(y_i为标签)的概率为：$<br/>\n",
    "$$\n",
    "p(y_i|x_i) = \\frac{1}{2}exp[-|y_i - \\hat y_i|]\n",
    "$$\n",
    "$假设所有样本之间独立同分布，则给定数据集X，模型输出Y(标签)的概率，即对数似然函数为：$\n",
    "$$\n",
    "L(x,y) = \\prod_{i=1}^{m}{\\frac{1}{2}exp(-|y_i - \\hat y_i|)}\n",
    "$$\n",
    "$为方便计算，两边取对数：$<br/>\n",
    "$$\n",
    "ln(L(x,y)) = -\\frac{m}{2} - \\frac{1}{2}\\sum_{i=1}^{m}{|y_i - \\hat y_i|}\n",
    "$$\n",
    "$去掉常数项，得：$\n",
    "$$\n",
    "ln(L(x,y)) = - \\frac{1}{2}\\sum_{i=1}^{m}{|y_i - \\hat y_i|}\n",
    "$$\n",
    "$取负号，即得到MAE的损失函数$"
   ]
  },
  {
   "cell_type": "code",
   "execution_count": null,
   "metadata": {},
   "outputs": [],
   "source": []
  }
 ],
 "metadata": {
  "kernelspec": {
   "display_name": "Python 3",
   "language": "python",
   "name": "python3"
  },
  "language_info": {
   "codemirror_mode": {
    "name": "ipython",
    "version": 3
   },
   "file_extension": ".py",
   "mimetype": "text/x-python",
   "name": "python",
   "nbconvert_exporter": "python",
   "pygments_lexer": "ipython3",
   "version": "3.7.6"
  }
 },
 "nbformat": 4,
 "nbformat_minor": 4
}
