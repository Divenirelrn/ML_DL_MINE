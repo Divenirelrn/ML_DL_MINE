{
 "cells": [
  {
   "cell_type": "markdown",
   "metadata": {},
   "source": [
    "xavier初始化也叫做Glorot初始化，该初始化方法是使得前向传播时各层激活值方差一致，且反向传播时梯度方差一致"
   ]
  },
  {
   "cell_type": "markdown",
   "metadata": {},
   "source": [
    "xavier一般是配合tanh一起用的，因为tanh是0中心"
   ]
  },
  {
   "cell_type": "markdown",
   "metadata": {},
   "source": [
    "$以均匀分布为例，假设输入x均值为0，权重均值为0,偏置方差为0$<br/>\n",
    "$前向传播：$<br/>\n",
    "$ h^k = \\sum_{i=1}^{n_k-1}{(w_i^kh_i^{k-1} + b_i^k)} $<br/>\n",
    "$ 令输入方差等于输出方差： $<br/>\n",
    "$ D(h^k) = n_{k-1}D(w_k)D(h^{k-1}) $<br/>\n",
    "$则D(w^k) = \\frac{1}{n_{k-1}}$\n",
    "$反向传播：$<br/>\n",
    "$\\frac{\\partial{cost}}{\\partial{h^{k-1}}} = \\sum_{i=1}^{n_k}{w_i^k\\frac{\\partial{cost}}{\\partial{h_i^k}}}$<br/>\n",
    "$令前一层的梯度方差等于后一层的梯度方差，可得：$<br/>\n",
    "$D(w^k) = \\frac{1}{n_k}$<br/>\n",
    "$折中取值，得D(w_k) = \\frac{2}{n_k + n_{k-1}}$<br/>\n",
    "$则此时w \\sim U(-\\sqrt{\\frac{6}{n_k + n_{k-1}}}, \\sqrt{\\frac{6}{n_k + n_{k-1}}})$"
   ]
  },
  {
   "cell_type": "markdown",
   "metadata": {},
   "source": [
    "在使用tanh时，方差会逐层减小，因为每层的值经过tanh后，方差发生了变化，需要计算增益，各个激活函数的增益如下：\n",
    "<img src=\"1.jpg\" alt=\"\" width=\"30%\" height=\"30%\" align=\"center\" />"
   ]
  },
  {
   "cell_type": "markdown",
   "metadata": {},
   "source": [
    "在有激活函数的情况下，各种激活函数的xavier初始化方法如下：\n",
    "<img src=\"2.jpg\" alt=\"\" width=\"50%\" height=\"50%\" align=\"center\" />"
   ]
  },
  {
   "cell_type": "code",
   "execution_count": null,
   "metadata": {},
   "outputs": [],
   "source": []
  }
 ],
 "metadata": {
  "kernelspec": {
   "display_name": "Python 3",
   "language": "python",
   "name": "python3"
  },
  "language_info": {
   "codemirror_mode": {
    "name": "ipython",
    "version": 3
   },
   "file_extension": ".py",
   "mimetype": "text/x-python",
   "name": "python",
   "nbconvert_exporter": "python",
   "pygments_lexer": "ipython3",
   "version": "3.7.6"
  }
 },
 "nbformat": 4,
 "nbformat_minor": 4
}
