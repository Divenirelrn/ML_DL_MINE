{
 "cells": [
  {
   "cell_type": "code",
   "execution_count": 4,
   "metadata": {},
   "outputs": [],
   "source": [
    "import torch\n",
    "import torch.nn as nn\n",
    "\n",
    "class BatchNorm1d(nn.Module):\n",
    "    def __init__(self):\n",
    "        super().__init__()\n",
    "        self.epsilon = torch.tensor(0.0001)\n",
    "\n",
    "    def forward(self, x, lamb=0.1, beta=0.1):\n",
    "        mu = x.mean(dim=0)\n",
    "        var = x.var(dim=0)\n",
    "        x = (x - mu) / torch.sqrt(var + self.epsilon)\n",
    "        x = lamb * x + beta\n",
    "\n",
    "        return x"
   ]
  },
  {
   "cell_type": "code",
   "execution_count": 5,
   "metadata": {},
   "outputs": [
    {
     "name": "stdout",
     "output_type": "stream",
     "text": [
      "tensor([[ 7.2879e-02,  2.8467e-01,  2.1767e-02,  8.0477e-02,  8.5065e-02,\n",
      "          2.1376e-02,  2.7958e-01,  1.8744e-01,  1.9016e-01,  2.0988e-01],\n",
      "        [ 8.7985e-02,  1.4279e-01,  1.9293e-01,  2.8914e-02,  1.1653e-01,\n",
      "          1.7054e-01,  1.8893e-01,  3.6919e-02, -7.0095e-02,  1.2405e-01],\n",
      "        [ 1.4876e-01,  1.9134e-01,  1.1250e-01,  9.5024e-02,  4.8234e-02,\n",
      "          3.3823e-02,  2.0502e-02, -1.5885e-02,  1.7252e-01,  4.8918e-02],\n",
      "        [ 1.3028e-01,  2.2257e-02,  1.0642e-01,  2.3844e-01,  1.3062e-01,\n",
      "          2.5044e-01,  2.6934e-01,  1.3307e-01, -2.0873e-02, -3.2597e-02],\n",
      "        [ 9.8789e-02,  1.9511e-01,  1.9666e-02,  1.6306e-01,  9.3267e-02,\n",
      "          1.0013e-01,  1.2962e-01,  1.2781e-01,  9.5577e-02,  1.8712e-01],\n",
      "        [ 6.2113e-03,  8.7198e-02,  3.4345e-01, -2.1714e-02,  1.0512e-02,\n",
      "          6.2747e-02,  5.0830e-03, -1.2047e-01,  1.5706e-01,  1.7864e-02],\n",
      "        [ 1.9369e-01,  6.9565e-02, -6.4500e-02,  2.3176e-01,  1.7450e-01,\n",
      "         -6.3438e-02,  8.1105e-02,  2.0462e-01, -4.3059e-02,  6.3004e-02],\n",
      "        [-3.1772e-04,  4.1219e-02,  1.7243e-01,  1.5229e-01,  3.1960e-01,\n",
      "          1.8831e-01, -6.4631e-02, -1.5675e-02,  2.4579e-01,  3.0594e-02],\n",
      "        [ 7.9861e-02,  4.2801e-02,  2.1066e-01,  3.3787e-02,  1.7241e-01,\n",
      "          4.5776e-02,  1.8630e-01,  1.9759e-01,  2.0008e-01, -3.8036e-02],\n",
      "        [ 3.1821e-01,  1.7144e-02, -3.5883e-02,  2.3607e-01,  4.5837e-02,\n",
      "         -3.8261e-02, -3.9265e-04,  2.6782e-01, -7.2753e-02,  1.0409e-01],\n",
      "        [ 1.6037e-01, -6.5349e-02,  6.5032e-02,  1.2135e-01, -8.9308e-03,\n",
      "          1.1809e-01,  7.6794e-02,  1.8889e-02,  9.0326e-02,  2.1387e-01],\n",
      "        [ 5.8891e-02, -7.5911e-03,  9.7349e-02, -1.0932e-01, -1.5602e-02,\n",
      "          3.2476e-02,  1.7454e-01,  1.2420e-01,  1.6674e-01,  9.8894e-02],\n",
      "        [ 2.2255e-01,  1.0567e-01,  6.7820e-02,  1.3471e-01,  1.4859e-01,\n",
      "          2.1427e-01,  3.4135e-02,  1.3091e-01,  1.1173e-01,  4.3754e-02],\n",
      "        [ 1.1788e-01,  2.6735e-01,  1.3690e-01,  1.3926e-01,  1.2965e-01,\n",
      "          2.8196e-01,  5.2041e-03,  1.2776e-01,  1.2577e-01,  2.3072e-01],\n",
      "        [-1.0123e-01,  1.6988e-01,  1.0487e-01, -2.8609e-02,  2.2674e-01,\n",
      "          1.2720e-01,  9.1994e-02,  1.3959e-01,  9.7671e-02,  2.8952e-01],\n",
      "        [ 5.1979e-03,  3.5947e-02,  4.8577e-02,  1.0451e-01, -7.7022e-02,\n",
      "          5.4572e-02,  1.2189e-01,  5.5406e-02,  1.5336e-01,  8.3657e-03]])\n"
     ]
    }
   ],
   "source": [
    "bn = BatchNorm1d()\n",
    "x = torch.randn(16, 10)\n",
    "out = bn(x)\n",
    "print(out)"
   ]
  },
  {
   "cell_type": "code",
   "execution_count": 5,
   "metadata": {},
   "outputs": [],
   "source": [
    "import torch\n",
    "import torch.nn as nn\n",
    "\n",
    "class BatchNorm2d(nn.Module):\n",
    "    def __init__(self, lambd = 0.99, gamma=0.1, beta=0.1):\n",
    "        super().__init__()\n",
    "        self.gamma = gamma\n",
    "        self.beta = beta\n",
    "        self.lambd = lambd\n",
    "        self.running_mean = 0\n",
    "        self.running_var = 0\n",
    "\n",
    "    def forward(self, x):\n",
    "        #b, c, h, w\n",
    "        mu = x.mean(dim=[0,2,3])\n",
    "        var = x.var(dim=[0,2,3])\n",
    "        x = (x - mu.unsqueeze(1).unsqueeze(2)) / torch.sqrt(var.unsqueeze(1).unsqueeze(2) + 1e-5)\n",
    "        x = self.gamma * x + self.beta\n",
    "\n",
    "        #EMA方法计算mean与var\n",
    "        self.running_mean = self.lambd * self.running_mean + (1 - self.lambd) * self.running_mean\n",
    "        self.running_var = self.lambd * self.running_var + (1 - self.lambd) * self.running_var\n",
    "\n",
    "        return x\n"
   ]
  },
  {
   "cell_type": "code",
   "execution_count": 4,
   "metadata": {},
   "outputs": [
    {
     "name": "stdout",
     "output_type": "stream",
     "text": [
      "torch.Size([16, 100, 80, 60])\n"
     ]
    }
   ],
   "source": [
    "bn = BatchNorm2d()\n",
    "x = torch.rand(16, 100, 80, 60)\n",
    "out = bn(x)\n",
    "print(out.shape)"
   ]
  },
  {
   "cell_type": "code",
   "execution_count": null,
   "metadata": {},
   "outputs": [],
   "source": []
  }
 ],
 "metadata": {
  "kernelspec": {
   "display_name": "Python 3",
   "language": "python",
   "name": "python3"
  },
  "language_info": {
   "codemirror_mode": {
    "name": "ipython",
    "version": 3
   },
   "file_extension": ".py",
   "mimetype": "text/x-python",
   "name": "python",
   "nbconvert_exporter": "python",
   "pygments_lexer": "ipython3",
   "version": "3.7.6"
  }
 },
 "nbformat": 4,
 "nbformat_minor": 4
}
