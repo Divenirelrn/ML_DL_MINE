{
 "cells": [
  {
   "cell_type": "markdown",
   "metadata": {},
   "source": [
    "信息量的概念：一个发生概率小的事件发生了，包含的信息量就大<br/>\n",
    "$信息量应满足以下性质：$<br/>\n",
    "$1)非负性$<br/>\n",
    "$2)对于两个独立变量，p(x,y) = p(x)p(y)，而他们的信息量应为h(x,y) = h(x) + h(y)$<br/>\n",
    "$因此信息量的定义为：$<br/>\n",
    "$$\n",
    "h(x) = -lnp(x)\n",
    "$$"
   ]
  },
  {
   "cell_type": "markdown",
   "metadata": {},
   "source": [
    "熵是信息量的数学期望，即：<br/>\n",
    "$$\n",
    "H(p) = E_p([-ln(p(x))]) = \\sum_{i=1}^{n}{p_i(-ln(p_i))}, 其中n为变量的取值个数\n",
    "$$\n",
    "$如：对于以下离散变量的概率分布：$<br/>\n",
    "<img src=\"2.jpg\" alt=\"\" width=\"80%\" height=\"80%\" align=\"center\" />\n",
    "$H(p) = -ln0.25 - 2 * ln0.25 - 3 * ln0.25 - 4 * ln0.25 = 1.386$"
   ]
  },
  {
   "cell_type": "code",
   "execution_count": null,
   "metadata": {},
   "outputs": [],
   "source": []
  }
 ],
 "metadata": {
  "kernelspec": {
   "display_name": "Python 3",
   "language": "python",
   "name": "python3"
  },
  "language_info": {
   "codemirror_mode": {
    "name": "ipython",
    "version": 3
   },
   "file_extension": ".py",
   "mimetype": "text/x-python",
   "name": "python",
   "nbconvert_exporter": "python",
   "pygments_lexer": "ipython3",
   "version": "3.7.6"
  }
 },
 "nbformat": 4,
 "nbformat_minor": 4
}
