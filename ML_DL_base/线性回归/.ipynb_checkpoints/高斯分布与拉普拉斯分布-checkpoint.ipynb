{
 "cells": [
  {
   "cell_type": "markdown",
   "metadata": {},
   "source": [
    "高斯分布：\n",
    "$$\n",
    "f(x) = \\frac{1}{\\delta \\sqrt{2\\pi}}exp[-\\frac{(x-\\mu)^2}{2\\delta^2}]\n",
    "$$"
   ]
  },
  {
   "cell_type": "markdown",
   "metadata": {},
   "source": [
    "拉普拉斯分布：\n",
    "$$\n",
    "f(x) = \\frac{1}{2\\lambda}exp(-\\frac{|x-\\mu|}{\\lambda})\n",
    "$$"
   ]
  },
  {
   "cell_type": "code",
   "execution_count": null,
   "metadata": {},
   "outputs": [],
   "source": []
  }
 ],
 "metadata": {
  "kernelspec": {
   "display_name": "Python 3",
   "language": "python",
   "name": "python3"
  },
  "language_info": {
   "codemirror_mode": {
    "name": "ipython",
    "version": 3
   },
   "file_extension": ".py",
   "mimetype": "text/x-python",
   "name": "python",
   "nbconvert_exporter": "python",
   "pygments_lexer": "ipython3",
   "version": "3.7.6"
  }
 },
 "nbformat": 4,
 "nbformat_minor": 4
}
