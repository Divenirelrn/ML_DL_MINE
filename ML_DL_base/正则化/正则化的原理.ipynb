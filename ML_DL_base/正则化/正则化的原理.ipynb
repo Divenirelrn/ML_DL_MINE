{
 "cells": [
  {
   "cell_type": "markdown",
   "metadata": {},
   "source": [
    "正则化的作用是使得模型的复杂度降低"
   ]
  },
  {
   "cell_type": "markdown",
   "metadata": {},
   "source": [
    "若loss为均方误差，经验风险最小化：\n",
    "$$\n",
    "\\min_w\\frac{1}{2m}\\sum_{i=1}^{m}{(y_i - f(x_i))^2}\n",
    "$$"
   ]
  },
  {
   "cell_type": "markdown",
   "metadata": {},
   "source": [
    "结构风险最小化（添加正则项）：\n",
    "$$\n",
    "\\min_w L = \\min_w\\frac{1}{2m}\\sum_{i=1}^{m}{(y_i - f(x_i))^2} + \\lambda\\sum_{i=1}^{m}{|w|} （L1正则化） \\\\\n",
    "\\min_w L = \\min_w\\frac{1}{2m}\\sum_{i=1}^{m}{(y_i - f(x_i))^2} + \\lambda \\sum_{i=1}^{m}{w^2}（L2正则化）\n",
    "$$"
   ]
  },
  {
   "cell_type": "markdown",
   "metadata": {},
   "source": [
    "利用最小二乘法求解该问题：\n",
    "$\\frac{\\partial{L}}{\\partial{w}} = 0 \\rightarrow w^*（最优解）$"
   ]
  },
  {
   "cell_type": "markdown",
   "metadata": {},
   "source": [
    "从另一个角度考虑该问题，模型的决策函数可用多项式表示为$f(x) = wx = w_0 + w_1x + w_2x^2 + w_3x^3 + ...$，模型的复杂度与参数量有关系，模型的参数量越多则复杂度越高，因此在经验风险最小化的基础上可以对参数进行一个限制：\n",
    "$$\n",
    "min_w \\frac{1}{2m}\\sum_{i=1}^{m}{(y_i - f(x_i))^2} \\\\\n",
    "s.t.\\sum_{i=1}^{n}|w_i| <= M(M为常数)\n",
    "$$\n",
    "或者：\n",
    "$$\n",
    "min_w \\frac{1}{2m}\\sum_{i=1}^{m}{(y_i - f(x_i))^2} \\\\\n",
    "s.t.\\sum_{i=1}^{n}w_i^2 <= M(M为常数)\n",
    "$$"
   ]
  },
  {
   "cell_type": "markdown",
   "metadata": {},
   "source": [
    "这样问题就成为带不等式约束的优化问题，可以用拉格朗日乘子法（kkt条件）进行求解，该问题与带正则项的loss函数求解是等价的，其最优解与用最小二乘法求出的解空间是相同的"
   ]
  },
  {
   "cell_type": "code",
   "execution_count": null,
   "metadata": {},
   "outputs": [],
   "source": []
  }
 ],
 "metadata": {
  "kernelspec": {
   "display_name": "Python 3",
   "language": "python",
   "name": "python3"
  },
  "language_info": {
   "codemirror_mode": {
    "name": "ipython",
    "version": 3
   },
   "file_extension": ".py",
   "mimetype": "text/x-python",
   "name": "python",
   "nbconvert_exporter": "python",
   "pygments_lexer": "ipython3",
   "version": "3.7.6"
  }
 },
 "nbformat": 4,
 "nbformat_minor": 4
}
