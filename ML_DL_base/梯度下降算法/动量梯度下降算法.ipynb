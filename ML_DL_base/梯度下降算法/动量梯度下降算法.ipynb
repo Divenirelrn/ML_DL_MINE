{
 "cells": [
  {
   "cell_type": "markdown",
   "metadata": {},
   "source": [
    "动量项主要解决梯度下降算法中，迭代过程震荡，导致熟练速度慢的问题，依靠惯性保持迭代的方向"
   ]
  },
  {
   "cell_type": "markdown",
   "metadata": {},
   "source": [
    "动量梯度下降算法中，增量的计算公式（指数加权滑动平均）：\n",
    "$$v_k = \\beta v_{k-1} + (1-\\beta)\\nabla f(x_{k-1})$$\n",
    "其中，$\\beta$为动量项系数<br/>\n",
    "迭代公式为：<br/>\n",
    "$$\n",
    "x_k = x_{k-1} - \\alpha v_k\n",
    "$$"
   ]
  },
  {
   "cell_type": "markdown",
   "metadata": {},
   "source": [
    "另一种写法：<br/>\n",
    "$$v_k = \\beta v_{k-1} + \\nabla f(x_{k-1})$$"
   ]
  },
  {
   "cell_type": "markdown",
   "metadata": {},
   "source": [
    "两种写法都可以，区别在于二者对学习率的调节不同，方式二中，改变$\\beta$的值，可能同时也要改变$\\alpha$的值"
   ]
  },
  {
   "cell_type": "code",
   "execution_count": null,
   "metadata": {},
   "outputs": [],
   "source": []
  }
 ],
 "metadata": {
  "kernelspec": {
   "display_name": "Python 3",
   "language": "python",
   "name": "python3"
  },
  "language_info": {
   "codemirror_mode": {
    "name": "ipython",
    "version": 3
   },
   "file_extension": ".py",
   "mimetype": "text/x-python",
   "name": "python",
   "nbconvert_exporter": "python",
   "pygments_lexer": "ipython3",
   "version": "3.7.6"
  }
 },
 "nbformat": 4,
 "nbformat_minor": 4
}
