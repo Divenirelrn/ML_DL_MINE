{
 "cells": [
  {
   "cell_type": "markdown",
   "metadata": {},
   "source": [
    "在计算数学期望时，可以不用采样出p(x)的样本，也可以计算数学期望，即重要性采样(Important sampling, IS)"
   ]
  },
  {
   "cell_type": "markdown",
   "metadata": {},
   "source": [
    "$同样构造一个提议分布q(x)，从该分布直接采样出样本，然后计算数学期望：$<br/>\n",
    "$E_P[f(x)] = \\int_{R^n}{f(x)p(x)}dx = \\int_{R^n}{f(x)\\frac{p(x)}{q(x)}} dx = \\int_{R^n}{f(x)w(x)q(x)}dx = E_p[f(x)w(x)]$"
   ]
  },
  {
   "cell_type": "markdown",
   "metadata": {},
   "source": [
    "$其中w(x) = \\frac{p(x)}{q(x)}称为权重$"
   ]
  },
  {
   "cell_type": "markdown",
   "metadata": {},
   "source": [
    "$可见，计算f(x)的期望可以转化为计算f(x)w(x)的期望$"
   ]
  },
  {
   "cell_type": "code",
   "execution_count": null,
   "metadata": {},
   "outputs": [],
   "source": []
  }
 ],
 "metadata": {
  "kernelspec": {
   "display_name": "Python 3",
   "language": "python",
   "name": "python3"
  },
  "language_info": {
   "codemirror_mode": {
    "name": "ipython",
    "version": 3
   },
   "file_extension": ".py",
   "mimetype": "text/x-python",
   "name": "python",
   "nbconvert_exporter": "python",
   "pygments_lexer": "ipython3",
   "version": "3.7.6"
  }
 },
 "nbformat": 4,
 "nbformat_minor": 4
}
