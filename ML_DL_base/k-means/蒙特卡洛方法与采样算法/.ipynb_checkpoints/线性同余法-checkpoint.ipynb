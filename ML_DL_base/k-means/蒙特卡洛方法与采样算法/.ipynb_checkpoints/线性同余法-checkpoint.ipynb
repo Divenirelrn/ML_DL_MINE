{
 "cells": [
  {
   "cell_type": "markdown",
   "metadata": {},
   "source": [
    "线性同余法（Linear Congruential Generator, LCG）是生成均匀分布随机整数的经典方法，利用线性函数进行迭代，根据上一个随机数x_i确定下一个随机数x_{i+1}，迭代公式为：<br/>\n",
    "$$\n",
    "x_{i+1} = (a x_i + b) mod m\n",
    "$$\n",
    "$其中mod为取余运算，a,b,m为人工设定的常数,典型的参数设置为：\\\\ a = 7^5, b=0, m = 2^{31} - 1= 2147483647$"
   ]
  },
  {
   "cell_type": "markdown",
   "metadata": {},
   "source": [
    "按照这种方式计算出来的随机数称为伪随机数，在现实世界做试验得出的随机数为真随机数，如抛一枚骰子若干次"
   ]
  },
  {
   "cell_type": "markdown",
   "metadata": {},
   "source": []
  }
 ],
 "metadata": {
  "kernelspec": {
   "display_name": "Python 3",
   "language": "python",
   "name": "python3"
  },
  "language_info": {
   "codemirror_mode": {
    "name": "ipython",
    "version": 3
   },
   "file_extension": ".py",
   "mimetype": "text/x-python",
   "name": "python",
   "nbconvert_exporter": "python",
   "pygments_lexer": "ipython3",
   "version": "3.7.6"
  }
 },
 "nbformat": 4,
 "nbformat_minor": 4
}
