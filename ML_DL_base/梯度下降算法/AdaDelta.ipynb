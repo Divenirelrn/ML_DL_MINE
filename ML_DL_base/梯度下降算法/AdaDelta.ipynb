{
 "cells": [
  {
   "cell_type": "markdown",
   "metadata": {},
   "source": [
    "AdaDelta也可视为对ADAGrad的一种改进，采用指数加权平均的方式来计算学习率；同时解除了对全局学习率的依赖<br/>\n",
    "AdaDelta是利用前n（n取决于指数加权平均的衰减系数）个历史值来计算当前值，这也是名字中Delta的由来"
   ]
  },
  {
   "cell_type": "markdown",
   "metadata": {},
   "source": [
    "ADaDelta的迭代公式为：<br/>\n",
    "$$\n",
    "x_k = x_{k-1} - \\frac{RMS(\\Delta x_{k-1})}{RMS(g_k)} \\nabla g_k\n",
    "$$"
   ]
  },
  {
   "cell_type": "markdown",
   "metadata": {},
   "source": [
    "$其中，RMS(g_k)=\\sqrt{s_{g_k} + \\epsilon}, 而s_{g_k} = \\beta s_{g_{k-1}} + (1 - \\beta)g_k^2$ <br/>\n",
    "$同样的，RMS(\\Delta x_{k-1}) = \\sqrt{(s_{\\Delta x_{k-1}}) + \\epsilon}, s_{\\Delta x_{k-1}} = \\beta s_{\\Delta x_{k-2}} + (1 - \\beta) \\Delta x_{k-1}^2 $"
   ]
  },
  {
   "cell_type": "code",
   "execution_count": null,
   "metadata": {},
   "outputs": [],
   "source": []
  }
 ],
 "metadata": {
  "kernelspec": {
   "display_name": "Python 3",
   "language": "python",
   "name": "python3"
  },
  "language_info": {
   "codemirror_mode": {
    "name": "ipython",
    "version": 3
   },
   "file_extension": ".py",
   "mimetype": "text/x-python",
   "name": "python",
   "nbconvert_exporter": "python",
   "pygments_lexer": "ipython3",
   "version": "3.7.6"
  }
 },
 "nbformat": 4,
 "nbformat_minor": 4
}
