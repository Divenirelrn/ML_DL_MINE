{
 "cells": [
  {
   "cell_type": "markdown",
   "metadata": {},
   "source": [
    "对于线性不可分的情况，一定能找到一个高维空间，使得在该高维空间里，样本线性可分"
   ]
  },
  {
   "cell_type": "markdown",
   "metadata": {},
   "source": [
    "$令\\Phi(x)为x映射到高维空间的特征向量，则优化问题可以表示为：$\n",
    "$$\n",
    "\\begin{cases}\n",
    "min \\frac{1}{2}{||w||^2} \\\\\n",
    "s.t.y_i(w^T\\Phi(x_i) + b) >= 1\n",
    "\\end{cases}\n",
    "$$"
   ]
  },
  {
   "cell_type": "markdown",
   "metadata": {},
   "source": [
    "原问题的对偶问题可以表示为：<br/>\n",
    "$$\n",
    "\\begin{cases}\n",
    "\\max_{\\lambda} [-\\frac{1}{2}\\sum_{i=1}^{m}{\\sum_{j=1}^{m}{\\lambda_i\\lambda_jy_iy_j\\Phi(x_i)^T\\Phi(x_j)}} + \\sum_{i=1}^{m}{\\lambda_i}]\\\\\n",
    " s.t. \\sum_{i=1}^{m}{\\lambda_iy_i} = 0 \\\\\n",
    " \\lambda_i >= 0\n",
    "\\end{cases}\n",
    "$$"
   ]
  },
  {
   "cell_type": "markdown",
   "metadata": {},
   "source": [
    "$先将x_i与x_j映射到高维空间，再计算内积，这种方法计算量大，且难度较高$<br/>\n",
    "$SVM中采用了一种直接计算映射后的特征向量的内积的方法，即k(x_i, x_j) = \\Phi(x_i)^T\\Phi(x_j)$"
   ]
  },
  {
   "cell_type": "markdown",
   "metadata": {},
   "source": [
    "$k(x_i, x_j)可以选用线性核函数、多项式核、高斯核等，计算公式如下：$<br/>\n",
    "$线性核：k(x_i, x_j) = x_i^Tx_j$<br/>\n",
    "$多项式核：k(x_i, x_j) = (x_i^Tx_j)^d$<br/>\n",
    "$高斯核（RBF）：k(x_i, x_j) = exp(-\\frac{||x_i - x_j||^2}{2\\delta^2}), \\delta为高斯核带宽（注意在实际实现时一般是\\gamma, \\gamma = \\frac{1}{\\delta}）$"
   ]
  },
  {
   "cell_type": "markdown",
   "metadata": {},
   "source": [
    "求解对偶问题即可得到决策函数：<br/>\n",
    "$y = w^T\\Phi(x) + b = \\sum_{i=1}^{m}{\\lambda_iy_i\\Phi{(x_i)}^T\\Phi(x)} + b = \\sum_{i=1}^{m}{\\lambda_iy_ik(x_i, x_j)} + b$"
   ]
  },
  {
   "cell_type": "code",
   "execution_count": null,
   "metadata": {},
   "outputs": [],
   "source": []
  }
 ],
 "metadata": {
  "kernelspec": {
   "display_name": "Python 3",
   "language": "python",
   "name": "python3"
  },
  "language_info": {
   "codemirror_mode": {
    "name": "ipython",
    "version": 3
   },
   "file_extension": ".py",
   "mimetype": "text/x-python",
   "name": "python",
   "nbconvert_exporter": "python",
   "pygments_lexer": "ipython3",
   "version": "3.7.6"
  }
 },
 "nbformat": 4,
 "nbformat_minor": 4
}
