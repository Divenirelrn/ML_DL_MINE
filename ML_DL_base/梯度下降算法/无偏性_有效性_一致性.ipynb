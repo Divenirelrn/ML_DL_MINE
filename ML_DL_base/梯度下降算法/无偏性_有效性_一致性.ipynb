{
 "cells": [
  {
   "cell_type": "markdown",
   "metadata": {},
   "source": [
    "点估计的优良性准则：无偏性、有效性、一致性"
   ]
  },
  {
   "cell_type": "markdown",
   "metadata": {},
   "source": [
    "无偏性：$ E(\\bar{\\theta}) = \\theta  $<br/>\n",
    "$解释：n次采样，第一次取10个学生的身高，得估计值\\bar{\\theta_1};第二次再取10个学生的身高，得估计值\\bar{\\theta_2},... ，最终总体的期望\\theta = E(\\bar{\\theta}) = \\frac{1}{n}\\sum_{i=1}{n}{\\bar{\\theta_i}}$<br/>\n",
    "$总体X, E(X)=\\mu, DX = \\delta^2$<br/>\n",
    "$1)样本期望\\bar{X}是\\mu的无偏估计$<br/>\n",
    "$2)样本方差s^2 = \\frac{1}{n-1}\\sum_{i=1}{n}{(x_i - \\bar{X})^2}是\\delta^2的无偏估计$<br/>\n",
    "$2)无修正的样本方差s^2 = \\frac{1}{n}\\sum_{i=1}{n}{(x_i - \\bar{X})^2}是\\delta^2的有偏估计$"
   ]
  },
  {
   "cell_type": "markdown",
   "metadata": {},
   "source": [
    "有效性：方差越小，就越有效"
   ]
  },
  {
   "cell_type": "markdown",
   "metadata": {},
   "source": [
    "一致性：样本数量越多，估计值越接近分布的真实参数值"
   ]
  },
  {
   "cell_type": "code",
   "execution_count": null,
   "metadata": {},
   "outputs": [],
   "source": []
  }
 ],
 "metadata": {
  "kernelspec": {
   "display_name": "Python 3",
   "language": "python",
   "name": "python3"
  },
  "language_info": {
   "codemirror_mode": {
    "name": "ipython",
    "version": 3
   },
   "file_extension": ".py",
   "mimetype": "text/x-python",
   "name": "python",
   "nbconvert_exporter": "python",
   "pygments_lexer": "ipython3",
   "version": "3.7.6"
  }
 },
 "nbformat": 4,
 "nbformat_minor": 4
}
