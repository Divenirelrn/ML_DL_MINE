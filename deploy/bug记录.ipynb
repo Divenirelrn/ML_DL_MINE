{
 "cells": [
  {
   "cell_type": "markdown",
   "metadata": {},
   "source": [
    "Protobuf冲突问题<br/>\n",
    "cmake .. -DMNN_BUILD_CONVERTER=true -DCMAKE_BUILD_TYPE=Debug  -DProtobuf_PROTOC_EXECUTABLE=/usr/local/protobuf/bin/protoc -DProtobuf_LIBRARIES=/usr/local/protobuf/lib/libprotobuf.so<br/>\n",
    "（显式指定protobuf库与可执行文件路径）\n"
   ]
  },
  {
   "cell_type": "markdown",
   "metadata": {},
   "source": [
    "Rknn:create rknn model failed, ret=-13<br/>\n",
    "解决：看头文件，有错误码，在模型转换时，rknn_build（或rknn_config）中有个device_platform参数，设置为rv1109"
   ]
  },
  {
   "cell_type": "markdown",
   "metadata": {},
   "source": [
    "MNN, 用python demo跑resnet50.mnn，出现以下错误：<br/>\n",
    "Load Cache file error.<br/>\n",
    "Before creating session...<br/>\n",
    "Segmentation fault (core dumped)<br/>\n",
    "这是由于python版本api借口算子不支持（用alexne.mnn可以跑）"
   ]
  },
  {
   "cell_type": "code",
   "execution_count": null,
   "metadata": {},
   "outputs": [],
   "source": []
  }
 ],
 "metadata": {
  "kernelspec": {
   "display_name": "Python 3",
   "language": "python",
   "name": "python3"
  },
  "language_info": {
   "codemirror_mode": {
    "name": "ipython",
    "version": 3
   },
   "file_extension": ".py",
   "mimetype": "text/x-python",
   "name": "python",
   "nbconvert_exporter": "python",
   "pygments_lexer": "ipython3",
   "version": "3.7.6"
  }
 },
 "nbformat": 4,
 "nbformat_minor": 4
}
