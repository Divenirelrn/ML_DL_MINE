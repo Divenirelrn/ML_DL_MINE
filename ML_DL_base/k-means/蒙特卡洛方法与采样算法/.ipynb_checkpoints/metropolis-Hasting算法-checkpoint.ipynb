{
 "cells": [
  {
   "cell_type": "markdown",
   "metadata": {},
   "source": [
    "M-H算法是为了解决MCMC算法采样效率低的问题，MCMC采样算法的接受率较低，可能经过好多次转移才会生成一个有效样本。M-H算法通过对接受率的改进提高了采样的效率。"
   ]
  },
  {
   "cell_type": "markdown",
   "metadata": {},
   "source": [
    "M-H算法形式上与接受拒绝采样类似，同样需要提议分布，同样需要接受概率"
   ]
  },
  {
   "cell_type": "markdown",
   "metadata": {},
   "source": [
    "M-H算法将接受率改为如下形式：<br/>\n",
    "$$\n",
    "q(x, x') = \\min\\{1,\\frac{\\pi(x')g(x|x')}{\\pi(x)g(x'|x)}\\}\n",
    "$$"
   ]
  },
  {
   "cell_type": "markdown",
   "metadata": {},
   "source": [
    "M-H采样算法如下：<br/>\n",
    "$input:目标分布\\pi(x)，提议分布g(x'|x)，状态转移次数阈值n_1，样本数n_2$<br/>\n",
    "$1)从任意简单概率分布采样出初始状态x_0$<br/>\n",
    "$2)for \\quad t=0 \\quad to \\quad n_1+n_2-1 \\quad do:$<br/>\n",
    "$使用提议分布g(x|x_t)采样出x^*$<br/>\n",
    "$q(x_t, x^*) = \\min\\{1,\\frac{\\pi(x^*)g(x_t|x^*)}{\\pi(x_t)g(x^*|x_t)}\\}$<br/>\n",
    "$从均匀分布U(0,1)采样出u$<br/>\n",
    "$if u < q(x_t, x^*), then$<br/>\n",
    "$x_{t+1} = x^*$<br/>\n",
    "$else:$<br/>\n",
    "$x_{t+1} = x_t$<br/>\n",
    "$end if$<br/>\n",
    "$end for$<br/>\n",
    "$output:\\{x_{n_1+1},x_{n_1+2},...,x_{n_1+n_2}\\}$"
   ]
  },
  {
   "cell_type": "code",
   "execution_count": null,
   "metadata": {},
   "outputs": [],
   "source": []
  }
 ],
 "metadata": {
  "kernelspec": {
   "display_name": "Python 3",
   "language": "python",
   "name": "python3"
  },
  "language_info": {
   "codemirror_mode": {
    "name": "ipython",
    "version": 3
   },
   "file_extension": ".py",
   "mimetype": "text/x-python",
   "name": "python",
   "nbconvert_exporter": "python",
   "pygments_lexer": "ipython3",
   "version": "3.7.6"
  }
 },
 "nbformat": 4,
 "nbformat_minor": 4
}
