{
 "cells": [
  {
   "cell_type": "markdown",
   "metadata": {},
   "source": [
    "sigmoid的函数形式：\n",
    "$$\n",
    "f(x) = \\frac{1}{1 + e^{-x}}\n",
    "$$"
   ]
  },
  {
   "attachments": {},
   "cell_type": "markdown",
   "metadata": {},
   "source": [
    "其函数图像为：\n",
    " <img src=\"1.jpg\" alt=\"\" width=\"30%\" height=\"30%\" align=\"center\" />\n",
    " 其导数形式为：\n",
    "  <img src=\"2.jpg\" alt=\"\" width=\"30%\" height=\"30%\" align=\"center\" />"
   ]
  },
  {
   "cell_type": "markdown",
   "metadata": {},
   "source": [
    "用途：输出层用作分类的激活函数，输出类别概率"
   ]
  },
  {
   "cell_type": "markdown",
   "metadata": {},
   "source": [
    "作为隐藏层激活函数的缺点：<br/>\n",
    "1.梯度消失问题：导数值恒小于0.25<1,反向传播时由于链式法则，会造成前面层的参数几乎不更新<br/>\n",
    "2.输出不以0为中心：激活函数的输出值均为正值，导致梯度下降轨迹为z字形（如下图），影响收敛速度。根据BP算法，$\\frac{\\partial{loss}}{\\partial{w_i}} = \\frac{\\partial{loss}}{\\partial{a_i}}\\frac{\\partial{a_i}}{\\partial{h}}\\frac{\\partial{h}}{\\partial{w_i}}=\\frac{\\partial{loss}}{\\partial{a_i}}\\delta'(x)a_{i-1}, \\delta'(x)为正,\\frac{\\partial{loss}}{\\partial{a_i}}对于该神经元的每一个输入符号一致（可正可负，如下图所示，对于w_{11},w_{12},w_{13},w_{14}来说，\\\\ \\frac{\\partial{loss}}{\\partial{a_1}}的符号是一致的，因此w_{11},w_{12},w_{13},w_{14}总体的变化方向是一致的），\\\\因此该神经元梯度的方向取决于a_{i-1},而对于sigmoid函数来说a_{i-1}>0,因此，w的更新方向一致$"
   ]
  },
  {
   "cell_type": "markdown",
   "metadata": {},
   "source": [
    "<img src=\"4.jpg\" alt=\"\" width=\"30%\" height=\"30%\" align=\"center\" />"
   ]
  },
  {
   "attachments": {},
   "cell_type": "markdown",
   "metadata": {},
   "source": [
    "<img src=\"8.jpg\" alt=\"\" width=\"30%\" height=\"30%\" align=\"center\" />"
   ]
  },
  {
   "cell_type": "markdown",
   "metadata": {},
   "source": [
    "tanh(双曲正切函数)，其函数形式为：\n",
    "$$\n",
    "f(x) = \\frac{e^{x} - e^{-x}}{e^{x} + e^{-x}}\n",
    "$$"
   ]
  },
  {
   "cell_type": "markdown",
   "metadata": {},
   "source": [
    "图像为：\n",
    "<img src=\"5.jpg\" alt=\"\" width=\"30%\" height=\"30%\" align=\"center\" />"
   ]
  },
  {
   "cell_type": "markdown",
   "metadata": {},
   "source": [
    "优点：输出以0为中心，性能优于sigmoid"
   ]
  },
  {
   "cell_type": "markdown",
   "metadata": {},
   "source": [
    "缺点：仍未能解决梯度消失的问题"
   ]
  },
  {
   "cell_type": "code",
   "execution_count": null,
   "metadata": {},
   "outputs": [],
   "source": []
  }
 ],
 "metadata": {
  "kernelspec": {
   "display_name": "Python 3",
   "language": "python",
   "name": "python3"
  },
  "language_info": {
   "codemirror_mode": {
    "name": "ipython",
    "version": 3
   },
   "file_extension": ".py",
   "mimetype": "text/x-python",
   "name": "python",
   "nbconvert_exporter": "python",
   "pygments_lexer": "ipython3",
   "version": "3.7.6"
  }
 },
 "nbformat": 4,
 "nbformat_minor": 4
}
