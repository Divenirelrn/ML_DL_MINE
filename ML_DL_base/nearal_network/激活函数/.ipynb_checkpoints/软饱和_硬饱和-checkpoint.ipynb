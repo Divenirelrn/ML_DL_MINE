{
 "cells": [
  {
   "cell_type": "markdown",
   "metadata": {},
   "source": [
    "诸如sigmid的激活函数，激活值趋于0的方式我们成为软饱和，其数学定义如下：\n",
    "$$\n",
    "\\lim_{x \\to \\infty}f'(x) = 0\n",
    "$$"
   ]
  },
  {
   "cell_type": "markdown",
   "metadata": {},
   "source": [
    "诸如relu的激活函数，激活值趋于0的方式我们成为软饱和，其数学定义如下：\n",
    "$$\n",
    "f'(x) = 0, if |x| > c\n",
    "$$"
   ]
  },
  {
   "cell_type": "markdown",
   "metadata": {},
   "source": [
    "软饱和与硬饱和都包含左饱和与右饱和两种情况：\n",
    "$$\n",
    "左饱和：\\lim_{x \\to -\\infty}f'(x) = 0 \\\\\n",
    "右饱和：\\lim_{x \\to +\\infty}f'(x) = 0\n",
    "$$"
   ]
  },
  {
   "cell_type": "code",
   "execution_count": null,
   "metadata": {},
   "outputs": [],
   "source": []
  }
 ],
 "metadata": {
  "kernelspec": {
   "display_name": "Python 3",
   "language": "python",
   "name": "python3"
  },
  "language_info": {
   "codemirror_mode": {
    "name": "ipython",
    "version": 3
   },
   "file_extension": ".py",
   "mimetype": "text/x-python",
   "name": "python",
   "nbconvert_exporter": "python",
   "pygments_lexer": "ipython3",
   "version": "3.7.6"
  }
 },
 "nbformat": 4,
 "nbformat_minor": 4
}
