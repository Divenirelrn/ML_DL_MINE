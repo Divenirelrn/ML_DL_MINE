{
 "cells": [
  {
   "cell_type": "markdown",
   "metadata": {},
   "source": [
    "exponential moving average，在比赛中被经常使用，在模型训练过程中，对每一个权重维护一个影子权重（shadow weight），但影子权重并不会参与训练，只是在最后几步训练中，模型会在最优点处震荡，将weight值设为最后几步的指数滑动平均，可以增强模型的鲁棒性。"
   ]
  },
  {
   "cell_type": "code",
   "execution_count": 2,
   "metadata": {},
   "outputs": [],
   "source": [
    "#pytorch没有给出官方实现，网络上的实现为：\n",
    "class EMA():\n",
    "    def __init__(self, decay):\n",
    "        self.decay = decay\n",
    "        self.shadow = {}\n",
    "\n",
    "    def register(self, name, val):\n",
    "        self.shadow[name] = val.clone()\n",
    "\n",
    "    def get(self, name):\n",
    "        return self.shadow[name]\n",
    "\n",
    "    def update(self, name, x):\n",
    "        assert name in self.shadow\n",
    "        new_average = (1.0 - self.decay) * x + self.decay * self.shadow[name]\n",
    "        self.shadow[name] = new_average.clone()"
   ]
  },
  {
   "cell_type": "code",
   "execution_count": 3,
   "metadata": {},
   "outputs": [
    {
     "ename": "SyntaxError",
     "evalue": "invalid syntax (<ipython-input-3-6702c0d31707>, line 2)",
     "output_type": "error",
     "traceback": [
      "\u001b[1;36m  File \u001b[1;32m\"<ipython-input-3-6702c0d31707>\"\u001b[1;36m, line \u001b[1;32m2\u001b[0m\n\u001b[1;33m    // init\u001b[0m\n\u001b[1;37m     ^\u001b[0m\n\u001b[1;31mSyntaxError\u001b[0m\u001b[1;31m:\u001b[0m invalid syntax\n"
     ]
    }
   ],
   "source": [
    "#使用方式：\n",
    "// init\n",
    "ema = EMA(0.999)\n",
    "\n",
    "// register\n",
    "for name, param in model.named_parameters():\n",
    "    if param.requires_grad:\n",
    "        ema.register(name, param.data)\n",
    "\n",
    "// update\n",
    "for name, param in model.named_parameters():\n",
    "    if param.requires_grad:\n",
    "        ema.update(name, param.data) "
   ]
  },
  {
   "cell_type": "code",
   "execution_count": null,
   "metadata": {},
   "outputs": [],
   "source": []
  }
 ],
 "metadata": {
  "kernelspec": {
   "display_name": "Python 3",
   "language": "python",
   "name": "python3"
  },
  "language_info": {
   "codemirror_mode": {
    "name": "ipython",
    "version": 3
   },
   "file_extension": ".py",
   "mimetype": "text/x-python",
   "name": "python",
   "nbconvert_exporter": "python",
   "pygments_lexer": "ipython3",
   "version": "3.7.6"
  }
 },
 "nbformat": 4,
 "nbformat_minor": 4
}
