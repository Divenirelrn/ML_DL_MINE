{
 "cells": [
  {
   "cell_type": "markdown",
   "metadata": {},
   "source": [
    "$凸函数是一个定义在凸集上的实值函数，对于定义域内的两点x_1,x_2，0 <= \\lambda <= 1，满足：$<br/>\n",
    "$$\n",
    "\\lambda f(x_1) + (1 - \\lambda)f(x_2) >= f(\\lambda x_1 + (1 - \\lambda)x_2)\n",
    "$$"
   ]
  },
  {
   "cell_type": "markdown",
   "metadata": {},
   "source": [
    "$Jensen不等式：对于样本集\\{x_i\\},i=1,2,...,M，若\\lambda_i >= 0 且\\sum_{i=1}^M{\\lambda_i} = 1，凸函数f(x)满足：$<br/>\n",
    "$$\n",
    "f(\\sum_{i=1}^M{\\lambda_ix_i}) <= \\sum_{i=1}^M{\\lambda_if(x_i)}\n",
    "$$\n",
    "$该式称为Jensen不等式$"
   ]
  },
  {
   "cell_type": "markdown",
   "metadata": {},
   "source": [
    "$如果将\\lambda_i看作是离散随机变量x_i的概率分布，那么Jensen不等式可写作：$<br/>\n",
    "$$\n",
    "f(E[x]) <= E[f(x)]\n",
    "$$"
   ]
  },
  {
   "cell_type": "code",
   "execution_count": null,
   "metadata": {},
   "outputs": [],
   "source": []
  }
 ],
 "metadata": {
  "kernelspec": {
   "display_name": "Python 3",
   "language": "python",
   "name": "python3"
  },
  "language_info": {
   "codemirror_mode": {
    "name": "ipython",
    "version": 3
   },
   "file_extension": ".py",
   "mimetype": "text/x-python",
   "name": "python",
   "nbconvert_exporter": "python",
   "pygments_lexer": "ipython3",
   "version": "3.7.6"
  }
 },
 "nbformat": 4,
 "nbformat_minor": 4
}
