{
 "cells": [
  {
   "cell_type": "markdown",
   "metadata": {},
   "source": [
    "logistic决策函数：<br/>\n",
    "$$h(\\pmb{x}) = \\frac{1}{e^{-(\\pmb{w^Tx}+b)}}$$"
   ]
  },
  {
   "cell_type": "markdown",
   "metadata": {},
   "source": [
    "loss函数的推导（极大似然估计）：<br/>\n",
    "$p(h(x_1),h(x_2),...,h(x_m))=p(h(x_1))p(h(x_2))...p(h(x_m))=\\prod_{i=1}^{m}{p(h(x_i))}$<br/>\n",
    "$此处假设所有样本独立同分布$<br/>"
   ]
  },
  {
   "cell_type": "markdown",
   "metadata": {},
   "source": [
    "$p(h(x_i)) = h(x_i)^{y_i}(1-h(x_i))^{1-y_i},其中y_i为标签（0或1）$"
   ]
  },
  {
   "cell_type": "markdown",
   "metadata": {},
   "source": [
    "$则ln(p(h(x_1),h(x_2),...,h(x_m))) = \\sum_{i=1}^{m}{[y_iln(h(x_i)) + (1-y_i)ln(1-h(x_i))]}$"
   ]
  },
  {
   "cell_type": "markdown",
   "metadata": {},
   "source": [
    "$对上式求最大值相当于对下式(loss)求最小值：$<br/>\n",
    "$loss = -\\sum_{i=1}^{m}{[y_iln(h(x_i)) + (1-y_i)ln(1-h(x_i))]}$"
   ]
  },
  {
   "cell_type": "markdown",
   "metadata": {},
   "source": [
    "logistic回归是凸优化的证明：<br/>\n",
    "$\\frac{\\partial{loss}}{\\partial{w}}的计算：$<br/>"
   ]
  },
  {
   "cell_type": "markdown",
   "metadata": {},
   "source": [
    "$dloss = -\\sum_{i=1}^{m}{[-\\frac{y_i}{h(x_i)}h'(x_i)\\cdot dwx_i + \\frac{1-y_i}{1-h(x_i)}h'(x_i)\\cdot dwx_i]} = -\\sum_{i=1}^{m}{\\frac{h(x_i)}{h(x_i)[1-h(x_i)]}h'(x_i)\\cdot dwx_i} = -\\sum_{i=1}^{m}{h(x_i)dwx_i}$"
   ]
  },
  {
   "cell_type": "markdown",
   "metadata": {},
   "source": [
    "$dloss = tr(dloss) = -\\sum_{i=1}^{m}{tr(x_ih(x_i)dw)}$"
   ]
  },
  {
   "cell_type": "markdown",
   "metadata": {},
   "source": [
    "$则\\frac{\\partial{loss}}{\\partial{w}} = -h(x_i)x_i^T$"
   ]
  },
  {
   "cell_type": "markdown",
   "metadata": {},
   "source": [
    "$\\frac{\\partial^2{loss}}{\\partial{w}\\partial{w^T}}的计算：$<br/>\n",
    "$记g = \\frac{\\partial{loss}}{\\partial{w}}$"
   ]
  },
  {
   "cell_type": "markdown",
   "metadata": {},
   "source": [
    "$dg = -d(h(x_i))x_i^T = (h'(x_i)\\cdot dwx_i)x_i^T$"
   ]
  },
  {
   "cell_type": "markdown",
   "metadata": {},
   "source": [
    "$dg = tr(dg) = tr(x_ix_i^Th'(x_i)\\cdot dw) = tr((x_ix_i^T\\cdot h'(x_i))^Tdw)$"
   ]
  },
  {
   "cell_type": "markdown",
   "metadata": {},
   "source": [
    "$则\\frac{\\partial^2{loss}}{\\partial{w}\\partial{w^T}} = h'(x_i)x_ix_i^T$"
   ]
  },
  {
   "cell_type": "markdown",
   "metadata": {},
   "source": [
    "$海塞矩阵H=\\frac{\\partial^2{loss}}{\\partial{w}\\partial{w^T}}>=0, 因此目标函数是凸优化，logistic回归为凸优化$"
   ]
  },
  {
   "cell_type": "code",
   "execution_count": null,
   "metadata": {},
   "outputs": [],
   "source": []
  }
 ],
 "metadata": {
  "kernelspec": {
   "display_name": "Python 3",
   "language": "python",
   "name": "python3"
  },
  "language_info": {
   "codemirror_mode": {
    "name": "ipython",
    "version": 3
   },
   "file_extension": ".py",
   "mimetype": "text/x-python",
   "name": "python",
   "nbconvert_exporter": "python",
   "pygments_lexer": "ipython3",
   "version": "3.7.6"
  }
 },
 "nbformat": 4,
 "nbformat_minor": 4
}
