{
 "cells": [
  {
   "cell_type": "markdown",
   "metadata": {},
   "source": [
    "牛顿法与拟牛顿法属于二阶优化算法"
   ]
  },
  {
   "cell_type": "markdown",
   "metadata": {},
   "source": [
    "牛顿法利用了二阶导数信息，收敛速度（迭代次数）比SGD要快"
   ]
  },
  {
   "cell_type": "markdown",
   "metadata": {},
   "source": [
    "$一元函数在x_0处存在极值的必要条件是f(x_0)=0，推广到多元函数，多元函数在x_0处存在极值的必要条件是grad(x_0)=0$<br/>\n",
    "$对多元函数在x_0处展开：$<br/>\n",
    "$$ f(x) = f(x_0) + \\nabla f(x_0)(x-x_0) + (x-x_0)^T H (x-x_0) + o((x-x_0)^T(x-x_0)) $$\n",
    "$同时对两边求梯度：$<br>\n",
    "$$ \\nabla f(x) \\approx \\nabla f(x_0) + H (x-x_0) $$\n",
    "$令\\nabla f(x_0) + H (x-x_0) = 0, 得到：$<br/>\n",
    "$$ x = x_0 - H^{-1}\\nabla f(x_0) $$\n",
    "$其中- H^{-1}\\nabla f(x_0)为牛顿方向，加上学习率，即得到牛顿法的迭代公式：$\n",
    "$$x_{k+1} = x_k - \\alpha H^{-1}\\nabla f(x_0)$$"
   ]
  },
  {
   "cell_type": "code",
   "execution_count": null,
   "metadata": {},
   "outputs": [],
   "source": []
  }
 ],
 "metadata": {
  "kernelspec": {
   "display_name": "Python 3",
   "language": "python",
   "name": "python3"
  },
  "language_info": {
   "codemirror_mode": {
    "name": "ipython",
    "version": 3
   },
   "file_extension": ".py",
   "mimetype": "text/x-python",
   "name": "python",
   "nbconvert_exporter": "python",
   "pygments_lexer": "ipython3",
   "version": "3.7.6"
  }
 },
 "nbformat": 4,
 "nbformat_minor": 4
}
