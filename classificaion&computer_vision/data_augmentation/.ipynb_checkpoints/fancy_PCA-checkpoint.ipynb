{
 "cells": [
  {
   "cell_type": "markdown",
   "metadata": {},
   "source": [
    "fancy PCA，也叫做PCA jitterring，最早在Alexnet的论文中提出，作为一种数据集扩增的手段， 能够提取出图像中的主要信息，使得预测结果对光照强度与颜色的变化不敏感。"
   ]
  },
  {
   "cell_type": "markdown",
   "metadata": {},
   "source": [
    "fancy PCA是利用PCA提取出整个训练集在R、G、B通道上的主成分，然后将每张图片的每个像素加上一个固定值：<br/>\n",
    "$$\n",
    "[p1, p2, p3][\\alpha_1 \\lambda_1, \\alpha_2 \\lambda_2, \\alpha_3 \\lambda_3]^T\n",
    "$$\n",
    "$其中，p1,p2,p3是R、G、B三通道的协方差矩阵经过特征值分解后的特征向量，\\lambda_i(i=1,2,3)是分解后的特征值，\\alpha是高斯分布G（0, 0.1）采样出来的随机值\\\\（原文中取std=0.1，一种说法是实现没有对图像进行归一化，导致特征值放大为原先的255倍，实际使用时可以将std设为100左右），\\\\对于一张特定图片，\\alpha_i(i=1,2,3)的值是固定的$"
   ]
  },
  {
   "cell_type": "markdown",
   "metadata": {},
   "source": [
    "具体步骤见fancy_PCA实现"
   ]
  },
  {
   "cell_type": "code",
   "execution_count": null,
   "metadata": {},
   "outputs": [],
   "source": []
  }
 ],
 "metadata": {
  "kernelspec": {
   "display_name": "Python 3",
   "language": "python",
   "name": "python3"
  },
  "language_info": {
   "codemirror_mode": {
    "name": "ipython",
    "version": 3
   },
   "file_extension": ".py",
   "mimetype": "text/x-python",
   "name": "python",
   "nbconvert_exporter": "python",
   "pygments_lexer": "ipython3",
   "version": "3.7.6"
  }
 },
 "nbformat": 4,
 "nbformat_minor": 4
}
