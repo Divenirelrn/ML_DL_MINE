{
 "cells": [
  {
   "cell_type": "markdown",
   "metadata": {},
   "source": [
    "Xavier初始化不适用于ReLu激活函数，如果将Xavier用于ReLU激活函数，方差会出现逐层会逐层增大，因为Xavier初始化是在输入（激活值）的均值为0的假设下推导出来的，而ReLU是以0.5为中心的，其激活值只有正值，因此相当于移除了一半的方差，推导如下："
   ]
  },
  {
   "cell_type": "markdown",
   "metadata": {},
   "source": [
    "$var(y) = var(x)var_{xavier}(W)$<br/>\n",
    "$var(y) = ReLU(var(x)var_{he}(W)) = \\frac{var(x)var_{he}(W)}{2}$<br/>\n",
    "$则\\frac{var(x)var_{he}(W)}{2} = var(x)var_{xavier}(W)$<br/>\n",
    "$推出var_{he}(W) = 2 * var_{xavier}(W)$"
   ]
  },
  {
   "cell_type": "markdown",
   "metadata": {},
   "source": [
    "因此为了补偿方差损失，kaiming_initialization采取了将方差变为原来的2倍的方法"
   ]
  },
  {
   "cell_type": "markdown",
   "metadata": {},
   "source": [
    "$对于均匀分布来说，变为w \\sim U(-\\sqrt{\\frac{12}{n_k + n_{k-1}}}, \\sqrt{\\frac{12}{n_k + n_{k-1}}})$"
   ]
  },
  {
   "cell_type": "code",
   "execution_count": null,
   "metadata": {},
   "outputs": [],
   "source": []
  }
 ],
 "metadata": {
  "kernelspec": {
   "display_name": "Python 3",
   "language": "python",
   "name": "python3"
  },
  "language_info": {
   "codemirror_mode": {
    "name": "ipython",
    "version": 3
   },
   "file_extension": ".py",
   "mimetype": "text/x-python",
   "name": "python",
   "nbconvert_exporter": "python",
   "pygments_lexer": "ipython3",
   "version": "3.7.6"
  }
 },
 "nbformat": 4,
 "nbformat_minor": 4
}
