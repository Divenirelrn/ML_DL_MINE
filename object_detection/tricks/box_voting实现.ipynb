{
 "cells": [
  {
   "cell_type": "code",
   "execution_count": 1,
   "metadata": {},
   "outputs": [
    {
     "ename": "TypeError",
     "evalue": "bbox_vote() missing 1 required positional argument: 'det'",
     "output_type": "error",
     "traceback": [
      "\u001b[1;31m---------------------------------------------------------------------------\u001b[0m",
      "\u001b[1;31mTypeError\u001b[0m                                 Traceback (most recent call last)",
      "\u001b[1;32m<ipython-input-1-a83a429b11da>\u001b[0m in \u001b[0;36m<module>\u001b[1;34m\u001b[0m\n\u001b[0;32m     37\u001b[0m \u001b[1;33m\u001b[0m\u001b[0m\n\u001b[0;32m     38\u001b[0m \u001b[1;32mif\u001b[0m \u001b[0m__name__\u001b[0m \u001b[1;33m==\u001b[0m \u001b[1;34m\"__main__\"\u001b[0m\u001b[1;33m:\u001b[0m\u001b[1;33m\u001b[0m\u001b[1;33m\u001b[0m\u001b[0m\n\u001b[1;32m---> 39\u001b[1;33m     \u001b[0mbbox_vote\u001b[0m\u001b[1;33m(\u001b[0m\u001b[1;33m)\u001b[0m\u001b[1;33m\u001b[0m\u001b[1;33m\u001b[0m\u001b[0m\n\u001b[0m",
      "\u001b[1;31mTypeError\u001b[0m: bbox_vote() missing 1 required positional argument: 'det'"
     ]
    }
   ],
   "source": [
    "\n",
    "import numpy as np\n",
    "\n",
    "def bbox_vote(det):\n",
    "    order = det[:, 4].ravel().argsort()[::-1]\n",
    "    det = det[order, :]\n",
    "    while det.shape[0] > 0:\n",
    "        # IOU\n",
    "        area = (det[:, 2] - det[:, 0] + 1) * (det[:, 3] - det[:, 1] + 1)\n",
    "        xx1 = np.maximum(det[0, 0], det[:, 0])\n",
    "        yy1 = np.maximum(det[0, 1], det[:, 1])\n",
    "        xx2 = np.minimum(det[0, 2], det[:, 2])\n",
    "        yy2 = np.minimum(det[0, 3], det[:, 3])\n",
    "        w = np.maximum(0.0, xx2 - xx1 + 1)\n",
    "        h = np.maximum(0.0, yy2 - yy1 + 1)\n",
    "        inter = w * h\n",
    "        o = inter / (area[0] + area[:] - inter)\n",
    "\n",
    "        # get needed merge det and delete these det\n",
    "        merge_index = np.where(o >= 0.3)[0]\n",
    "        det_accu = det[merge_index, :]\n",
    "        det = np.delete(det, merge_index, 0)\n",
    "\n",
    "        if merge_index.shape[0] <= 1:\n",
    "            continue\n",
    "        det_accu[:, 0:4] = det_accu[:, 0:4] * np.tile(det_accu[:, -1:], (1, 4))\n",
    "        max_score = np.max(det_accu[:, 4])\n",
    "        det_accu_sum = np.zeros((1, 5))\n",
    "        det_accu_sum[:, 0:4] = np.sum(det_accu[:, 0:4], axis=0) / np.sum(det_accu[:, -1:])\n",
    "        det_accu_sum[:, 4] = max_score\n",
    "        try:\n",
    "            dets = np.row_stack((dets, det_accu_sum))\n",
    "        except:\n",
    "            dets = det_accu_sum\n",
    "\n",
    "    dets = dets[0:750, :]\n",
    "    return dets\n",
    "\n",
    "if __name__ == \"__main__\":\n",
    "    bbox_vote()"
   ]
  },
  {
   "cell_type": "code",
   "execution_count": null,
   "metadata": {},
   "outputs": [],
   "source": []
  }
 ],
 "metadata": {
  "kernelspec": {
   "display_name": "Python 3",
   "language": "python",
   "name": "python3"
  },
  "language_info": {
   "codemirror_mode": {
    "name": "ipython",
    "version": 3
   },
   "file_extension": ".py",
   "mimetype": "text/x-python",
   "name": "python",
   "nbconvert_exporter": "python",
   "pygments_lexer": "ipython3",
   "version": "3.7.6"
  }
 },
 "nbformat": 4,
 "nbformat_minor": 4
}
