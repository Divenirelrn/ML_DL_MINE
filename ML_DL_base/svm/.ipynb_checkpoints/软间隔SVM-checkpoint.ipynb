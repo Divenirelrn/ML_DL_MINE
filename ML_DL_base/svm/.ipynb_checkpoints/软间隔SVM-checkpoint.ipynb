{
 "cells": [
  {
   "cell_type": "markdown",
   "metadata": {},
   "source": [
    "基本的SVM要求$y_i(w^Tx_i + b) >= 1$, 对于异常样本点较为敏感，可能出现过拟合现象"
   ]
  },
  {
   "cell_type": "markdown",
   "metadata": {},
   "source": [
    "因此，软间隔SVM引入松弛变量，使约束条件变为$y_i(w^Tx_i + b) >= 1 - \\xi_i$"
   ]
  },
  {
   "cell_type": "markdown",
   "metadata": {},
   "source": [
    "目标函数变为：\n",
    "$$\n",
    "\\min_{w,b}||w||^2 + C\\sum_{i=1}^{m}{\\xi_i} \\\\\n",
    "s.t. y_i(w^Tx_i + b) >= 1 - \\xi_i \\\\\n",
    "\\xi_i >= 0\n",
    "$$\n",
    "$即让\\sum_{i=1}^{m}{\\xi_i}的值越小越好（允许部分点不满足y_i(w^Tx_i + b) >= 1的约束），其中C为正则化系数，C取无穷大时，\\\\\n",
    "迫使所有的点满足y_i(w^Tx_i + b) >= 1，软间隔SVM退化为普通的SVM$"
   ]
  },
  {
   "cell_type": "markdown",
   "metadata": {},
   "source": [
    "$\\xi_i的计算可以采用0/1损失函数，即\\xi_i = l_{0/1}(y_i(w^Tx_i + b) - 1), y_i(w^Tx_i + b) - 1 < 0时\\xi_i=1;y_i(w^Tx_i + b) - 1 >= 0时\\xi_i=0$"
   ]
  },
  {
   "cell_type": "markdown",
   "metadata": {},
   "source": [
    "$但0/1损失函数数学性质不好，因此可用hinge函数替换，即\\xi_i = hinge(y_i(w^Tx_i + b) - 1) = \\max\\{0, y_i(w^Tx_i + b) - 1\\}$"
   ]
  },
  {
   "cell_type": "markdown",
   "metadata": {},
   "source": [
    "构造拉格朗日函数：<br/>\n",
    "$L(w, b, \\lambda) = \\frac{1}{2}||w||^2 + C\\sum_{i=1}^{m}{\\xi_i} + \\sum_{i=1}^{m}{\\lambda_i (1- \\xi_i - y_i(w^Tx_i + b))} - \\sum_{i=1}^{m}{\\mu_i \\xi_i}$<br/>\n",
    "$其中\\lambda_i >= 0, \\mu_i >= 0，由于约束为\\xi_i >= 0, 即-\\xi_i <= 0, 因此第四项是负号$"
   ]
  },
  {
   "cell_type": "markdown",
   "metadata": {},
   "source": [
    "$\\frac{\\partial{L}}{\\partial{w}} = 0 \\rightarrow w = \\sum_{i=1}^{m}{\\lambda_iy_ix_i}$<br/>\n",
    "$\\frac{\\partial{L}}{\\partial{b}} = 0 \\rightarrow \\sum_{i=1}^{m}{\\lambda_iy_i} = 0$<br/>\n",
    "$\\frac{\\partial{L}}{\\partial{\\xi_i}} = 0 \\rightarrow mC - \\sum_{i=1}^{m}{\\mu_i} - \\sum_{i=1}^{m}{\\lambda_i} = 0 \\rightarrow \\sum_{i=1}^{m}{(C - \\mu_i - \\lambda_i)} = 0 \\rightarrow \\mu_i + \\lambda_i = C$"
   ]
  },
  {
   "cell_type": "markdown",
   "metadata": {},
   "source": [
    "带入原式，得软间隔SVM的对偶问题：<br/>\n",
    "$$\n",
    " \\begin{cases}\n",
    " \\max_{\\lambda} [-\\frac{1}{2}\\sum_{i=1}^{m}{\\sum_{j=1}^{m}{\\lambda_i\\lambda_jy_iy_jx_i^Tx_j}} + \\sum_{i=1}^{m}{\\lambda_i}]\\\\\n",
    " s.t. \\sum_{i=1}^{m}{\\lambda_iy_i} = 0 \\\\\n",
    " 0 <= \\lambda <= C\n",
    " \\end{cases}\n",
    "$$"
   ]
  },
  {
   "cell_type": "code",
   "execution_count": null,
   "metadata": {},
   "outputs": [],
   "source": []
  }
 ],
 "metadata": {
  "kernelspec": {
   "display_name": "Python 3",
   "language": "python",
   "name": "python3"
  },
  "language_info": {
   "codemirror_mode": {
    "name": "ipython",
    "version": 3
   },
   "file_extension": ".py",
   "mimetype": "text/x-python",
   "name": "python",
   "nbconvert_exporter": "python",
   "pygments_lexer": "ipython3",
   "version": "3.7.6"
  }
 },
 "nbformat": 4,
 "nbformat_minor": 4
}
