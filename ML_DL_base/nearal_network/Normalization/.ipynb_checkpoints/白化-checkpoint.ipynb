{
 "cells": [
  {
   "cell_type": "markdown",
   "metadata": {},
   "source": [
    "白化（whitening）是一种常见的数据预处理方式，其目的是降低特征之间的相关性、减少冗余特征，以图像为例，人眼看到的图像，某个局部区域看到的信息是相似的，人眼分配给这个局部区域的权重是相近的"
   ]
  },
  {
   "cell_type": "markdown",
   "metadata": {},
   "source": [
    "经过白化预处理后的数据有以下两个特征：<br/>\n",
    "1)特征之间相关性较低<br/>\n",
    "2)每个维度的特征都具有相同的方差（NN中是每个神经元的输出）"
   ]
  },
  {
   "cell_type": "markdown",
   "metadata": {},
   "source": [
    "白化操作是对PCA处理后的数据进行进一步处理，在PCA中，我们得到降维后的数据：<br/>\n",
    "$x_{rot, i} = U^Tx_i,其中U为转换矩阵（新的特征空间的基）$<br/>\n",
    "$进一步，PCA白化是对降维后的数据进行缩放，以使得特征具有相同方差：$\n",
    "$$\n",
    "x_{PCAwhite, i} = \\frac{x_{rot, i}}{\\sqrt{\\lambda_i}},其中\\lambda_i为协方差矩阵的特征值\n",
    "$$"
   ]
  },
  {
   "cell_type": "markdown",
   "metadata": {},
   "source": [
    "ZCA白化是对PCA白化后的数据再进行进一步处理：<br/>\n",
    "$$\n",
    "x_{ZCAwhite} = Ux_{PCAwhite}\n",
    "$$"
   ]
  },
  {
   "cell_type": "markdown",
   "metadata": {},
   "source": []
  }
 ],
 "metadata": {
  "kernelspec": {
   "display_name": "Python 3",
   "language": "python",
   "name": "python3"
  },
  "language_info": {
   "codemirror_mode": {
    "name": "ipython",
    "version": 3
   },
   "file_extension": ".py",
   "mimetype": "text/x-python",
   "name": "python",
   "nbconvert_exporter": "python",
   "pygments_lexer": "ipython3",
   "version": "3.7.6"
  }
 },
 "nbformat": 4,
 "nbformat_minor": 4
}
