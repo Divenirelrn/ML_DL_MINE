{
 "cells": [
  {
   "cell_type": "code",
   "execution_count": null,
   "metadata": {},
   "outputs": [],
   "source": [
    "import random\n",
    "import math\n",
    "import matplotlib.pyplot as plt\n",
    "import seaborn as sns\n",
    "import numpy as np\n",
    "\n",
    "%matplotlib inline\n",
    "sns.set_style('darkgrid')\n",
    "plt.rcParams['figure.figsize'] = (12, 8)\n",
    "\n",
    "\n",
    "def AceeptReject(split_val):\n",
    "    global c\n",
    "    global power\n",
    "    while True:\n",
    "        x = random.uniform(0, 1)\n",
    "        y = random.uniform(0, 1)\n",
    "        if y*c <= math.pow(x - split_val, power):\n",
    "            return x\n",
    "\n",
    "power = 4\n",
    "t = 0.4  \n",
    "#定积分公式计算积分\n",
    "sum_ = (math.pow(1-t, power + 1) - math.pow(-t, power + 1)) / (power + 1)  #求积分\n",
    "x = np.linspace(0, 1, 100)\n",
    "#常数值c\n",
    "c = 0.6**4/sum_\n",
    "cc = [c for xi in x]\n",
    "plt.plot(x, cc, '--',label='c*f(x)')\n",
    "#目标概率密度函数的值f(x)\n",
    "y = [math.pow(xi - t, power)/sum_ for xi in x]\n",
    "plt.plot(x, y,label='f(x)')\n",
    "#采样10000个点\n",
    "samples = []\n",
    "for  i in range(10000):\n",
    "    samples.append(AceeptReject(t))\n",
    "plt.hist(samples, bins=50, normed=True,label='sampling')\n",
    "plt.legend()\n",
    "plt.show()"
   ]
  },
  {
   "cell_type": "code",
   "execution_count": null,
   "metadata": {},
   "outputs": [],
   "source": []
  }
 ],
 "metadata": {
  "kernelspec": {
   "display_name": "Python 3",
   "language": "python",
   "name": "python3"
  },
  "language_info": {
   "codemirror_mode": {
    "name": "ipython",
    "version": 3
   },
   "file_extension": ".py",
   "mimetype": "text/x-python",
   "name": "python",
   "nbconvert_exporter": "python",
   "pygments_lexer": "ipython3",
   "version": "3.7.6"
  }
 },
 "nbformat": 4,
 "nbformat_minor": 4
}
