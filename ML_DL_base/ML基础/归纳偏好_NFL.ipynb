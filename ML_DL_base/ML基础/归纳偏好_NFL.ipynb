{
 "cells": [
  {
   "cell_type": "markdown",
   "metadata": {},
   "source": [
    "归纳偏好：某个算法学习出多个模型（假设），具体选择哪个模型（假设），由该算法的偏好决定；也就是说，一个算法是对应于某类问题，该算法在该问题上的表现较好，而对于其他问题表现可能不好。"
   ]
  },
  {
   "cell_type": "markdown",
   "metadata": {},
   "source": [
    "奥卡姆剃刀理论：一个算法学习出多个假设，那么选择最简单的那一个"
   ]
  },
  {
   "cell_type": "markdown",
   "metadata": {},
   "source": [
    "No Free Launch(NFL,没有免费午餐定理)：在某类问题上，算法A表现比算法B好，那么一定存在另一类问题，在该类问题上，算法B比算法A表现好。<br/>\n",
    "脱离具体问题来谈论某个算法的好坏是没有意义的。"
   ]
  },
  {
   "cell_type": "code",
   "execution_count": null,
   "metadata": {},
   "outputs": [],
   "source": []
  }
 ],
 "metadata": {
  "kernelspec": {
   "display_name": "Python 3",
   "language": "python",
   "name": "python3"
  },
  "language_info": {
   "codemirror_mode": {
    "name": "ipython",
    "version": 3
   },
   "file_extension": ".py",
   "mimetype": "text/x-python",
   "name": "python",
   "nbconvert_exporter": "python",
   "pygments_lexer": "ipython3",
   "version": "3.7.6"
  }
 },
 "nbformat": 4,
 "nbformat_minor": 4
}
