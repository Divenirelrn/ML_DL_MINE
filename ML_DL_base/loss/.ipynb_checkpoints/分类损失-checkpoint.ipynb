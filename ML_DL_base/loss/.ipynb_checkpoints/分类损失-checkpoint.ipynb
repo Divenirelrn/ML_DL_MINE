{
 "cells": [
  {
   "cell_type": "markdown",
   "metadata": {},
   "source": [
    "**0-1损失:**<br/>\n",
    "$$\n",
    "L(Y, f(X)) = \n",
    "\\begin {cases}\n",
    "1, if Y \\ne f(x) \\\\\n",
    "0, otherwise\n",
    "\\end {cases}\n",
    "$$\n",
    "$即相同为0,不同为1,一般用于二分类。$<br/>\n",
    "$但数学性质不好，不连续可导，且非凸$<br/>\n",
    "$一般在应用时可以放宽条件，允许有误差，即$\n",
    "$$\n",
    "L(Y, f(X)) = \n",
    "\\begin {cases}\n",
    "1, if |Y-f(X)| >= \\epsilon \\\\\n",
    "0, otherwise\n",
    "\\end {cases}\n",
    "$$"
   ]
  },
  {
   "cell_type": "markdown",
   "metadata": {},
   "source": [
    "**binary cross entropy(BCE)loss:**\n",
    "$$\n",
    "L(Y, f(X)) = -\\sum_{i=1}^{m}{[y_iln(f(x_i)) + (1-y_i)ln(1 - f(x_i))]}\n",
    "$$\n",
    "$即二分类交叉熵损失函数，也叫负对数似然函数$\n",
    "$能够非常好地表征概率分布，一般在二分类中结合sigmoid函数使用$<br/>\n",
    "$但健壮性不好（?）$\n",
    "$Pytorch中的实现是BCEloss与BCEwithlogitsLoss(将sigmoid与BCELOSS结合)$"
   ]
  },
  {
   "cell_type": "markdown",
   "metadata": {},
   "source": [
    "**cross entropy:**<br/>\n",
    "$$\n",
    "L(Y, f(X)) = -\\sum_{i=1}^{m}{y_iln(f(x_i))}\n",
    "$$\n",
    "$与BCE相同，只是用于多分类，一般配合softmax使用$<br/>\n",
    "$Pytorch中的NLL loss是将logits经过softmax、log之后的tensor进行求cross-entropy，\\\\但它的实现中用了平均，即L(Y, f(X)) = \\frac{1}{m}\\sum_{i=1}^{m}{y_iln(f(x_i))}$<br/>\n",
    "$Pytorch中的cross-entropy loss是将softmax、log(log-softmax)与NLL loss进行了结合$"
   ]
  },
  {
   "cell_type": "markdown",
   "metadata": {},
   "source": [
    "**指数损失函数：**<br/>\n",
    "$$\n",
    "L(Y, f(X)) = exp[-yf(x)]\n",
    "$$\n",
    "$对异常值（噪声）非常敏感，通常用在AdaBoost算法中$"
   ]
  },
  {
   "cell_type": "markdown",
   "metadata": {},
   "source": [
    "**Hinge损失函数：**<br/>\n",
    "$$\n",
    "L(Y, f(X)) = max(0, 1- yf(X))\n",
    "$$\n",
    "$健壮性较好，对异常值不敏感，通常用在SVM中，用于计算松弛变量$<br/>\n",
    "$Pytorch中的实现为MultiMarginLoss$"
   ]
  },
  {
   "cell_type": "markdown",
   "metadata": {},
   "source": [
    "**perception loss(感知机损失)：**\n",
    "$$\n",
    "L(Y, f(X)) = max(0, -f(x))\n",
    "$$\n",
    "$Hinge损失的一个变种，Hinge损失对判别边界附近的点惩罚力度很高，\\\\而perception loss没有那么高，因此泛化能力不如Hinge loss$"
   ]
  },
  {
   "cell_type": "code",
   "execution_count": null,
   "metadata": {},
   "outputs": [],
   "source": []
  }
 ],
 "metadata": {
  "kernelspec": {
   "display_name": "Python 3",
   "language": "python",
   "name": "python3"
  },
  "language_info": {
   "codemirror_mode": {
    "name": "ipython",
    "version": 3
   },
   "file_extension": ".py",
   "mimetype": "text/x-python",
   "name": "python",
   "nbconvert_exporter": "python",
   "pygments_lexer": "ipython3",
   "version": "3.7.6"
  }
 },
 "nbformat": 4,
 "nbformat_minor": 4
}
