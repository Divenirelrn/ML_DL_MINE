{
 "cells": [
  {
   "cell_type": "markdown",
   "metadata": {},
   "source": [
    "分布：数据在统计图中的形状，就叫它的分布"
   ]
  },
  {
   "cell_type": "markdown",
   "metadata": {},
   "source": [
    "二项分布：<br/>\n",
    "1)做某件事的次数是固定的(n次)<br/>\n",
    "2)事件只有两种结果，0或1（正或负、红或黑、...）<br/>\n",
    "3)事件之间独立同分布，即每次实验，结果是0或1的概率相等<br/>\n",
    "4)更关心n次实验中，成功k次的概率<br/>\n",
    "记作$X \\sim B(n,p)，其中p为单词实验成功的概率，计算公式为：$<br/>\n",
    "$$\n",
    "P(X=k) = C_n^k p^k (1-p)^{n-k},k=0,1,...,n\n",
    "$$"
   ]
  },
  {
   "cell_type": "markdown",
   "metadata": {},
   "source": [
    "0-1分布：<br/>\n",
    "二项分布的特例，只做一次实验，概率计算公式：<br/>\n",
    "$$\n",
    "P(X=k) = p^k(1-p)^{1-k},k=0,1\n",
    "$$"
   ]
  },
  {
   "cell_type": "markdown",
   "metadata": {},
   "source": [
    "几何分布：<br/>\n",
    "1)做某件事的次数是固定的(k次)<br/>\n",
    "2)事件只有两种结果，0或1（正或负、红或黑、...）<br/>\n",
    "3)事件之间独立同分布，即每次实验，结果是0或1的概率相等<br/>\n",
    "4)更关心k次实验中，第n次实验成功的概率（即做几次实验才能成功一次）<br/>\n",
    "记作$X \\sim G(p)，概率计算公式：$<br/>\n",
    "$$\n",
    "P(X=k) = (1-p)^{k-1}p\n",
    "$$"
   ]
  },
  {
   "cell_type": "markdown",
   "metadata": {},
   "source": [
    "泊松分布：<br/>\n",
    "1)事件是独立事件<br/>\n",
    "2)任意相同的时间范围内，事件发生的概率相同<br/>\n",
    "3)更关心在某个时间范围内，发生某件事k次的概率<br/>\n",
    "记作$X \\sim P(\\lambda),其中 \\lambda 代表在给定时间范围内，时间发生的平均次数，概率计算公式：$<br/>\n",
    "$$\n",
    "P(X=k) = \\frac{\\lambda^k}{k!}e^{-\\lambda}, k=0,1,2,...\n",
    "$$"
   ]
  },
  {
   "cell_type": "code",
   "execution_count": null,
   "metadata": {},
   "outputs": [],
   "source": []
  }
 ],
 "metadata": {
  "kernelspec": {
   "display_name": "Python 3",
   "language": "python",
   "name": "python3"
  },
  "language_info": {
   "codemirror_mode": {
    "name": "ipython",
    "version": 3
   },
   "file_extension": ".py",
   "mimetype": "text/x-python",
   "name": "python",
   "nbconvert_exporter": "python",
   "pygments_lexer": "ipython3",
   "version": "3.7.6"
  }
 },
 "nbformat": 4,
 "nbformat_minor": 4
}
