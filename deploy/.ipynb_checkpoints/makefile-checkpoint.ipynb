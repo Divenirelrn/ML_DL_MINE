{
 "cells": [
  {
   "cell_type": "markdown",
   "metadata": {},
   "source": [
    "不同平台下makefile文件的书写方式不同，因此有CMake工具可以在多个平台下自动生成makefile"
   ]
  },
  {
   "cell_type": "markdown",
   "metadata": {},
   "source": [
    "编译需要检查语法问题，以及函数与变量声明的正确性。<br/>\n",
    "链接主要链接函数与全局变量。"
   ]
  },
  {
   "cell_type": "markdown",
   "metadata": {},
   "source": [
    "make命令会自动查找本目录下的Makefile进行编译。"
   ]
  },
  {
   "cell_type": "markdown",
   "metadata": {},
   "source": [
    "1.Makefile编译单文件：<br/>\n",
    "main:main.o<br/>\n",
    "    &emsp; gcc main.o -o main\n",
    "\n",
    "main.o:main.s<br/>\n",
    "    &emsp; gcc -c main.s -o main.o\n",
    "\n",
    "main.s:main.i<br/>\n",
    "    &emsp;gcc -S main.i -o main.s\n",
    "\n",
    "main.i:main.c<br/>\n",
    "    &emsp;gcc -E main.c -o main.i\n",
    "\n",
    ".PHONY:<br/>\n",
    "clear:<br/>\n",
    "    &emsp;rm -f main.i main.s main.o main\n"
   ]
  },
  {
   "cell_type": "markdown",
   "metadata": {},
   "source": [
    "2.变量<br/>\n",
    "=:赋值，+=:追加,:=:恒等于<br/>\n",
    "TAR = main<br/>\n",
    "OBJ = add.o mul2.o main.o<br/>\n",
    "CC := gcc<br/>\n",
    "\n",
    "\\\\$(TAR): \\\\$(OBJ)<br/>\n",
    "    &emsp;\\\\$(CC\\) \\\\$(OBJ) -o \\\\$(TAR)<br/>\n",
    "\n",
    "main.o:main.c<br/>\n",
    "    &emsp;\\\\$(CC) -c main.c -o main.o<br/>\n",
    "\n",
    "add.o:add.c<br/>\n",
    "    &emsp;\\\\$(CC) -c add.c -o add.o<br/>\n",
    "\n",
    "mul2.o:mul2.c<br/>\n",
    "    &emsp;\\\\$(CC) -c mul2.c -o mul2.o<br/>\n",
    "\n",
    ".PHONY:<br/>\n",
    "clearall:<br/>\n",
    "    &emsp;rm -rf \\\\$(TAR) \\\\$(OBJ)<br/>\n",
    "\n",
    "clear:<br/>\n",
    "    \\&emsp;rm -rf \\\\$(OBJ)<br/>\n"
   ]
  },
  {
   "cell_type": "markdown",
   "metadata": {},
   "source": [
    "3.通配符与默认变量<br/>\n",
    "%.c: 任意的.c文件, %.o：任意的.o文件, *.c：所有的.c文件, *.o：所有的.o文件<br/>\n",
    "\\\\$@:所有的目标文件，\\\\$^:所有的依赖文件，\\\\$<:所有依赖文件的第一个文件"
   ]
  },
  {
   "cell_type": "markdown",
   "metadata": {},
   "source": [
    "TAR = main<br/>\n",
    "OBJ = add.o mul2.o main.o<br/>\n",
    "CC := gcc<br/>\n",
    "RMRF := rm -rf<br/>\n",
    "\n",
    "\\\\$(TAR):\\\\$(OBJ)<br/>\n",
    "    &emsp;\\\\$(CC) \\\\$^ -o \\\\$@<br/>\n",
    "\n",
    "%.o:%.c<br/>\n",
    "    &emsp;\\\\$(CC) -c \\\\$^ -o \\\\$@<br/>\n",
    "\n",
    ".PHONY:<br/>\n",
    "clearall:<br/>\n",
    "    &emsp;\\\\$(RMRF) \\\\$(TAR) \\\\$(OBJ)<br/>\n",
    "\n",
    "clear:<br/>\n",
    "    &emsp;\\\\$(RMRF) \\\\$(OBJ)<br/>\n"
   ]
  },
  {
   "cell_type": "markdown",
   "metadata": {},
   "source": [
    "4.函数"
   ]
  },
  {
   "cell_type": "code",
   "execution_count": null,
   "metadata": {},
   "outputs": [],
   "source": []
  }
 ],
 "metadata": {
  "kernelspec": {
   "display_name": "Python 3",
   "language": "python",
   "name": "python3"
  },
  "language_info": {
   "codemirror_mode": {
    "name": "ipython",
    "version": 3
   },
   "file_extension": ".py",
   "mimetype": "text/x-python",
   "name": "python",
   "nbconvert_exporter": "python",
   "pygments_lexer": "ipython3",
   "version": "3.7.6"
  }
 },
 "nbformat": 4,
 "nbformat_minor": 4
}
