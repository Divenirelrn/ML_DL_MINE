{
 "cells": [
  {
   "cell_type": "markdown",
   "metadata": {},
   "source": [
    "最速下降算法是对梯度下降算法的改进，梯度下降算法采用固定的学习率，而最速下降算法在每次迭代时，动态计算学习率的值：\n",
    "$$\\alpha_k = argmin(x_k + \\alpha d_k)$$"
   ]
  },
  {
   "cell_type": "markdown",
   "metadata": {},
   "source": [
    "确定最优的$\\alpha$一般有两种方法：<br/>\n",
    "1)直线搜索法，也叫一维搜索法（一维寻优法），即将$\\alpha$的值离散化，如0.001，0.003，0.01，0.03，...然后对比每个值下的$x_{k+1}，得到最小值$\n",
    "2)直接对$x_{k+1}进行求导，令导数等于0，求出驻点，计算每个驻地处的值$"
   ]
  },
  {
   "cell_type": "code",
   "execution_count": null,
   "metadata": {},
   "outputs": [],
   "source": []
  }
 ],
 "metadata": {
  "kernelspec": {
   "display_name": "Python 3",
   "language": "python",
   "name": "python3"
  },
  "language_info": {
   "codemirror_mode": {
    "name": "ipython",
    "version": 3
   },
   "file_extension": ".py",
   "mimetype": "text/x-python",
   "name": "python",
   "nbconvert_exporter": "python",
   "pygments_lexer": "ipython3",
   "version": "3.7.6"
  }
 },
 "nbformat": 4,
 "nbformat_minor": 4
}
