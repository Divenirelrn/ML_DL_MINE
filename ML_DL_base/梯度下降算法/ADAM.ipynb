{
 "cells": [
  {
   "cell_type": "markdown",
   "metadata": {},
   "source": [
    "Adam(adaptive momentum estimation)是Momentum与RMSPprop的结合，是少数的真正普适、有效的优化算法"
   ]
  },
  {
   "cell_type": "markdown",
   "metadata": {},
   "source": [
    "Adam公式推导：<br/>\n",
    "$$\n",
    "动量项：m_t = \\beta_1 m_{t-1} + (1-\\beta_1) g_t $$\n",
    "$$\n",
    "RMS项：s_{v_t} = \\beta_2 s_{v_{t-1}} + (1 - \\beta_2) g_t^2\n",
    "$$\n",
    "$$\n",
    "迭代公式：x_t = x_{t-1} - \\alpha \\frac{m_t}{\\sqrt{s_{v_t}}  + \\epsilon}\n",
    "$$"
   ]
  },
  {
   "cell_type": "code",
   "execution_count": null,
   "metadata": {},
   "outputs": [],
   "source": []
  }
 ],
 "metadata": {
  "kernelspec": {
   "display_name": "Python 3",
   "language": "python",
   "name": "python3"
  },
  "language_info": {
   "codemirror_mode": {
    "name": "ipython",
    "version": 3
   },
   "file_extension": ".py",
   "mimetype": "text/x-python",
   "name": "python",
   "nbconvert_exporter": "python",
   "pygments_lexer": "ipython3",
   "version": "3.7.6"
  }
 },
 "nbformat": 4,
 "nbformat_minor": 4
}
