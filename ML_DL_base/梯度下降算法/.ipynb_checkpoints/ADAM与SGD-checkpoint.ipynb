{
 "cells": [
  {
   "cell_type": "markdown",
   "metadata": {},
   "source": [
    "Adam经过层层优化，理论上优化效果更好，为什么还要用SGD呢？"
   ]
  },
  {
   "cell_type": "markdown",
   "metadata": {},
   "source": [
    "原因：<br/>\n",
    "1.ADAM在某些数据集上可能不收敛<br/>\n",
    "SGD（with lr decay）与ADAGrad方法，学习率单调递减，模型容易收敛<br/>\n",
    "ADADelta与ADAM等方法，学习率不是单调递减，而是时大时小，因此，在训练后期，学习率震荡，可能造成训练不收敛<br/>\n",
    "2.可能错过全局最优解<br/>\n",
    "不同的优化算法，一般会达到不同的局部极小点，实践表明，自适应学习率优化算法相较于SGD或SGDM，往往会得到一个更差的结果"
   ]
  },
  {
   "cell_type": "code",
   "execution_count": null,
   "metadata": {},
   "outputs": [],
   "source": []
  }
 ],
 "metadata": {
  "kernelspec": {
   "display_name": "Python 3",
   "language": "python",
   "name": "python3"
  },
  "language_info": {
   "codemirror_mode": {
    "name": "ipython",
    "version": 3
   },
   "file_extension": ".py",
   "mimetype": "text/x-python",
   "name": "python",
   "nbconvert_exporter": "python",
   "pygments_lexer": "ipython3",
   "version": "3.7.6"
  }
 },
 "nbformat": 4,
 "nbformat_minor": 4
}
