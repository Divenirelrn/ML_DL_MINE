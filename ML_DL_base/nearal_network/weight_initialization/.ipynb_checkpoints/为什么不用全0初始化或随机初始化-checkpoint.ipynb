{
 "cells": [
  {
   "cell_type": "markdown",
   "metadata": {},
   "source": [
    "若将各层权重初始化为相同的值，那么每层网络的激活值相同，反向传播时的梯度更新也相同，那么每层神经元学习到相同的特征，称为对称网络。对称网络无法学习到不同特征，因此无法进行训练。将初始化参数设为0同样如此"
   ]
  },
  {
   "cell_type": "markdown",
   "metadata": {},
   "source": [
    "随机初始化，参数过大过过小都容易使网络训练陷入困难（出现梯度饱和现象）"
   ]
  },
  {
   "cell_type": "code",
   "execution_count": null,
   "metadata": {},
   "outputs": [],
   "source": []
  }
 ],
 "metadata": {
  "kernelspec": {
   "display_name": "Python 3",
   "language": "python",
   "name": "python3"
  },
  "language_info": {
   "codemirror_mode": {
    "name": "ipython",
    "version": 3
   },
   "file_extension": ".py",
   "mimetype": "text/x-python",
   "name": "python",
   "nbconvert_exporter": "python",
   "pygments_lexer": "ipython3",
   "version": "3.7.6"
  }
 },
 "nbformat": 4,
 "nbformat_minor": 4
}
