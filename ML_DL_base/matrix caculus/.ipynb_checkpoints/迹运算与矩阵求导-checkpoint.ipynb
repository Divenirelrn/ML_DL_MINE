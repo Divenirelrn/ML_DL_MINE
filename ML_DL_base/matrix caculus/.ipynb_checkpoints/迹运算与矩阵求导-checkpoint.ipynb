{
 "cells": [
  {
   "cell_type": "markdown",
   "metadata": {},
   "source": [
    "多元函数微分与迹的关系：<br/>\n",
    "$$df = tr(\\frac{\\partial{f}}{\\partial{X}}^TdX)$$"
   ]
  },
  {
   "cell_type": "markdown",
   "metadata": {},
   "source": [
    "微分运算法则：<br/>\n",
    "$d(X \\pm Y) = d(X) \\pm d(Y)$<br/>\n",
    "$d(XY) = (dX)Y + XdY$<br/>\n",
    "$dX^T = (dX)^T$<br/>\n",
    "$dtr(X) = tr(dx)$<br/>\n",
    "$dX^{-1}=-X^{-1}dXX^{-1}$<br/>\n",
    "$d|X| = tr(X^{*}dX), 其中X^*为伴随矩阵，若X可逆，则d|X| = |X|tr(x^{-1}dX)$<br/>\n",
    "$d(X\\cdot Y) = dX \\cdot Y + X \\cdot dY, \\cdot 表示逐元素相乘$<br/>\n",
    "$d\\delta X = \\delta'(X)dX$"
   ]
  },
  {
   "cell_type": "markdown",
   "metadata": {},
   "source": [
    "迹运算：<br/>\n",
    "$tr(a) = a, 其中a为标量$<br/>\n",
    "$tr(A^T) = tr(A)$<br/>\n",
    "$tr(A \\pm B) = tr(A) \\pm tr(B)$<br/>\n",
    "$tr(AB) = tr(BA)$<br/>\n",
    "$tr(ABC) = tr(CAB) = tr(BCA)$<br/>\n",
    "$tr(A^T(B\\cdot C)) = tr((A\\cdot B)^TC)，\\cdot 表示逐元素相乘$"
   ]
  },
  {
   "cell_type": "markdown",
   "metadata": {},
   "source": [
    "复合法则：<br/>\n",
    "$Y = AXB, 已知\\frac{\\partial{f}}{\\partial{Y}}$<br/>\n",
    "$df = tr(\\frac{\\partial{f}}{\\partial{Y}}^TdY) = tr(\\frac{\\partial{f}}{\\partial{Y}}^TAdXB) = ... = tr((A^T\\frac{\\partial{f}}{\\partial{Y}}B^T)^TdX)$<br/>\n",
    "$则\\frac{\\partial{f}}{\\partial{X}} = A^T\\frac{\\partial{f}}{\\partial{Y}}B^T$"
   ]
  },
  {
   "cell_type": "code",
   "execution_count": null,
   "metadata": {},
   "outputs": [],
   "source": []
  }
 ],
 "metadata": {
  "kernelspec": {
   "display_name": "Python 3",
   "language": "python",
   "name": "python3"
  },
  "language_info": {
   "codemirror_mode": {
    "name": "ipython",
    "version": 3
   },
   "file_extension": ".py",
   "mimetype": "text/x-python",
   "name": "python",
   "nbconvert_exporter": "python",
   "pygments_lexer": "ipython3",
   "version": "3.7.6"
  }
 },
 "nbformat": 4,
 "nbformat_minor": 4
}
