{
 "cells": [
  {
   "cell_type": "markdown",
   "metadata": {},
   "source": [
    "SVM的基本型为：<br/>\n",
    "$$\n",
    "\\min_{w,b} \\frac{1}{2}||w||^2 \\\\\n",
    "s.t. 1 - y_i(w^Tx_i + b) <= 0\n",
    "$$"
   ]
  },
  {
   "cell_type": "markdown",
   "metadata": {},
   "source": [
    "构造拉格朗日函数：$L(w, b, \\lambda) = \\frac{1}{2}||w||^2 + \\sum_{i=1}^{m}{\\lambda_i (1-y_i(w^Tx_i + b))}, 其中\\lambda_i >= 0$"
   ]
  },
  {
   "cell_type": "markdown",
   "metadata": {},
   "source": [
    "原问题的等价问题为：\n",
    "$$\n",
    " \\begin{cases}\n",
    " \\min_{w,b} \\max_{\\lambda}L(w, b, \\lambda) \\\\\n",
    " s.t. \\lambda >= 0\n",
    " \\end{cases}\n",
    "$$\n",
    "解释：<br/>\n",
    "$若1-y_i(w^Tx_i + b) > 0, 由于\\lambda >= 0, 则\\max_{\\lambda}\\lambda (1-y_i(w^Tx_i + b))=\\infty,等价问题无解$<br/>\n",
    "$若1-y_i(w^Tx_i + b) <= 0, \\max_{\\lambda}\\lambda (1-y_i(w^Tx_i + b)) = 0，则等价问题=\\min_{w,b}\\frac{1}{2}||w||^2,与原问题等价$"
   ]
  },
  {
   "cell_type": "markdown",
   "metadata": {},
   "source": [
    "等价问题（原问题）的对偶问题为：\n",
    "$$\n",
    " \\begin{cases}\n",
    " \\max_{\\lambda}\\min_{w,b}L(w, b, \\lambda) \\\\\n",
    " s.t. \\lambda >= 0\n",
    " \\end{cases}\n",
    "$$"
   ]
  },
  {
   "cell_type": "markdown",
   "metadata": {},
   "source": [
    "对偶问题与原问题是等价的：<br/>\n",
    "$ 首先，下式恒成立：\\max_{\\lambda}\\min_{w,b}L(w, b, \\lambda) >= \\min_{w,b}\\max_{\\lambda}L(w, b, \\lambda) （鸡头与凤尾）$<br/>\n",
    "$其次，原问题为凸优化问题时，等号成立,此时为强对偶$"
   ]
  },
  {
   "cell_type": "markdown",
   "metadata": {},
   "source": [
    "对对偶问题进行转化：<br/>\n",
    "$\\frac{\\partial{L}}{\\partial{w}} = 0 \\rightarrow w = \\sum_{i=1}^{m}{\\lambda_iy_ix_i}$<br/>\n",
    "$\\frac{\\partial{L}}{\\partial{b}} = 0 \\rightarrow \\sum_{i=1}^{m}{\\lambda_iy_i} = 0$"
   ]
  },
  {
   "cell_type": "markdown",
   "metadata": {},
   "source": [
    "带入对偶问题：<br/>\n",
    "$L(w, b, \\lambda) = \\frac{1}{2}(\\sum_{i=1}^{m}{\\lambda_iy_ix_i})^T(\\sum_{i=1}^{m}{\\lambda_iy_ix_i}) + \\sum_{i=1}^{m}{\\lambda_i} - \\sum_{i=1}^{m}{\\lambda_i}y_iw^Tx_i - \\sum_{i=1}^{m}{\\lambda_iy_ib} = \\frac{1}{2}\\sum_{i=1}^{m}{\\sum_{j=1}^{m}{\\lambda_i\\lambda_jy_iy_jx_i^Tx_j}} + \\sum_{i=1}^{m}{\\lambda_i} - \\sum_{i=1}^{m}{\\lambda_i}y_iw^Tx_i = -\\frac{1}{2}\\sum_{i=1}^{m}{\\sum_{j=1}^{m}{\\lambda_i\\lambda_jy_iy_jx_i^Tx_j}} + \\sum_{i=1}^{m}{\\lambda_i}$"
   ]
  },
  {
   "cell_type": "markdown",
   "metadata": {},
   "source": [
    "则对偶问题可以写成：\n",
    "$$\n",
    " \\begin{cases}\n",
    " \\max_{\\lambda} [-\\frac{1}{2}\\sum_{i=1}^{m}{\\sum_{j=1}^{m}{\\lambda_i\\lambda_jy_iy_jx_i^Tx_j}} + \\sum_{i=1}^{m}{\\lambda_i}]\\\\\n",
    " s.t. \\sum_{i=1}^{m}{\\lambda_iy_i} = 0 \\\\\n",
    " \\lambda_i >= 0\n",
    " \\end{cases}\n",
    "$$"
   ]
  },
  {
   "cell_type": "code",
   "execution_count": null,
   "metadata": {},
   "outputs": [],
   "source": []
  }
 ],
 "metadata": {
  "kernelspec": {
   "display_name": "Python 3",
   "language": "python",
   "name": "python3"
  },
  "language_info": {
   "codemirror_mode": {
    "name": "ipython",
    "version": 3
   },
   "file_extension": ".py",
   "mimetype": "text/x-python",
   "name": "python",
   "nbconvert_exporter": "python",
   "pygments_lexer": "ipython3",
   "version": "3.7.0"
  }
 },
 "nbformat": 4,
 "nbformat_minor": 4
}
