{
 "cells": [
  {
   "cell_type": "markdown",
   "metadata": {},
   "source": [
    "不同平台下makefile文件的书写方式不同，因此有CMake工具可以在多个平台下自动生成makefile"
   ]
  },
  {
   "cell_type": "markdown",
   "metadata": {},
   "source": [
    "单目录单文件<br/>\n",
    "CMAKE_MINIMUM_REQUIRED(VERSION 3.10)<br/>\n",
    "PROJECT(demo1)<br/>\n",
    "ADD_EXECUTABLE(demo1 demo1.cpp)<br/>"
   ]
  },
  {
   "cell_type": "markdown",
   "metadata": {},
   "source": [
    "单目录多文件<br/>\n",
    "CMAKE_MINIMUM_REQUIRED(VERSION 3.10)<br/>\n",
    "PROJECT(demo2)<br/>\n",
    "\n",
    "AUX_SOURCE_DIRECTORY(./ DIR_SRC)<br/>\n",
    "\n",
    "ADD_EXECUTABLE(main \\\\$\\{DIR_SRC\\})<br/>"
   ]
  },
  {
   "attachments": {
    "image.png": {
     "image/png": "[encoded data removed]"
    }
   },
   "cell_type": "markdown",
   "metadata": {},
   "source": [
    "多目录多文件：<br/>\n",
    "![image.png](attachment:image.png)\n",
    "mylib:<br/>\n",
    "AUX_SOURCE_DIRECTORY(. DIR_SUB_SRC)\n",
    "\n",
    "ADD_LIBRARY(Mylib [static|shared] \\\\$ \\{DIR_SUB_SRC\\})<br/>\n",
    "主目录：<br/>\n",
    "CMAKE_MINIMUM_REQUIRED(VERSION 3.10)<br/>\n",
    "PROJECT(demo3)<br/>\n",
    "\n",
    "AUX_SOURCE_DIRECTORY(./ DIR_SRC)<br/>\n",
    "ADD_SUBDIRECTORY(./mylib)<br/>\n",
    "\n",
    "ADD_EXECUTABLE(main \\\\${DIR_SRC})<br/>\n",
    "TARGET_LINK_LIBRARIES(main Mylib)<br/>"
   ]
  },
  {
   "attachments": {
    "image.png": {
     "image/png": "[encoded data removed]"
    }
   },
   "cell_type": "markdown",
   "metadata": {},
   "source": [
    "多文件多目录标准结构：<br/>\n",
    "![image.png](attachment:image.png)\n",
    "mylib:<br/>\n",
    "AUX_SOURCE_DIRECTORY(. DIR_SUB_SRCS)<br/>\n",
    "\n",
    "SET(LIBRARY_OUTPUT_PATH\\\\ ${PROJECT_BINARY_DIR}/lib)<br/>\n",
    "\n",
    "ADD_LIBRARY(Mylib \\\\${DIR_SUB_SRCS})<br/>\n",
    "src:<br/>\n",
    "INCLUDE_DIRECTORIES(${PROJECT_SOURCE_DIR}/mylib)<br/>\n",
    "\n",
    "AUX_SOURCE_DIRECTORY(. DIR_SRCS)<br/>\n",
    "\n",
    "SET(EXECUTABLE_OUTPUT_PATH \\\\${PROJECT_BINARY_DIR}/bin)<br/>\n",
    "\n",
    "ADD_EXECUTABLE(main \\\\${DIR_SRCS})<br/>\n",
    "\n",
    "TARGET_LINK_LIBRARIES(main Mylib)<br/>\n",
    "主目录：<br/>\n",
    "CMAKE_MINIMUM_REQUIRED(VERSION 3.10)<br/>\n",
    "PROJECT(demo4)<br/>\n",
    "\n",
    "ADD_SUBDIRECTORY(./mylib)<br/>\n",
    "ADD_SUBDIRECTORY(./src)"
   ]
  },
  {
   "attachments": {
    "image.png": {
     "image/png": "[encoded data removed]"
    }
   },
   "cell_type": "markdown",
   "metadata": {},
   "source": [
    "自定义编译：<br/>\n",
    "![image.png](attachment:image.png)\n",
    "mylib:<br/>\n",
    "AUX_SOURCE_DIRECTORY(. DIR_SUB_SRCS)<br/>\n",
    "\n",
    "SET(LIBRARY_OUTPUT_PATH\\\\ ${PROJECT_BINARY_DIR}/lib)<br/>\n",
    "\n",
    "ADD_LIBRARY(Mylib \\\\${DIR_SUB_SRCS})<br/>\n",
    "\n",
    "src:<br/>\n",
    "AUX_SOURCE_DIRECTORY(. DIR_SRCS)<br/>\n",
    "\n",
    "SET(EXECUTABLE_OUTPUT_PATH \\\\${PROJECT_BINARY_DIR}/bin)<br/>\n",
    "\n",
    "CONFIGURE_FILE(<br/>\n",
    "    \"\\\\${PROJECT_SOURCE_DIR}/config/config.hpp.in\"<br/>\n",
    "    \"\\\\${PROJECT_SOURCE_DIR}/config/config.hpp\"<br/>\n",
    ")<br/>\n",
    "\n",
    "OPTION(USE_MYMATH ON)<br/>\n",
    "\n",
    "IF(USE_MYMATH)<br/>\n",
    "INCLUDE_DIRECTORIES(\\\\${PROJECT_SOURCE_DIR}/mylib)<br/>\n",
    "ENDIF(USE_MYMATH)<br/>\n",
    "\n",
    "ADD_EXECUTABLE(main \\\\${DIR_SRCS})<br/>\n",
    "\n",
    "TARGET_LINK_LIBRARIES(main Mylib)<br/>\n",
    "\n",
    "config/config.hpp.in:<br/>\n",
    "#cmakedefine USE_MYMATH<br/>\n",
    "\n",
    "main.cpp:<br/>\n",
    "#include \\\\<iostream\\\\> <br/>\n",
    "#include \"../config/config.hpp\"<br/>\n",
    "\n",
    "#ifdef USE_MYMATH<br/>\n",
    "    #include \"../mylib/myPower.h\"<br/>\n",
    "#else<br/>\n",
    "    #include <math.h><br/>\n",
    "#endif<br/>\n",
    "\n",
    "int main()<br/>\n",
    "\\{<br/>\n",
    "#ifdef USE_MYMATH<br/>\n",
    "    std::cout << \"Mymath result:\" << power(2.0, 3) << std::endl;<br/>\n",
    "#else<br/>\n",
    "    std::cout << \"Standard result:\" << pow(2, 3) << std::endl;<br/>\n",
    "#endif<br/>\n",
    "\\}<br/>\n",
    "\n",
    "\n",
    "主目录：<br/>\n",
    "CMAKE_MINIMUM_REQUIRED(VERSION 3.10)<br/>\n",
    "PROJECT(demo4)<br/>\n",
    "\n",
    "ADD_SUBDIRECTORY(./mylib)<br/>\n",
    "ADD_SUBDIRECTORY(./src)"
   ]
  },
  {
   "cell_type": "markdown",
   "metadata": {},
   "source": [
    "VSCODE下写CMakeLists需要加以下几行:<br/>\n",
    "add_definition(-std=c++11)<br/>\n",
    "\n",
    "set(CMAKE_BUILD_TYPE \"Debug\")<br/>\n",
    "set(CMAKE_CXX_FLAGS_DEBUG \"\\\\$ENV{CXXFLAGS} -O0 -Wall -g -ggdb\")<br/>\n",
    "set(CMAKE_CXX_FLAGS_RELEASE \"\\\\$ENV{CXXFFLAGS} -O3 -Wall\")<br/>"
   ]
  },
  {
   "cell_type": "markdown",
   "metadata": {},
   "source": [
    "定制安装规则：<br/>\n",
    "首先先在 math/CMakeLists.txt 文件里添加下面两行：<br/>\n",
    "#指定 MathFunctions 库的安装路径<br/>\n",
    "install (TARGETS MathFunctions DESTINATION bin)<br/>\n",
    "install (FILES MathFunctions.h DESTINATION include)<br/>\n",
    "指明 MathFunctions 库的安装路径。之后同样修改根目录的 CMakeLists 文件，在末尾添加下面几行：<br/>\n",
    "#指定安装路径<br/>\n",
    "install (TARGETS Demo DESTINATION bin)<br/>\n",
    "install (FILES \"${PROJECT_BINARY_DIR}/config.h\" DESTINATION include)<br/>\n",
    "通过上面的定制，生成的 Demo 文件和 MathFunctions 函数库 libMathFunctions.o 文件将会被复制到 /usr/local/bin 中，而 MathFunctions.h 和生成的 config.h 文件则会被复制到 /usr/local/include 中。我们可以验证一下（顺带一提的是，这里的 /usr/local/ 是默认安装到的根目录，可以通过修改 CMAKE_INSTALL_PREFIX 变量的值来指定这些文件应该拷贝到哪个根目录）：<br/>\n",
    "make install"
   ]
  },
  {
   "cell_type": "markdown",
   "metadata": {},
   "source": [
    "为工程添加测试:<br/>\n",
    "在项目根目录的 CMakeLists 文件中调用一系列的 add_test 命令:<br/>\n",
    "#启用测试<br/>\n",
    "enable_testing()<br/>\n",
    "\n",
    "#测试程序是否成功运行<br/>\n",
    "add_test (test_run Demo 5 2)<br/>\n",
    "\n",
    "#测试帮助信息是否可以正常提示<br/>\n",
    "add_test (test_usage Demo)<br/>\n",
    "set_tests_properties (test_usage PROPERTIES PASS_REGULAR_EXPRESSION \"Usage: .* base exponent\")<br/>\n",
    "\n",
    "#测试 5 的平方<br/>\n",
    "add_test (test_5_2 Demo 5 2)<br/>\n",
    "\n",
    "set_tests_properties (test_5_2 PROPERTIES PASS_REGULAR_EXPRESSION \"is 25\")<br/>\n",
    "\n",
    "#测试 10 的 5 次方<br/>\n",
    "add_test (test_10_5 Demo 10 5)<br/>\n",
    "\n",
    "set_tests_properties (test_10_5 PROPERTIES PASS_REGULAR_EXPRESSION \"is 100000\")<br/>\n",
    "\n",
    "#测试 2 的 10 次方<br/>\n",
    "add_test (test_2_10 Demo 2 10)<br/>\n",
    "\n",
    "set_tests_properties (test_2_10 PROPERTIES PASS_REGULAR_EXPRESSION \"is 1024\")<br/>\n",
    "上面的代码包含了四个测试。第一个测试 test_run 用来测试程序是否成功运行并返回 0 值。剩下的三个测试分别用来测试 5 的 平方、10 的 5 次方、2 的 10 次方是否都能得到正确的结果。其中 PASS_REGULAR_EXPRESSION 用来测试输出是否包含后面跟着的字符串。<br/>\n",
    "最后执行make test"
   ]
  },
  {
   "cell_type": "code",
   "execution_count": null,
   "metadata": {},
   "outputs": [],
   "source": []
  }
 ],
 "metadata": {
  "kernelspec": {
   "display_name": "Python 3",
   "language": "python",
   "name": "python3"
  },
  "language_info": {
   "codemirror_mode": {
    "name": "ipython",
    "version": 3
   },
   "file_extension": ".py",
   "mimetype": "text/x-python",
   "name": "python",
   "nbconvert_exporter": "python",
   "pygments_lexer": "ipython3",
   "version": "3.7.6"
  }
 },
 "nbformat": 4,
 "nbformat_minor": 4
}
