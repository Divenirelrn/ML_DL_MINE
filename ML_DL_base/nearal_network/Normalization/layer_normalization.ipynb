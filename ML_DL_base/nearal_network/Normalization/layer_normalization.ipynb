{
 "cells": [
  {
   "cell_type": "markdown",
   "metadata": {},
   "source": [
    "batch norm有两个主要缺点：<br/>\n",
    "1)当mini-batch很小时，由于mini-batch无法代替整个训练集的期望与方差，因此mini-batch越小，训练效果越差<br/>\n",
    "2)无法在RNN中直接使用batch norm<br/>\n",
    "layer normalization可以避免上述两个缺点"
   ]
  },
  {
   "cell_type": "markdown",
   "metadata": {},
   "source": [
    "batch norm是按照神经元的维度(在cnn中是根据b,c,h,w中的c)进行标准化,是针对mini-batch进行的，而layer norm是按照层的维度进行标准化,是针对单个样本进行的"
   ]
  },
  {
   "cell_type": "markdown",
   "metadata": {},
   "source": [
    "layer norm具体推导如下：<br/>\n",
    "$\\mu_l = \\frac{1}{n}\\sum_{i=1}^{n}{h_i^l}$<br/>\n",
    "$\\delta_l^2 = \\frac{1}{n}\\sum_{i=1}^{n}{(h_i^l - \\mu_l)^2}$<br/>\n",
    "$其中，n为上一层神经元的数量，h=w^Tx+b,为线性计算结果$"
   ]
  },
  {
   "cell_type": "markdown",
   "metadata": {},
   "source": [
    "$\\hat h^l = \\frac{h^l - \\mu_l}{\\sqrt{\\delta_l^2 + \\epsilon}}$"
   ]
  },
  {
   "cell_type": "markdown",
   "metadata": {},
   "source": [
    "$a_l = f(g_l \\cdot \\hat h_l + b_l)$<br/>\n",
    "$其中，\\cdot 表示逐元素相乘，a_l为激活值，f为激活函数，g_l为增益（gain），b_l为偏置(bias)，g_l与b_l用于做仿射变换，恢复底层特征表达能力$"
   ]
  },
  {
   "cell_type": "code",
   "execution_count": null,
   "metadata": {},
   "outputs": [],
   "source": []
  }
 ],
 "metadata": {
  "kernelspec": {
   "display_name": "Python 3",
   "language": "python",
   "name": "python3"
  },
  "language_info": {
   "codemirror_mode": {
    "name": "ipython",
    "version": 3
   },
   "file_extension": ".py",
   "mimetype": "text/x-python",
   "name": "python",
   "nbconvert_exporter": "python",
   "pygments_lexer": "ipython3",
   "version": "3.7.6"
  }
 },
 "nbformat": 4,
 "nbformat_minor": 4
}
