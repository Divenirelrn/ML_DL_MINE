{
 "cells": [
  {
   "cell_type": "markdown",
   "metadata": {},
   "source": [
    "$在给定状态概率分布\\pi的条件下构造出一个马尔科夫链，即构造出状态转移矩阵P，\\\\使其平稳分布为\\pi，细致平衡条件(Detailed Balance)为解决此问题提供了方法$"
   ]
  },
  {
   "cell_type": "markdown",
   "metadata": {},
   "source": [
    "$如果马尔科夫链的状态转移矩阵P和概率分布\\pi对所有的i和j均满足：$<br/>\n",
    "$$\\pi_{i}p_{ij} = \\pi_{j}p{ji}$$<br/>\n",
    "$即对\\forall i,j,处于i的概率乘以从状态i到状态j的概率等于处于状态j的概率乘以\\\\从状态j转移到状态i的概率，则\\pi 为马尔科夫链的平稳分布，此条件称为细致平衡条件$"
   ]
  },
  {
   "cell_type": "markdown",
   "metadata": {},
   "source": [
    "细致平衡条件是平稳分布的充分条件而非必要条件"
   ]
  },
  {
   "cell_type": "code",
   "execution_count": null,
   "metadata": {},
   "outputs": [],
   "source": []
  }
 ],
 "metadata": {
  "kernelspec": {
   "display_name": "Python 3",
   "language": "python",
   "name": "python3"
  },
  "language_info": {
   "codemirror_mode": {
    "name": "ipython",
    "version": 3
   },
   "file_extension": ".py",
   "mimetype": "text/x-python",
   "name": "python",
   "nbconvert_exporter": "python",
   "pygments_lexer": "ipython3",
   "version": "3.7.6"
  }
 },
 "nbformat": 4,
 "nbformat_minor": 4
}
