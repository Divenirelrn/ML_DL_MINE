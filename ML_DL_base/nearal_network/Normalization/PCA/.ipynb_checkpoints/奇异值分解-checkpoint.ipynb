{
 "cells": [
  {
   "cell_type": "markdown",
   "metadata": {},
   "source": [
    "SVD是特征值分解的推广，特征值分解是针对方阵，SVD是针对一般情况"
   ]
  },
  {
   "cell_type": "markdown",
   "metadata": {},
   "source": [
    "$A是一个m \\times n的矩阵，则A可分解为如下形式：$<br/>\n",
    "$$\n",
    "A = U\\Sigma V^T\n",
    "$$\n",
    "$其中，\\Sigma为m \\times n的矩阵，其对角线元素为A的奇异值，即特征值的开方：$<br/>\n",
    "$$\n",
    "\\Sigma = \\left[ \\begin{matrix} \\delta_1 & 0 & ... & 0\\\\ 0 & \\delta_2 & ... & 0 \\\\ ... \\\\ 0 & 0 & ... & \\delta_n \\\\ 0 & 0 & ... & 0 \\\\ ...\\end{matrix} \\right] =\\left[ \\begin{matrix} \\sqrt{\\lambda_1} & 0 & ... & 0\\\\ 0 & \\sqrt{\\lambda_2} & ... & 0 \\\\ ... \\\\ 0 & 0 & ... & \\sqrt{\\lambda_n} \\\\ 0 & 0 & ... & 0 \\\\ ...\\end{matrix} \\right]\n",
    "$$\n",
    "$U是一个m \\times m的矩阵，其每一列为AA^T的特征向量，称为左奇异向量，\\\\V是一个n \\times n的矩阵，其每一列为A^TA的特征向量，称为右奇异向量$"
   ]
  },
  {
   "cell_type": "markdown",
   "metadata": {},
   "source": [
    "$SVD计算举例：$<br/>\n",
    "$A = \\left[ \\begin{matrix} 0 & 1\\\\ 1 & 1 \\\\ 1 & 0\\end{matrix} \\right]$<br/>\n",
    "$计算AA^T与A^TA:$<br/>\n",
    "$A^TA = \\left[ \\begin{matrix} 2 & 1\\\\ 1 & 2\\end{matrix} \\right]$<br/>\n",
    "$AA^T = \\left[ \\begin{matrix} 1 & 1 & 0\\\\ 1 & 2 & 1 \\\\ 0 & 1 & 1\\end{matrix} \\right]$<br/>\n",
    "$求出A^TA的特征值与特征向量：$<br/>\n",
    "$|\\lambda E - A| = 0 \\rightarrow \\lambda_1 = 3, \\lambda_2 = 1$<br/>\n",
    "$\\lambda = 3时，求解线性方程组（A - 3E）x = 0, A - 3E = \\left[ \\begin{matrix} -1 & 1\\\\ 1 & -1\\end{matrix} \\right], \\\\利用初等变换得：A-3E \\rightarrow \\left[ \\begin{matrix} 1 & -1\\\\ 0 & 0\\end{matrix} \\right]，得x_1=1, x_2=1,单位化后得基础解系v_1 = \\left[ \\begin{matrix} \\frac{1}{\\sqrt{2}} \\\\ \\frac{1}{\\sqrt{2}} \\end{matrix} \\right] \\\\ 此即对应于\\lambda = 3的特征向量$<br/>\n",
    "$同理，\\lambda=1时， 得v_2 = \\left[ \\begin{matrix} -\\frac{1}{\\sqrt{2}} \\\\ \\frac{1}{\\sqrt{2}} \\end{matrix} \\right]$<br/>\n",
    "$同样地，求出AA^T的特征值与特征向量：$<br/>\n",
    "$\\lambda=3, u_1 = \\left[ \\begin{matrix} \\frac{1}{\\sqrt{6}} \\\\ \\frac{2}{\\sqrt{6}} \\\\ \\frac{1}{\\sqrt{6}} \\end{matrix} \\right];\\lambda=1, u_2 = \\left[ \\begin{matrix} \\frac{1}{\\sqrt{2}} \\\\ 0 \\\\ -\\frac{1}{\\sqrt{2}} \\end{matrix} \\right]; \\lambda=0, u_3 = \\left[ \\begin{matrix} \\frac{1}{\\sqrt{3}} \\\\ -\\frac{1}{\\sqrt{3}} \\\\ -\\frac{1}{\\sqrt{3}} \\end{matrix} \\right]$<br/>\n",
    "$利用A^TA的特征值求出奇异值：\\delta_1 = \\sqrt{3}, \\delta_2 = 1$<br/>\n",
    "$最终A的奇异值分解形式：$<br/>\n",
    "$A = U\\Sigma V^T = \\left[ \\begin{matrix} \\frac{1}{\\sqrt{6}} & \\frac{1}{\\sqrt{2}} & \\frac{1}{\\sqrt{3}}\\\\ \\frac{2}{\\sqrt{6}} & 0 & -\\frac{1}{\\sqrt{3}} \\\\ \\frac{1}{\\sqrt{6}} & -\\frac{1}{\\sqrt{2}} & \\frac{1}{\\sqrt{3}}\\end{matrix} \\right] \\left[ \\begin{matrix} \\sqrt{3} & 0\\\\ 0 & 1 \\\\ 0 & 0\\end{matrix} \\right] \\left[ \\begin{matrix} \\frac{1}{\\sqrt{2}} & \\frac{1}{\\sqrt{2}}\\\\ -\\frac{1}{\\sqrt{2}} & \\frac{1}{\\sqrt{2}}\\end{matrix} \\right]$"
   ]
  },
  {
   "cell_type": "markdown",
   "metadata": {},
   "source": [
    "svd的numpy实现:<br/>\n",
    "$u,s,v = np.linalg.svd(A)$"
   ]
  },
  {
   "cell_type": "code",
   "execution_count": null,
   "metadata": {},
   "outputs": [],
   "source": []
  }
 ],
 "metadata": {
  "kernelspec": {
   "display_name": "Python 3",
   "language": "python",
   "name": "python3"
  },
  "language_info": {
   "codemirror_mode": {
    "name": "ipython",
    "version": 3
   },
   "file_extension": ".py",
   "mimetype": "text/x-python",
   "name": "python",
   "nbconvert_exporter": "python",
   "pygments_lexer": "ipython3",
   "version": "3.7.6"
  }
 },
 "nbformat": 4,
 "nbformat_minor": 4
}
