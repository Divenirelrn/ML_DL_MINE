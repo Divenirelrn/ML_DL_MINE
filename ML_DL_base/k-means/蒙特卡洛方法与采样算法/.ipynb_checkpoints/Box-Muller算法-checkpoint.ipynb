{
 "cells": [
  {
   "cell_type": "markdown",
   "metadata": {},
   "source": [
    "Box-Muller算法是一种经典的标准正态分布的采样算法，是从均匀分布采样通过变换的方式进行正态分布采样的。"
   ]
  },
  {
   "cell_type": "markdown",
   "metadata": {},
   "source": [
    "$假设u_1与u_2服从[0,1]内的均匀分布，则随机变量：$<br/>\n",
    "$$\n",
    "z_1 = \\sqrt{-2lnu_1}cos(2\\pi u_2) \\\\\n",
    "z_2 = \\sqrt{-2lnu_1}sin(2\\pi u_2)\n",
    "$$\n",
    "$服从正态分布N(0,1)$"
   ]
  },
  {
   "cell_type": "markdown",
   "metadata": {},
   "source": [
    "利用如下变换：<br/>\n",
    "$$\n",
    "x = \\delta z + \\mu\n",
    "$$\n",
    "$可将标准正态分布转化为一般正态分布$"
   ]
  },
  {
   "cell_type": "code",
   "execution_count": null,
   "metadata": {},
   "outputs": [],
   "source": []
  }
 ],
 "metadata": {
  "kernelspec": {
   "display_name": "Python 3",
   "language": "python",
   "name": "python3"
  },
  "language_info": {
   "codemirror_mode": {
    "name": "ipython",
    "version": 3
   },
   "file_extension": ".py",
   "mimetype": "text/x-python",
   "name": "python",
   "nbconvert_exporter": "python",
   "pygments_lexer": "ipython3",
   "version": "3.7.6"
  }
 },
 "nbformat": 4,
 "nbformat_minor": 4
}
