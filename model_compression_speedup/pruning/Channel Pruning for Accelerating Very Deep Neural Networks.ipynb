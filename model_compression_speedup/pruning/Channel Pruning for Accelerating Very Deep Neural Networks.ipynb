{
 "cells": [
  {
   "attachments": {},
   "cell_type": "markdown",
   "metadata": {},
   "source": []
  },
  {
   "cell_type": "markdown",
   "metadata": {},
   "source": [
    "综述：<br/>\n",
    "There has been a significant amount of work on accelerating CNNs. Many of them fall into three categories: optimized implementation [4], quantization [41], and structured simplification [22].<br/>\n",
    "Optimized implementation based methods [36, 48, 27, 4] accelerate convolution, with special convolution algorithms like FFT [48]. Quantization [8, 41] reduces floating point computational complexity.<br/>"
   ]
  },
  {
   "cell_type": "markdown",
   "metadata": {},
   "source": [
    "structured simplication:<br/>\n",
    "Sparse connection eliminates connections between neurons [17, 33, 29, 15, 14]. [52] prunes connections based on\n",
    "weights magnitude. [16] could accelerate fully connected layers up to 50×. However, in practice, the actual speed-up maybe very related to implementation.<br/>\n",
    "Tensor factorization [22, 28, 13, 24] decompose weights into several pieces. [51, 10, 12] accelerate fully connected layers with truncated SVD. [53] factorize a layer into 3 × 3 and 1 × 1 combination, driven by feature map redundancy.<br/>\n",
    "Channel pruning removes redundant channels on feature maps. There are several training-based approaches. [1, 49,\n",
    "54] regularize networks to improve accuracy. Channel-wise SSL [49] reaches high compression ratio for first few conv layers of LeNet [30] and AlexNet [26]. [54] could work well for fully connected layers. However, training-based approaches are more costly, and the effectiveness for very deep networks on large datasets is rarely exploited."
   ]
  },
  {
   "cell_type": "code",
   "execution_count": null,
   "metadata": {},
   "outputs": [],
   "source": []
  }
 ],
 "metadata": {
  "kernelspec": {
   "display_name": "Python 3",
   "language": "python",
   "name": "python3"
  },
  "language_info": {
   "codemirror_mode": {
    "name": "ipython",
    "version": 3
   },
   "file_extension": ".py",
   "mimetype": "text/x-python",
   "name": "python",
   "nbconvert_exporter": "python",
   "pygments_lexer": "ipython3",
   "version": "3.7.6"
  }
 },
 "nbformat": 4,
 "nbformat_minor": 4
}
