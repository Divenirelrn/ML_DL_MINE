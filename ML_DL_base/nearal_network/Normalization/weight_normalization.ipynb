{
 "cells": [
  {
   "cell_type": "markdown",
   "metadata": {},
   "source": [
    "weight_normalization是直接对参数进行标准化，对weight_normalization的理解要结合weight_standarization，weight_normalization是用L2范数来做标准化，weight_standarization是用期望与方差来做标准化，这两种方法本质上都是对参数进行标准化"
   ]
  },
  {
   "cell_type": "markdown",
   "metadata": {},
   "source": [
    "weight_normalization具体实现，是将参数w进行重参数化(reparameterization):<br/>\n",
    "$$\n",
    "w = g\\frac{v}{||v||}\n",
    "$$\n",
    "$其中，v是与w同方向的向量，g=||w||，用于控制w的scale$"
   ]
  },
  {
   "cell_type": "markdown",
   "metadata": {},
   "source": [
    "$自己的理解：上式等价于w = g\\frac{w}{||w||}，与BN和LN类似，先对w进行归一化，然后用g进行仿射变化，恢复特征表达能力$"
   ]
  },
  {
   "cell_type": "code",
   "execution_count": null,
   "metadata": {},
   "outputs": [],
   "source": []
  }
 ],
 "metadata": {
  "kernelspec": {
   "display_name": "Python 3",
   "language": "python",
   "name": "python3"
  },
  "language_info": {
   "codemirror_mode": {
    "name": "ipython",
    "version": 3
   },
   "file_extension": ".py",
   "mimetype": "text/x-python",
   "name": "python",
   "nbconvert_exporter": "python",
   "pygments_lexer": "ipython3",
   "version": "3.7.6"
  }
 },
 "nbformat": 4,
 "nbformat_minor": 4
}
