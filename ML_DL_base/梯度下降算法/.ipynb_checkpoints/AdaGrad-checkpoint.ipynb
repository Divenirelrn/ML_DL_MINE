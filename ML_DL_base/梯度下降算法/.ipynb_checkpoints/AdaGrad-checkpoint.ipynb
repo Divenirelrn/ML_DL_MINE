{
 "cells": [
  {
   "cell_type": "markdown",
   "metadata": {},
   "source": [
    "AdaGrad(Adaptive Gradient)算法，使每一次迭代中，每一个梯度分量都有自己的学习率"
   ]
  },
  {
   "cell_type": "markdown",
   "metadata": {},
   "source": [
    "AdaGrad的迭代公式：<br/>\n",
    "$$\n",
    "(x_k)_i = (x_{k-1})_i - \\alpha \\frac{(g_k)_i}{\\sqrt{\\sum_{i=1}^{k}{((g_j)_i)^2 + \\epsilon}}}\n",
    "$$\n",
    "$g_k为第k次的梯度，g_j为前k次的梯度，\\epsilon为了保证计算的稳定性，使得分母不至于成为一个很小的数，一般取10^{-8}比较合适$"
   ]
  },
  {
   "cell_type": "markdown",
   "metadata": {},
   "source": [
    "AdaGrad的问题：<br/>\n",
    "随着迭代次数增加，分母项越来越大，导致学习率越来越小，无法有效更新"
   ]
  },
  {
   "cell_type": "markdown",
   "metadata": {},
   "source": [
    "对于出现较频繁的特征（参数），累计到的分母项较大，因此学习率较小，更新的速度慢<br/>\n",
    "对于较稀疏的特征（参数），累计到的分母项较小，因此学习率较大，更新的速度快<br/>\n",
    "用这种自适应学习率的方法来更好地进行稀疏特征的学习"
   ]
  },
  {
   "cell_type": "code",
   "execution_count": null,
   "metadata": {},
   "outputs": [],
   "source": []
  }
 ],
 "metadata": {
  "kernelspec": {
   "display_name": "Python 3",
   "language": "python",
   "name": "python3"
  },
  "language_info": {
   "codemirror_mode": {
    "name": "ipython",
    "version": 3
   },
   "file_extension": ".py",
   "mimetype": "text/x-python",
   "name": "python",
   "nbconvert_exporter": "python",
   "pygments_lexer": "ipython3",
   "version": "3.7.6"
  }
 },
 "nbformat": 4,
 "nbformat_minor": 4
}
