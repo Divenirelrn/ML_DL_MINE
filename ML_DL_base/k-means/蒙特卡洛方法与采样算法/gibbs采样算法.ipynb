{
 "cells": [
  {
   "cell_type": "markdown",
   "metadata": {},
   "source": [
    "M-H采样算法主要有以下两个缺点：<br/>\n",
    "1)对于高维目标分布，采样效率依然很低<br/>\n",
    "2)对于高维分布，有时难以获取联合概率分布，而获取条件概率分布相对较简单<br/>\n",
    "因此，出现了对于高维分布采样效率较高的Gibbs采样"
   ]
  },
  {
   "cell_type": "markdown",
   "metadata": {},
   "source": [
    "Gibbs采样利用条件概率将高维分布的采样转化为一维的采样，采用了另一种方式构造细致平衡条件<br/>\n",
    "$以二维分布为例，对于概率分布p(x_1, x_2)，有两个样本点：$<br/>\n",
    "$(x_1^{(1)}, x_2^{(1)})与(x_1^{(1)}, x_2^{(2)}),其中上标表示样本号$<br/>\n",
    "$可以得出：$<br/>\n",
    "$p(x_1^{(1)}, x_2^{(1)})p(x_2^{(2)}|x_1^{(1)}) = p(x_1^{(1)})p(x_2^{(1)}|x_1^{(1)}) p(x_2^{(2)}|x_1^{(1)})$<br/>\n",
    "$p(x_1^{(1)}, x_2^{(2)})p(x_2^{(1)}|x_1^{(1)}) = p(x_1^{(1)})p(x_2^{(1)}|x_1^{(1)}) p(x_2^{(1)}|x_1^{(1)})$<br/>\n",
    "$上述两式右边完全相等，因此p(x_1^{(1)}, x_2^{(1)})p(x_2^{(2)}|x_1^{(1)}) = p(x_1^{(1)}, x_2^{(2)})p(x_2^{(1)}|x_1^{(1)})$<br/>\n",
    "$该式表明，如果限定随机向量的第一个分量，以条件概率p(x_2|x_1^{(1)})作为马尔科夫链的状态转移矩阵，\\\\则任意两个样本点之间的转移满足细致平衡条件$"
   ]
  },
  {
   "cell_type": "markdown",
   "metadata": {},
   "source": [
    "如果限定另一个分量的值，可以得出相同的结论；同样可以把结论推广为多维"
   ]
  },
  {
   "cell_type": "markdown",
   "metadata": {},
   "source": [
    "Gibbs采样的流程为：<br/>\n",
    "$(x_1^{(1)},x_2^{(1)}) \\rightarrow (x_1^{(2)},x_2^{(1)}) \\rightarrow (x_1^{(2)},x_2^{(2)}) \\rightarrow ...... \\rightarrow (x_1^{(n)},x_2^{(n)})$"
   ]
  },
  {
   "cell_type": "markdown",
   "metadata": {},
   "source": [
    "$多维Gibbs采样算法如下：$<br/>\n",
    "$input:目标分布\\pi(x_1,x_2,...,x_n)，转移次数阈值n_1，样本数n_2$<br/>\n",
    "$1)随机初始化一个样本(x_1^{(0)}, x_2^{(0),...,x_n^{(0)}})$<br/>\n",
    "$2)for \\quad t=0 \\quad n_1+n_2-1 \\quad do:$<br/>\n",
    "$从条件概率分布p(x_1|x_2^{(t)},x_3^{(t),...,x_n^{(t)}})采样出x_1^{(t+1)}$<br/>\n",
    "$从条件概率分布p(x_2|x_1^{(t+1)},x_3^{(t),...,x_n^{(t)}})采样出x_2^{(t+1)}$<br/>\n",
    "$......$<br/>\n",
    "$从条件概率分布p(x_n|x_1^{(t+1)},x_2^{(t+1),...,x_{n-1}^{(t+1)}})采样出x_n^{(t+1)}$<br/>\n",
    "$end for$<br/>\n",
    "$output:\\{ (x_1^{(n_1+1)},..., x_n^{(n_1+1)}), (x_1^{(n_1+2)},..., x_n^{(n_1+2)}),...,(x_1^{(n_1+n_2)}, x_n^{(n_1+n_2)})\\}$"
   ]
  },
  {
   "cell_type": "markdown",
   "metadata": {},
   "source": [
    "Gibbs采样不属于接受拒绝采样的范畴，无需提议分布"
   ]
  },
  {
   "cell_type": "code",
   "execution_count": null,
   "metadata": {},
   "outputs": [],
   "source": []
  }
 ],
 "metadata": {
  "kernelspec": {
   "display_name": "Python 3",
   "language": "python",
   "name": "python3"
  },
  "language_info": {
   "codemirror_mode": {
    "name": "ipython",
    "version": 3
   },
   "file_extension": ".py",
   "mimetype": "text/x-python",
   "name": "python",
   "nbconvert_exporter": "python",
   "pygments_lexer": "ipython3",
   "version": "3.7.6"
  }
 },
 "nbformat": 4,
 "nbformat_minor": 4
}
