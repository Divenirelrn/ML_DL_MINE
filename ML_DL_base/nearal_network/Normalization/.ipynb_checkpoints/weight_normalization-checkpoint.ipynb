{
 "cells": [
  {
   "cell_type": "markdown",
   "metadata": {},
   "source": [
    "weight_normalization是直接对参数进行标准化，对weight_normalization的理解要结合weight_standarization，weight_normalization是用L2范数来做标准化，weight_standarization是用期望与方差来做标准化，这两种方法本质上都是对参数进行标准化"
   ]
  },
  {
   "cell_type": "markdown",
   "metadata": {},
   "source": [
    "weight_normalization同样不依赖于mini-batch的大小<br/>\n",
    "weight_normalization的主要作用是加速网络收敛"
   ]
  },
  {
   "cell_type": "markdown",
   "metadata": {},
   "source": [
    "weight_normalization具体实现，是将参数w进行重参数化(reparameterization):<br/>\n",
    "$$\n",
    "w = g\\frac{v}{||v||}\n",
    "$$\n",
    "$其中，v是与w同方向的向量，g=||w||，用于控制w的scale$"
   ]
  },
  {
   "cell_type": "markdown",
   "metadata": {},
   "source": [
    "$自己的理解：上式等价于w = g\\frac{w}{||w||}，与BN和LN类似，先对w进行归一化，然后用g进行仿射变化，恢复特征表达能力$"
   ]
  },
  {
   "cell_type": "markdown",
   "metadata": {},
   "source": [
    "在做SGD时，分别对g与v进行更新：<br/>\n",
    "$\\nabla_gL = \\frac{\\nabla_wL v}{||v||}$<br/>\n",
    "$\\nabla_vL = \\frac{g}{||v||}\\nabla_wL - \\frac{g\\nabla_gL}{||v||^2}v$"
   ]
  },
  {
   "cell_type": "markdown",
   "metadata": {},
   "source": [
    "由于weight normalization无法将每层的输出标准化，因此需要小心地权重初始化：<br/>\n",
    "$v初始化为N(0, 0.05^2)$<br/>\n",
    "$用第一个mini-batch的数据x依据下面过程走一遍forward_propgation：$<br/>\n",
    "$t = \\frac{vx}{||v||}, y = \\Phi(\\frac{t - \\mu_t}{\\delta_t})$<br/>\n",
    "$其中\\Phi为激活函数，t为激活值，\\mu与\\delta为期望与标准差$<br/>\n",
    "$然后g与b就可以初始化为如下形式：$<br/>\n",
    "$g = \\frac{1}{\\delta_t}, b = \\frac{-\\mu_t}{\\delta_t}$"
   ]
  },
  {
   "cell_type": "code",
   "execution_count": null,
   "metadata": {},
   "outputs": [],
   "source": []
  }
 ],
 "metadata": {
  "kernelspec": {
   "display_name": "Python 3",
   "language": "python",
   "name": "python3"
  },
  "language_info": {
   "codemirror_mode": {
    "name": "ipython",
    "version": 3
   },
   "file_extension": ".py",
   "mimetype": "text/x-python",
   "name": "python",
   "nbconvert_exporter": "python",
   "pygments_lexer": "ipython3",
   "version": "3.7.6"
  }
 },
 "nbformat": 4,
 "nbformat_minor": 4
}
