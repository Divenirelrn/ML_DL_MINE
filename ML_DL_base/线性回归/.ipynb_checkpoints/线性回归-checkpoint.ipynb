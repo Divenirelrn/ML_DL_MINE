{
 "cells": [
  {
   "cell_type": "markdown",
   "metadata": {},
   "source": [
    "线性回归是学习出一条曲线，使训练集上各点到该曲线的距离的平方和最小，且具有较好的泛化能力"
   ]
  },
  {
   "cell_type": "markdown",
   "metadata": {},
   "source": [
    "线性回归模型的一般形式：<br/>\n",
    "$$\n",
    "\\pmb{y} = \\pmb{w^T} \\pmb{x} + \\pmb{b} \n",
    "$$"
   ]
  },
  {
   "cell_type": "markdown",
   "metadata": {},
   "source": [
    "loss函数为均方误差：<br/>\n",
    "$$\n",
    "loss(y, f(x)) = \\sum_{i=1}^{n}{(y-f(x))^2}\n",
    "$$"
   ]
  },
  {
   "cell_type": "markdown",
   "metadata": {},
   "source": [
    "线性回归求解目标函数的方法有两种：<br/>\n",
    "1.最小二乘法：最小二乘法（最小平方法）就是利用计算值与真值之间的平方和误差来计算参数的方法，直接令$\\sum{(y-f(wx + b))^2}$的导数为0，计算出w与b<br/>\n",
    "2.梯度下降算法"
   ]
  },
  {
   "cell_type": "code",
   "execution_count": null,
   "metadata": {},
   "outputs": [],
   "source": []
  }
 ],
 "metadata": {
  "kernelspec": {
   "display_name": "Python 3",
   "language": "python",
   "name": "python3"
  },
  "language_info": {
   "codemirror_mode": {
    "name": "ipython",
    "version": 3
   },
   "file_extension": ".py",
   "mimetype": "text/x-python",
   "name": "python",
   "nbconvert_exporter": "python",
   "pygments_lexer": "ipython3",
   "version": "3.7.6"
  }
 },
 "nbformat": 4,
 "nbformat_minor": 4
}
