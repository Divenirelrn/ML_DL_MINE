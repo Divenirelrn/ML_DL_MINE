{
 "cells": [
  {
   "cell_type": "markdown",
   "metadata": {},
   "source": [
    "只要马尔科夫链满足一定的条件，那么不管初始状态如何，最终一定会收敛到一个稳定状态，称为平稳分布，即：<br/>\n",
    "$$\n",
    "\\pi P = \\pi\n",
    "$$"
   ]
  },
  {
   "cell_type": "markdown",
   "metadata": {},
   "source": [
    "马尔科夫链平稳分布存在的条件：<br/>\n",
    "1)如果一个马尔科夫链是非周期的、不可约的，当且仅当所有状态都是正常返时，平稳分布存在且唯一。<br/>\n",
    "2)如果一个马尔科夫链是非周期的、不可约的，且它的所有状态全是非常返的，或全是零常返的，此时平稳分布不存在。<br/>\n",
    "3)如果一个马尔科夫链是可约的，通常情况下存在多个平稳分布"
   ]
  },
  {
   "cell_type": "code",
   "execution_count": null,
   "metadata": {},
   "outputs": [],
   "source": []
  }
 ],
 "metadata": {
  "kernelspec": {
   "display_name": "Python 3",
   "language": "python",
   "name": "python3"
  },
  "language_info": {
   "codemirror_mode": {
    "name": "ipython",
    "version": 3
   },
   "file_extension": ".py",
   "mimetype": "text/x-python",
   "name": "python",
   "nbconvert_exporter": "python",
   "pygments_lexer": "ipython3",
   "version": "3.7.6"
  }
 },
 "nbformat": 4,
 "nbformat_minor": 4
}
