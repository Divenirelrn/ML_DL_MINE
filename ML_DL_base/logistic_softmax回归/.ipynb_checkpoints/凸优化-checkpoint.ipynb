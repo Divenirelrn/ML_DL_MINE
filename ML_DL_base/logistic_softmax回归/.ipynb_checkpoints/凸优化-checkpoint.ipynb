{
 "cells": [
  {
   "cell_type": "markdown",
   "metadata": {},
   "source": [
    "满足下面两个条件的即为凸优化问题：<br/>\n",
    "1)定义域为凸集<br/>\n",
    "2)损失函数为凸函数"
   ]
  },
  {
   "cell_type": "markdown",
   "metadata": {},
   "source": [
    "凸集：对于定义域D内的任意两点$X_1与X_2$，满足$\\alpha X_1 + (1-\\alpha)X_2 \\in D，其中0 <= \\alpha <=1$"
   ]
  },
  {
   "cell_type": "markdown",
   "metadata": {},
   "source": [
    "凸函数：对于定义域D内的任意两点$X_1与X_2$，满足$f(\\alpha X_1 + (1-\\alpha) X_2) <= \\alpha f(X_1) + (1-\\alpha)f(X_2)$"
   ]
  },
  {
   "cell_type": "markdown",
   "metadata": {},
   "source": [
    "凸优化问题的局部最优解一定为全局最优解"
   ]
  },
  {
   "cell_type": "code",
   "execution_count": null,
   "metadata": {},
   "outputs": [],
   "source": []
  }
 ],
 "metadata": {
  "kernelspec": {
   "display_name": "Python 3",
   "language": "python",
   "name": "python3"
  },
  "language_info": {
   "codemirror_mode": {
    "name": "ipython",
    "version": 3
   },
   "file_extension": ".py",
   "mimetype": "text/x-python",
   "name": "python",
   "nbconvert_exporter": "python",
   "pygments_lexer": "ipython3",
   "version": "3.7.6"
  }
 },
 "nbformat": 4,
 "nbformat_minor": 4
}
