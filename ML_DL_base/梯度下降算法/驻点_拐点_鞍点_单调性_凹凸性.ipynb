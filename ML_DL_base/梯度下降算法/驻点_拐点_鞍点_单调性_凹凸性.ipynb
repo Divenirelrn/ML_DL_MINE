{
 "cells": [
  {
   "cell_type": "markdown",
   "metadata": {},
   "source": [
    "驻点：一阶导数为0<br/>\n",
    "拐点：函数凹凸性发生变化<br/>\n",
    "鞍点：不是局部极小值的驻点，马脊方向是稳定的，但左右方向是不稳定的"
   ]
  },
  {
   "cell_type": "markdown",
   "metadata": {},
   "source": [
    "单调性：<br/>\n",
    "$f'(x)>=0，单调增;$<br/>\n",
    "$f'(x)<=0，单调减;$<br/>"
   ]
  },
  {
   "cell_type": "markdown",
   "metadata": {},
   "source": [
    "凹凸性：<br/>\n",
    "$f'(x)递增，f''(x)>0,凹函数$<br/>\n",
    "$f'(x)递减，f''(x)<0, 凸函数$"
   ]
  },
  {
   "cell_type": "code",
   "execution_count": null,
   "metadata": {},
   "outputs": [],
   "source": []
  }
 ],
 "metadata": {
  "kernelspec": {
   "display_name": "Python 3",
   "language": "python",
   "name": "python3"
  },
  "language_info": {
   "codemirror_mode": {
    "name": "ipython",
    "version": 3
   },
   "file_extension": ".py",
   "mimetype": "text/x-python",
   "name": "python",
   "nbconvert_exporter": "python",
   "pygments_lexer": "ipython3",
   "version": "3.7.6"
  }
 },
 "nbformat": 4,
 "nbformat_minor": 4
}
