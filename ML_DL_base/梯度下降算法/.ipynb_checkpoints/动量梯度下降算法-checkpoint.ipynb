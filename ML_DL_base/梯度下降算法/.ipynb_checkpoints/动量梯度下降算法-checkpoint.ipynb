{
 "cells": [
  {
   "cell_type": "markdown",
   "metadata": {},
   "source": [
    "动量项主要解决梯度下降算法中，迭代过程震荡，导致熟练速度慢的问题，依靠惯性保持迭代的方向"
   ]
  },
  {
   "cell_type": "markdown",
   "metadata": {},
   "source": [
    "动量梯度下降算法中，增量的计算公式：\n",
    "$$v_k = - \\alpha \\nabla f(x_k) + \\mu v_{k-1}$$\n",
    "其中，$\\mu$为动量项系数<br/>\n",
    "迭代公式为：<br/>\n",
    "$$\n",
    "x_k = x_{k-1} + v_k\n",
    "$$"
   ]
  },
  {
   "cell_type": "code",
   "execution_count": null,
   "metadata": {},
   "outputs": [],
   "source": []
  }
 ],
 "metadata": {
  "kernelspec": {
   "display_name": "Python 3",
   "language": "python",
   "name": "python3"
  },
  "language_info": {
   "codemirror_mode": {
    "name": "ipython",
    "version": 3
   },
   "file_extension": ".py",
   "mimetype": "text/x-python",
   "name": "python",
   "nbconvert_exporter": "python",
   "pygments_lexer": "ipython3",
   "version": "3.7.6"
  }
 },
 "nbformat": 4,
 "nbformat_minor": 4
}
