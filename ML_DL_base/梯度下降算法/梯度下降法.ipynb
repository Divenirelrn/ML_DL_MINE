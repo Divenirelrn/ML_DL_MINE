{
 "cells": [
  {
   "cell_type": "markdown",
   "metadata": {},
   "source": [
    "梯度下降算法是一种求解多元函数最值的算法<br/>\n",
    "其背后的数学依据是多元函数在某一点的负梯度方向为函数在该点下降最快的方向<br/>\n",
    "具体做法是网络参数从一个初始化状态开始，每一次都沿着负梯度的方向走一步，即通过迭代式$\\pmb{w_n} = \\pmb{w_{n-1}}+\\alpha (-\\pmb{\\nabla f(w_{n-1}}))$进行参数更新<br/>\n",
    "终止条件是函数值小于预设的一个esp值，或到达预设迭代次数"
   ]
  },
  {
   "cell_type": "code",
   "execution_count": null,
   "metadata": {},
   "outputs": [],
   "source": []
  }
 ],
 "metadata": {
  "kernelspec": {
   "display_name": "Python 3",
   "language": "python",
   "name": "python3"
  },
  "language_info": {
   "codemirror_mode": {
    "name": "ipython",
    "version": 3
   },
   "file_extension": ".py",
   "mimetype": "text/x-python",
   "name": "python",
   "nbconvert_exporter": "python",
   "pygments_lexer": "ipython3",
   "version": "3.7.6"
  }
 },
 "nbformat": 4,
 "nbformat_minor": 4
}
