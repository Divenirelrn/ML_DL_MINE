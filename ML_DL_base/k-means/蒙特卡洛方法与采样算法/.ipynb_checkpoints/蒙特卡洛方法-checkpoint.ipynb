{
 "cells": [
  {
   "cell_type": "markdown",
   "metadata": {},
   "source": [
    "蒙特卡洛方法通过构造随机数进行采样来计算某些难以计算的问题，最早用于计算复杂函数的定积分"
   ]
  },
  {
   "cell_type": "markdown",
   "metadata": {},
   "source": [
    "如计算如下定积分：<br/>\n",
    "$$\n",
    "\\int_{-1}^{1}\\sqrt{1 - x^2} dx\n",
    "$$\n",
    "在-1<=x<=1,0<=y<=1内（x,y）以均匀分布进行采样，统计落在圆外与圆内的点的数量，最后用落在圆内点的数量除以落在圆外点的数量即可得定积分的近似值：\n",
    "<img src=\"7.jpg\" alt=\"\" width=\"50%\" height=\"50%\" align=\"center\" />"
   ]
  },
  {
   "cell_type": "markdown",
   "metadata": {},
   "source": [
    "利用蒙特卡洛方法计算数学期望：<br/>\n",
    "$$\n",
    "E(f(x)) = \\int_{R^n}{f(x)p(x)} dx\n",
    "$$\n",
    "首先从概率分布p(x)抽取N个样本x_1,...,x_N，然后计算其均值：<br/>\n",
    "$$\n",
    "E(f(x)) \\approx \\frac{1}{N}\\sum_{i=1}^{N}f(x_i)\n",
    "$$"
   ]
  },
  {
   "cell_type": "code",
   "execution_count": null,
   "metadata": {},
   "outputs": [],
   "source": []
  }
 ],
 "metadata": {
  "kernelspec": {
   "display_name": "Python 3",
   "language": "python",
   "name": "python3"
  },
  "language_info": {
   "codemirror_mode": {
    "name": "ipython",
    "version": 3
   },
   "file_extension": ".py",
   "mimetype": "text/x-python",
   "name": "python",
   "nbconvert_exporter": "python",
   "pygments_lexer": "ipython3",
   "version": "3.7.6"
  }
 },
 "nbformat": 4,
 "nbformat_minor": 4
}
