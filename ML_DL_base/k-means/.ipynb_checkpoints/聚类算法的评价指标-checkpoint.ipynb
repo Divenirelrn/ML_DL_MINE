{
 "cells": [
  {
   "cell_type": "markdown",
   "metadata": {},
   "source": [
    "一个好的聚类结果应该是类间差异度高，类内差异度低"
   ]
  },
  {
   "cell_type": "markdown",
   "metadata": {},
   "source": [
    "聚类算法的评价指标大体可分为外部指标与内部指标两大类"
   ]
  },
  {
   "cell_type": "markdown",
   "metadata": {},
   "source": [
    "外部指标需要有一个参考模型作为参照，或者样本集应该有标签<br/>\n",
    "$对样本集d = \\{x_1, x_2, ..., x_m\\},定义聚类模型将样本划分为C = \\{C_1, C_2, ..., C_k\\}，参考模型将样本划分为C^* = \\{C_1^*, C_2^*, ..., C_k^*\\}，\\\\相应地定义\\lambda与\\lambda^*分别为C_k与C_k^*的簇标记向量，定义：$<br/>\n",
    "$a = |ss|, ss = \\{(x_i, x_j)|\\lambda_i = \\lambda_j, \\lambda_i^* = \\lambda_j^*，i < j\\}$<br/>\n",
    "$b = |sd|, sd = \\{(x_i, x_j)|\\lambda_i = \\lambda_j, \\lambda_i^* \\ne \\lambda_j^*，i < j\\}$<br/>\n",
    "$c = |ds|, ds = \\{(x_i, x_j)|\\lambda_i \\ne \\lambda_j, \\lambda_i^* = \\lambda_j^*，i < j\\}$<br/>\n",
    "$d = |dd|, dd = \\{(x_i, x_j)|\\lambda_i \\ne \\lambda_j, \\lambda_i^* \\ne \\lambda_j^*，i < j\\}$<br/>\n",
    "$其中，ss中的元素为一对样本，这对样本在聚类模型的划分结果中属于同一类，在参考模型的划分结果中不属于同一类，\\\\a=|ss|为集合中元素的个数，其它集合类似$"
   ]
  },
  {
   "cell_type": "markdown",
   "metadata": {},
   "source": [
    "$则常用外部指标包括：$<br/>\n",
    "$Jaccard系数：JC = \\frac{a}{a + b + c}$<br/>\n",
    "$FM指数（Fowlkes and Mallows Index）: FMI = \\sqrt{\\frac{a}{a + b}\\frac{a}{a+c}}$<br/>\n",
    "$Rand指数（RI）: RI = \\frac{2(a + d)}{m(m-1)}$<br/>"
   ]
  },
  {
   "cell_type": "markdown",
   "metadata": {},
   "source": [
    "$此外，常用的外部指标还包括purity(纯度)：$<br/>\n",
    "$purity = \\frac{1}{m}\\sum_{i=1}^{k}{\\max_j|C_k \\cap C_j^*|}$<br/>\n",
    "$如对于下面划分结果：$\n",
    "<img src=\"1.jpg\" alt=\"\" width=\"50%\" height=\"50%\" align=\"center\" />\n",
    "$cluster1的purity = \\frac{1}{6}max\\{5,1,0\\} = \\frac{5}{6}$<br/>\n",
    "$cluster2的purity = \\frac{1}{6}max\\{1,4,1\\} = \\frac{4}{6}$<br/>\n",
    "$cluster1的purity = \\frac{1}{5}max\\{2,0,3\\} = \\frac{3}{5}$<br/>\n",
    "$总的purity = \\frac{1}{17}(5+4+3) = \\frac{12}{17}$<br/>"
   ]
  },
  {
   "cell_type": "markdown",
   "metadata": {},
   "source": [
    "内部指标则不需要有参考模型，或不需要样本集有标签"
   ]
  },
  {
   "cell_type": "markdown",
   "metadata": {},
   "source": [
    "$对样本集d = \\{x_1, x_2, ..., x_m\\},定义聚类模型将样本划分为C = \\{C_1, C_2, ..., C_k\\}$<br/>\n",
    "$则avg(C_k) = \\frac{2}{|C_k|(|C_k|-1)}\\sum_{1<=i<=j<=|C_k|}{dist(x_i, x_j)},即簇内平均距离$<br/>\n",
    "$diam(C_k) = \\max_{1<=i<=j<=|C_k|}{dist(x_i, x_j)}，即簇内最大距离$<br/>\n",
    "$d_{min}(C_i, C_j) = \\min_{x_i \\in C_i, x_j \\in C_j}{dist(x_i, x_j)}，即两个簇之间的最小距离$<br/>\n",
    "$d_{center}(C_i, C_j) = dist(\\mu_i, \\mu_j),即两簇中心点之间的距离$<br/>\n"
   ]
  },
  {
   "cell_type": "markdown",
   "metadata": {},
   "source": [
    "常用的内部指标包括：<br/>\n",
    "$DB指数(DBI):\\frac{1}{k}\\sum_{i=1}^{k}{\\max_{j \\ne i}{\\frac{avg(C_i) + avg(C_j)}{d_{center}(\\mu_i, \\mu_j)}}}$<br/>\n",
    "$Dunn指数(DI): \\min_{1 <= i <= k}{\\min_{j \\ne i}{\\frac{d_{min}(C_i, C_j)}{\\max_{1<=l<=k}{diam(C_l)}}}}$"
   ]
  },
  {
   "cell_type": "markdown",
   "metadata": {},
   "source": [
    "此外，内部指标还包含SSE(sum of squared errors, 误差平方和)：<br/>\n",
    "$$\n",
    "SSE = \\sum_{i=1}^{k}{\\sum_{p \\in C_i}{|p - m_i|^2}}\n",
    "$$\n",
    "$其中p为样本点，m_i为C_i的中心点$"
   ]
  },
  {
   "cell_type": "code",
   "execution_count": null,
   "metadata": {},
   "outputs": [],
   "source": []
  }
 ],
 "metadata": {
  "kernelspec": {
   "display_name": "Python 3",
   "language": "python",
   "name": "python3"
  },
  "language_info": {
   "codemirror_mode": {
    "name": "ipython",
    "version": 3
   },
   "file_extension": ".py",
   "mimetype": "text/x-python",
   "name": "python",
   "nbconvert_exporter": "python",
   "pygments_lexer": "ipython3",
   "version": "3.7.6"
  }
 },
 "nbformat": 4,
 "nbformat_minor": 4
}
