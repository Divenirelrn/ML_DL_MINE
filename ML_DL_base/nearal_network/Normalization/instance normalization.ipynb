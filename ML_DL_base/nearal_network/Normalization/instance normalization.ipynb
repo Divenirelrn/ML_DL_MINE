{
 "cells": [
  {
   "cell_type": "markdown",
   "metadata": {},
   "source": [
    "instance normalization的提出是在一篇神经风格迁移的论文中，用于改善生成图像的质量"
   ]
  },
  {
   "cell_type": "markdown",
   "metadata": {},
   "source": [
    "instance norm与BN类似，也是在channel维度，但是针对一个样本，也就是说对一个样本的一个channel进行标准化"
   ]
  },
  {
   "cell_type": "markdown",
   "metadata": {},
   "source": [
    "神经风格迁移任务注重每个像素点的信息，若用BN，可能会造成单个样本的信息被平滑化，会丢失；若用LN，就忽略了通道间的差异，可能造成某个通道的信息丢失"
   ]
  },
  {
   "cell_type": "markdown",
   "metadata": {},
   "source": [
    "instance norm不适用的情况：<br/>\n",
    "1)MLP(普通的神经网络)<br/>\n",
    "2)RNN<br/>\n",
    "这两类网络中，单个样本单通道只有一个数据，计算统计量就失去了意义"
   ]
  },
  {
   "cell_type": "markdown",
   "metadata": {},
   "source": [
    "计算公式与BN类似：<br/>\n",
    "$y = \\frac{x - E(x)}{\\sqrt{var(x) + \\epsilon}}*\\gamma + \\beta$"
   ]
  },
  {
   "cell_type": "code",
   "execution_count": null,
   "metadata": {},
   "outputs": [],
   "source": []
  }
 ],
 "metadata": {
  "kernelspec": {
   "display_name": "Python 3",
   "language": "python",
   "name": "python3"
  },
  "language_info": {
   "codemirror_mode": {
    "name": "ipython",
    "version": 3
   },
   "file_extension": ".py",
   "mimetype": "text/x-python",
   "name": "python",
   "nbconvert_exporter": "python",
   "pygments_lexer": "ipython3",
   "version": "3.7.6"
  }
 },
 "nbformat": 4,
 "nbformat_minor": 4
}
