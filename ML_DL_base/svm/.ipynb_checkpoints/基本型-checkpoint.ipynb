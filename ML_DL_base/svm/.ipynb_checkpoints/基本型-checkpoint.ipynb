{
 "cells": [
  {
   "cell_type": "markdown",
   "metadata": {},
   "source": [
    "超平面的表达式：\n",
    "$$\n",
    "w^Tx + b = 0\n",
    "$$\n",
    "则任意一点到超平面的几何距离为：\n",
    "$$\n",
    "\\frac{|w^Tx + b|}{||w||}\n",
    "$$\n",
    "svm的目标是最大化间隔，因此也被称为大间隔分类器，间隔指的是支持向量到分类超平面的距离：\n",
    "$$\n",
    "max \\frac{2|w^Tx + b|}{||w||}\n",
    "$$\n",
    "$其中，|w^Tx + b| = \\lambda, 即对于正类的支持向量，w^Tx + b=\\lambda, 对于负类的支持向量，w^Tx + b=-\\lambda, $<br/>\n",
    "$那么，对于正类的非支持向量，y_i=1, 因此y_i(w^Tx + b)>\\lambda;对于负类的非支持向量，y_i=-1, 因此y_i(w^Tx + b)>\\lambda$<br/>\n",
    "因此，svm的基本型可写作：\n",
    "$$\n",
    "max \\frac{2\\lambda}{||w||} \\\\\n",
    "s.t. y_i(w^Tx + b)>=\\lambda\n",
    "$$\n",
    "对于函数距离（s.t.条件中的），可以同比例缩放w与b,使得$\\lambda=1$而不对几何距离（优化目标），其物理意义是在训练集上，若x是正样本，不仅要满足$w^Tx+b>0$，而且要满足$w^Tx+b>1$<br/>\n",
    "因此基本型可写为：\n",
    "$$\n",
    "min \\frac{1}{2}||w||^2 \\\\\n",
    "s.t. y_i(w^Tx + b)>= 1\n",
    "$$"
   ]
  },
  {
   "cell_type": "markdown",
   "metadata": {},
   "source": [
    "得到优化目标的解，即可得到决策函数$w^tx+b$，$w^tx+b>0$即结果为正类，$w^tx+b<0$即结果为负类"
   ]
  },
  {
   "cell_type": "code",
   "execution_count": null,
   "metadata": {},
   "outputs": [],
   "source": []
  }
 ],
 "metadata": {
  "kernelspec": {
   "display_name": "Python 3",
   "language": "python",
   "name": "python3"
  },
  "language_info": {
   "codemirror_mode": {
    "name": "ipython",
    "version": 3
   },
   "file_extension": ".py",
   "mimetype": "text/x-python",
   "name": "python",
   "nbconvert_exporter": "python",
   "pygments_lexer": "ipython3",
   "version": "3.7.6"
  }
 },
 "nbformat": 4,
 "nbformat_minor": 4
}
