{
 "cells": [
  {
   "cell_type": "markdown",
   "metadata": {},
   "source": [
    "协方差定义：<br/>\n",
    "$$\n",
    "S_{12} = \\frac{1}{n}\\sum_{i=1}^{n}{(x_i - \\bar{X})(y_i - \\bar{Y})}\n",
    "$$"
   ]
  },
  {
   "cell_type": "markdown",
   "metadata": {},
   "source": [
    "相关系数：<br/>\n",
    "$$\n",
    "R = \\frac{S_{12}}{S_1 S_2}\n",
    "$$\n",
    "$其中，S_1与S_1为样本的标准差，S_1 = \\sqrt{S_1^2}, 其中, S_1^2为样本方差（修正的）$"
   ]
  },
  {
   "cell_type": "code",
   "execution_count": null,
   "metadata": {},
   "outputs": [],
   "source": []
  }
 ],
 "metadata": {
  "kernelspec": {
   "display_name": "Python 3",
   "language": "python",
   "name": "python3"
  },
  "language_info": {
   "codemirror_mode": {
    "name": "ipython",
    "version": 3
   },
   "file_extension": ".py",
   "mimetype": "text/x-python",
   "name": "python",
   "nbconvert_exporter": "python",
   "pygments_lexer": "ipython3",
   "version": "3.7.6"
  }
 },
 "nbformat": 4,
 "nbformat_minor": 4
}
