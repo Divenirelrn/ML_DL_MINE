{
 "cells": [
  {
   "cell_type": "markdown",
   "metadata": {},
   "source": [
    "$相似矩阵：若存在可逆矩阵P, 使得P^{-1}AP = B,则称A与B相似，记作A \\sim B$"
   ]
  },
  {
   "cell_type": "markdown",
   "metadata": {},
   "source": [
    "$正交矩阵：满足A^TA = E的矩阵A为正交阵$<br/>\n",
    "$正交矩阵各个列向量都是单位向量，且两两正交（\\alpha_i^T \\alpha_j = 0，则\\alpha_i与\\alpha_j正交）$"
   ]
  },
  {
   "cell_type": "markdown",
   "metadata": {},
   "source": [
    "矩阵A可对角化的条件：A有n个线性无关的特征向量（n为矩阵的阶数）<br/>\n",
    "$记作：P^{-1}AP = diag, 其中diag = \\left[ \\begin{matrix} \\lambda_1 & 0 & ... & 0\\\\ 0 & \\lambda_2 & ... & 0 \\\\ ...... \\\\ 0 & 0 & ... & \\lambda_n \\end{matrix} \\right]$"
   ]
  },
  {
   "cell_type": "markdown",
   "metadata": {},
   "source": [
    "矩阵的特征值分解：<br/>\n",
    "$A = PdiagP^{-1}, 其中P为diag中的各特征值对应的特征向量$<br/>\n",
    "$特别地，若A为对称矩阵，则P为正交矩阵，A = PdiagP^T$"
   ]
  },
  {
   "cell_type": "code",
   "execution_count": null,
   "metadata": {},
   "outputs": [],
   "source": []
  }
 ],
 "metadata": {
  "kernelspec": {
   "display_name": "Python 3",
   "language": "python",
   "name": "python3"
  },
  "language_info": {
   "codemirror_mode": {
    "name": "ipython",
    "version": 3
   },
   "file_extension": ".py",
   "mimetype": "text/x-python",
   "name": "python",
   "nbconvert_exporter": "python",
   "pygments_lexer": "ipython3",
   "version": "3.7.6"
  }
 },
 "nbformat": 4,
 "nbformat_minor": 4
}
