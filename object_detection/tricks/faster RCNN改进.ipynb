{
 "cells": [
  {
   "cell_type": "markdown",
   "metadata": {},
   "source": [
    "FPN在应用于faster rcnn时，以resnet论文中faster rcnn的实现作为基础，而应用以下方法对基础进行改进，提升了7.6个点：<br/>\n",
    "1)输入尺寸设为800(resnet中设为600)<br/>\n",
    "2)每张图片用512个rois(fast rcnn阶段的batch_size设为512)<br/>\n",
    "3)用5个anchor scale，多了一个32x32（resnet用4个）<br/>\n",
    "4)测试阶段每张图像用1000个候选区域（resnet用300个）"
   ]
  },
  {
   "cell_type": "code",
   "execution_count": null,
   "metadata": {},
   "outputs": [],
   "source": []
  }
 ],
 "metadata": {
  "kernelspec": {
   "display_name": "Python 3",
   "language": "python",
   "name": "python3"
  },
  "language_info": {
   "codemirror_mode": {
    "name": "ipython",
    "version": 3
   },
   "file_extension": ".py",
   "mimetype": "text/x-python",
   "name": "python",
   "nbconvert_exporter": "python",
   "pygments_lexer": "ipython3",
   "version": "3.7.6"
  }
 },
 "nbformat": 4,
 "nbformat_minor": 4
}
