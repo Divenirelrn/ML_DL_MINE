{
 "cells": [
  {
   "cell_type": "markdown",
   "metadata": {},
   "source": [
    "基本马尔科夫链采样的思想就是以目标分布作为马尔科夫链的平稳分布，但要求转移概率（矩阵）时已知的，以该马尔科夫链进行采样。"
   ]
  },
  {
   "cell_type": "markdown",
   "metadata": {},
   "source": [
    "具体过程如下：首先从任意概率分布采样出一个样本，然后将该概率分布乘以转移概率分布，产生新的概率分布，从新的概率分布中采样出一个样本，然后再进行转移,...,若干次转移后，概率分布到达平稳分布（目标分布），此时从平稳分布采样出的样本即为我们需要的第一个样本，此后经过若干次转移，每次转移产生一个样本，直到产生预设数量的样本"
   ]
  },
  {
   "cell_type": "markdown",
   "metadata": {},
   "source": [
    "基本马尔科夫链采样算法如下：<br/>\n",
    "input:马尔科夫链的状态转移概率p(x'|x)，转移次数阈值$n_1$，采样样本数$n_2$<br/>\n",
    "1)从任意概率分布采样出$x_0$<br/>\n",
    "2)for t=0 tp $n_1 + n_2 - 1$， do:<br/>\n",
    "根据转移概率$p(x|x_t)$采样出$x_{t+1}$<br/>\n",
    "end for<br/>\n",
    "output:${x_{n_1+1},x_{n_1+2},...,x_{n_1+n_2}}$"
   ]
  },
  {
   "cell_type": "markdown",
   "metadata": {},
   "source": [
    "基本马尔科夫采样算法需要事先知道转移概率，因此限制了算法的应用，此后出现了诸多改进版本"
   ]
  },
  {
   "cell_type": "code",
   "execution_count": null,
   "metadata": {},
   "outputs": [],
   "source": []
  }
 ],
 "metadata": {
  "kernelspec": {
   "display_name": "Python 3",
   "language": "python",
   "name": "python3"
  },
  "language_info": {
   "codemirror_mode": {
    "name": "ipython",
    "version": 3
   },
   "file_extension": ".py",
   "mimetype": "text/x-python",
   "name": "python",
   "nbconvert_exporter": "python",
   "pygments_lexer": "ipython3",
   "version": "3.7.6"
  }
 },
 "nbformat": 4,
 "nbformat_minor": 4
}
